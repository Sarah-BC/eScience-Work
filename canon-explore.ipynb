{
 "cells": [
  {
   "cell_type": "markdown",
   "metadata": {},
   "source": [
    "# Introduction\n",
    "\n",
    "This notebook exists for the exploration and analysis of canonical data collected by the [Ocean Observatories Initiative Regional Cabeled Array](https://interactiveoceans.washington.edu/). Creating a canonical record of seawater measurements is valuable in comparing data across platforms (RCA, ARGO, MODIS, GLODAP), locally and globally. The OOI RCA has multiple working stations off the Oregon coast that will be the focus of this notebook.\n",
    "\n",
    "In order to explore data collected by the OOI RCA, we will utilize a python package called `yodapy` written by Don Setiawan at OOI. `yodapy` allows users to directly access information about the RCA and data collected by the RCA sensors. \n"
   ]
  },
  {
   "cell_type": "markdown",
   "metadata": {},
   "source": [
    "# Objectives\n",
    "\n",
    "The objective of this notebook is to identify canonical values of seawater components across several years of available data at RCA sensor locations.\n",
    "\n",
    "Overall, this includes evaluating the following:\n",
    "\n",
    "* parameters of interest: temperature, salinity, dissolved oxygen, chlorophyll, possibly nitrate, possibly photosynthetically active radiation (par)\n",
    "* depth intervals: 10 m intervals would be ideal\n",
    "* time intervals: weekly averages and standard deviations would be ideal\n",
    "* mean and standard deviation for each site, parameter, depth, and time\n",
    "* sites:\n",
    "    * 200m platforms and shallow  profilers (3 of these exist)\n",
    "    * stretch goal: deep profilers (3 of these exist)\n",
    "\n",
    "We'll begin by reducing the problem to 1 sensor, 1 parameter, 1 week, and 1 depth interval\n",
    "\n",
    "* sensor: oregon slope base shallow profiler\n",
    "* parameter: salinity\n",
    "* week: aug 1-7, 2019\n",
    "* 1 depth: first identify depth range available! \n",
    "* then find mean and stdev salinity for this location and time period"
   ]
  },
  {
   "cell_type": "markdown",
   "metadata": {},
   "source": [
    "## Specific steps necessary to achieve the minimal objective\n",
    "\n",
    "* choose a place to begin (see above)\n",
    "* check the data availability via yodapy\n",
    "    * (you can do steps 1 and 2 in opposite order if you specifically want a sensor that has good data availability)\n",
    "* download data from this sensor\n",
    "* open and read using netCDF4 function `Dataset('filename', 'r')`\n",
    "* perform statistical analysis\n",
    "* compare data over time\n",
    "\n",
    "### A note about missing data\n",
    "The RCA has limited resources and oceanic sensors are susceptible to connection issues, sensor breakages, and knock-downs that all contribute to anomalous data points or periods of missing data. For the sake of this project, time intervals that are missing a considerable amount of data (50% or more) will be marked as 'insufficient data'. \n",
    "\n",
    "* We need to agree on a work-around for anomalous data: how do we identify anomalies? how do we deal with them when we find them? We will cross this bridge when we get to it."
   ]
  },
  {
   "cell_type": "code",
   "execution_count": 1,
   "metadata": {},
   "outputs": [],
   "source": [
    "# install necessary packages\n",
    "\n",
    "# Ensure that the latest build of yodapy is installed directly from github using\n",
    "!pip install git+https://github.com/cormorack/yodapy.git -q     # -q cuts the stdout clutter"
   ]
  },
  {
   "cell_type": "code",
   "execution_count": 2,
   "metadata": {},
   "outputs": [],
   "source": [
    "# import necessary functions\n",
    "\n",
    "import numpy as np\n",
    "from numpy import datetime64 as dt64, timedelta64 as td64\n",
    "\n",
    "import os\n",
    "import xarray as xr\n",
    "import pandas as pd\n",
    "from matplotlib import pyplot as plt\n",
    "\n",
    "from netCDF4 import Dataset, num2date, date2num \n",
    "from datetime import datetime, timedelta\n",
    "\n",
    "from yodapy.datasources import OOI\n",
    "ooi = OOI()\n",
    "\n",
    "# Local application/library specific imports\n",
    "from golive_library import GoliveLibrary as g\n",
    "\n",
    "from yodapy.utils.creds import set_credentials_file"
   ]
  },
  {
   "cell_type": "markdown",
   "metadata": {},
   "source": [
    "# OOI Data\n",
    "\n",
    "Visit [OOI website](https://ooinet.oceanobservatories.org/#) to get credentials. Be sure to obscure credentials before pushing this notebook to GitHub!\n",
    "\n",
    "Sometimes the cell below will break on you! Restart the kernel and clear all output, and get a new token from OOI. If that doesn't fix it, retry everything in this notebook or the chlorophyll notebook and hope that the error messages go away.\n",
    "\n",
    "Included in this section are multiple commented cells that are useful commands for familiarizing yourself with the structure and extent of the RCA. Uncomment the commands in the multiple following cells to see all of the sites and instruments available for evaluation.\n",
    "\n",
    "If you ever get a message that says \"Please wait while we fetch the metadata...\" it might be necessary to rerun the cell that generated the message.\n",
    "\n",
    "The cell below tells the OOI that you have an account with them through which you can submit data requests. This will allow you to download data for use in this notebook. If you don't already have an account, you can easily create one on the [OOI website](https://ooinet.oceanobservatories.org/#)."
   ]
  },
  {
   "cell_type": "code",
   "execution_count": 3,
   "metadata": {},
   "outputs": [],
   "source": [
    "# Remember to obscure your username and token when you're done!!!\n",
    "\n",
    "# set_credentials_file(data_source='ooi', username='OOIAPI-xxxx', token='TEMP-TOKEN-xxxx')\n",
    "\n",
    "# Recomment this line after running it once! \n",
    "# Running it twice will break your credentials! "
   ]
  },
  {
   "cell_type": "code",
   "execution_count": 4,
   "metadata": {},
   "outputs": [],
   "source": [
    "# Run these to helpful see documentation on yodapy and ooi\n",
    "# help(ooi)\n",
    "# help(ooi.cava_sites)\n",
    "\n",
    "# Run this to see all commands included in yodapy\n",
    "# g.dirnou(ooi)\n",
    "\n",
    "# Run this to see all sites included in the OOI RCA cava project (cava = cabled array value added)\n",
    "# print(ooi.cava_sites, '\\n\\n\\n', ooi.cava_parameters)\n",
    "\n",
    "# Run this to see all the components or segments of OOI available\n",
    "# ooi.sites\n",
    "\n",
    "# Run this to see all the instruments of OOI available\n",
    "# ooi.instruments"
   ]
  },
  {
   "cell_type": "markdown",
   "metadata": {},
   "source": [
    "## Creating the workflow\n",
    "\n",
    "We can look at the workflow for this project as a series of steps:\n",
    "* obtain desired data from OOI\n",
    "* prepare data for analysis\n",
    "* calculate mean and standard deviation of data bins\n",
    "\n",
    "This section of this notebook will walk through the ways we completed each of these steps. This is our opportunity to teach others how to create a workflow for OOI RCA data analysis. After this walkthrough, these steps will be combined into a streamlined format for easier application to broader range of data. That is where we will do comparisons of the data over time.  "
   ]
  },
  {
   "cell_type": "markdown",
   "metadata": {},
   "source": [
    "### Obtaining desired data from OOI\n",
    "\n",
    "\n",
    "If you run any of the commands in the code cell above, you'll see that there are quite a lot of components to the RCA. With over 60 sites and 5000+ instruments, it can be difficult to identify the exact data we want. Fortunately, we are familiar with the RCA structure and terminology. Remember that you can visit the [Interactive Oceans Data Portal](https://app.interactiveoceans.washington.edu/) to learn about the site locations, instruments, parameters, and data availability for the entire RCA system.\n",
    "\n",
    "* If we didn't know the names of sites, nodes, and instruments, where could we learn about them? Link that info here! \n",
    "* How do we see data availability on a day-by-day basis?"
   ]
  },
  {
   "cell_type": "code",
   "execution_count": 5,
   "metadata": {},
   "outputs": [
    {
     "data": {
      "text/plain": [
       "<Data Source: OOI (1 Instrument Stream)>"
      ]
     },
     "execution_count": 5,
     "metadata": {},
     "output_type": "execute_result"
    }
   ],
   "source": [
    "# Narrow the search using the appropriate terms.\n",
    "\n",
    "ooi.search(region='cabled', site='oregon slope base', node='shallow', instrument='CTD')"
   ]
  },
  {
   "cell_type": "code",
   "execution_count": 4,
   "metadata": {},
   "outputs": [
    {
     "data": {
      "text/html": [
       "<div>\n",
       "<style scoped>\n",
       "    .dataframe tbody tr th:only-of-type {\n",
       "        vertical-align: middle;\n",
       "    }\n",
       "\n",
       "    .dataframe tbody tr th {\n",
       "        vertical-align: top;\n",
       "    }\n",
       "\n",
       "    .dataframe thead th {\n",
       "        text-align: right;\n",
       "    }\n",
       "</style>\n",
       "<table border=\"1\" class=\"dataframe\">\n",
       "  <thead>\n",
       "    <tr style=\"text-align: right;\">\n",
       "      <th></th>\n",
       "      <th>RS01SBPS-SF01A-2A-CTDPFA102-streamed-ctdpf_sbe43_sample</th>\n",
       "    </tr>\n",
       "  </thead>\n",
       "  <tbody>\n",
       "    <tr>\n",
       "      <th>0</th>\n",
       "      <td>Cabled Continental Margin (Cabled Array)</td>\n",
       "    </tr>\n",
       "    <tr>\n",
       "      <th>1</th>\n",
       "      <td>Oregon Slope Base Shallow Profiler Mooring</td>\n",
       "    </tr>\n",
       "    <tr>\n",
       "      <th>2</th>\n",
       "      <td>Shallow Profiler (SF01A)</td>\n",
       "    </tr>\n",
       "    <tr>\n",
       "      <th>3</th>\n",
       "      <td>CTD</td>\n",
       "    </tr>\n",
       "    <tr>\n",
       "      <th>4</th>\n",
       "      <td>streamed</td>\n",
       "    </tr>\n",
       "    <tr>\n",
       "      <th>5</th>\n",
       "      <td>ctdpf_sbe43_sample</td>\n",
       "    </tr>\n",
       "  </tbody>\n",
       "</table>\n",
       "</div>"
      ],
      "text/plain": [
       "  RS01SBPS-SF01A-2A-CTDPFA102-streamed-ctdpf_sbe43_sample\n",
       "0           Cabled Continental Margin (Cabled Array)     \n",
       "1         Oregon Slope Base Shallow Profiler Mooring     \n",
       "2                           Shallow Profiler (SF01A)     \n",
       "3                                                CTD     \n",
       "4                                           streamed     \n",
       "5                                 ctdpf_sbe43_sample     "
      ]
     },
     "execution_count": 4,
     "metadata": {},
     "output_type": "execute_result"
    },
    {
     "data": {
      "image/png": "[encoded data removed]",
      "text/plain": [
       "<Figure size 1440x720 with 2 Axes>"
      ]
     },
     "metadata": {},
     "output_type": "display_data"
    }
   ],
   "source": [
    "# Check the data availability of the selected instrument. Long periods of data may be missing.\n",
    "\n",
    "ooi.data_availability()    # try running this cell twice if a green time plot doesn't appear on the first run"
   ]
  },
  {
   "cell_type": "markdown",
   "metadata": {},
   "source": [
    "From the Interactive Oceans Data Portal we can see data availability for the CTD on the Oregon Slope Base Shallow Profiler (note that this instrument is referred to as a 'CTD-O' on the data portal because it also has an **O**xygen sensor). Below is a screenshot of the day-by-day availability of the same instrument. A more interactive version can be found on the Data Portal."
   ]
  },
  {
   "cell_type": "markdown",
   "metadata": {},
   "source": [
    "<img src=\"./OreSlope_ShallProf_CTD_DataAvailability.PNG\">"
   ]
  },
  {
   "cell_type": "markdown",
   "metadata": {},
   "source": [
    "With the desired instrument(s) selected, generate a data request to the OOI system. Recomment the following two cells after running once to avoid repeatedly requesting the same datafiles. It will benefit you to rename the downloaded file(s) to something more meaningful, such as 'site_node_instrument_####.nc' where #### = 0001, 0002, 0003 . . . 9999. "
   ]
  },
  {
   "cell_type": "markdown",
   "metadata": {},
   "source": [
    "Please note that you only need to run the request and download commands (below) once. After you request and download the data, move it into your data subdirectory (which should be outside of the working directory if you plan to push to a size limited file storage system like GitHub). Once you have your data you can comment out the request and download commands because you do not need to repeatedly request and download the same exact data file(s).\n",
    "\n",
    "If you have already done this or just want to skip ahead, you can **skip to the section titled 'Combining the Workflow Steps'.**"
   ]
  },
  {
   "cell_type": "code",
   "execution_count": 12,
   "metadata": {
    "collapsed": true,
    "jupyter": {
     "outputs_hidden": true
    }
   },
   "outputs": [
    {
     "name": "stderr",
     "output_type": "stream",
     "text": [
      "(MainThread) Your data (https://opendap.oceanobservatories.org/async_results/deryag@uw.edu/20200326T181133958Z-RS01SBPS-SF01A-2A-CTDPFA102-streamed-ctdpf_sbe43_sample) is still compiling... Please wait.\n"
     ]
    },
    {
     "name": "stdout",
     "output_type": "stream",
     "text": [
      "Your data (https://opendap.oceanobservatories.org/async_results/deryag@uw.edu/20200326T181133958Z-RS01SBPS-SF01A-2A-CTDPFA102-streamed-ctdpf_sbe43_sample) is still compiling... Please wait.\n"
     ]
    },
    {
     "name": "stderr",
     "output_type": "stream",
     "text": [
      "(MainThread) Data request time elapsed: 10s\n"
     ]
    },
    {
     "name": "stdout",
     "output_type": "stream",
     "text": [
      "Data request time elapsed: 10s\n"
     ]
    },
    {
     "name": "stderr",
     "output_type": "stream",
     "text": [
      "(MainThread) Your data (https://opendap.oceanobservatories.org/async_results/deryag@uw.edu/20200326T181133958Z-RS01SBPS-SF01A-2A-CTDPFA102-streamed-ctdpf_sbe43_sample) is still compiling... Please wait.\n"
     ]
    },
    {
     "name": "stdout",
     "output_type": "stream",
     "text": [
      "Your data (https://opendap.oceanobservatories.org/async_results/deryag@uw.edu/20200326T181133958Z-RS01SBPS-SF01A-2A-CTDPFA102-streamed-ctdpf_sbe43_sample) is still compiling... Please wait.\n"
     ]
    },
    {
     "name": "stderr",
     "output_type": "stream",
     "text": [
      "(MainThread) Data request time elapsed: 20s\n"
     ]
    },
    {
     "name": "stdout",
     "output_type": "stream",
     "text": [
      "Data request time elapsed: 20s\n"
     ]
    },
    {
     "name": "stderr",
     "output_type": "stream",
     "text": [
      "(MainThread) Your data (https://opendap.oceanobservatories.org/async_results/deryag@uw.edu/20200326T181133958Z-RS01SBPS-SF01A-2A-CTDPFA102-streamed-ctdpf_sbe43_sample) is still compiling... Please wait.\n"
     ]
    },
    {
     "name": "stdout",
     "output_type": "stream",
     "text": [
      "Your data (https://opendap.oceanobservatories.org/async_results/deryag@uw.edu/20200326T181133958Z-RS01SBPS-SF01A-2A-CTDPFA102-streamed-ctdpf_sbe43_sample) is still compiling... Please wait.\n"
     ]
    },
    {
     "name": "stderr",
     "output_type": "stream",
     "text": [
      "(MainThread) Data request time elapsed: 30s\n"
     ]
    },
    {
     "name": "stdout",
     "output_type": "stream",
     "text": [
      "Data request time elapsed: 30s\n"
     ]
    },
    {
     "name": "stderr",
     "output_type": "stream",
     "text": [
      "(MainThread) Your data (https://opendap.oceanobservatories.org/async_results/deryag@uw.edu/20200326T181133958Z-RS01SBPS-SF01A-2A-CTDPFA102-streamed-ctdpf_sbe43_sample) is still compiling... Please wait.\n"
     ]
    },
    {
     "name": "stdout",
     "output_type": "stream",
     "text": [
      "Your data (https://opendap.oceanobservatories.org/async_results/deryag@uw.edu/20200326T181133958Z-RS01SBPS-SF01A-2A-CTDPFA102-streamed-ctdpf_sbe43_sample) is still compiling... Please wait.\n"
     ]
    },
    {
     "name": "stderr",
     "output_type": "stream",
     "text": [
      "(MainThread) Data request time elapsed: 41s\n"
     ]
    },
    {
     "name": "stdout",
     "output_type": "stream",
     "text": [
      "Data request time elapsed: 41s\n"
     ]
    },
    {
     "name": "stderr",
     "output_type": "stream",
     "text": [
      "(MainThread) Your data (https://opendap.oceanobservatories.org/async_results/deryag@uw.edu/20200326T181133958Z-RS01SBPS-SF01A-2A-CTDPFA102-streamed-ctdpf_sbe43_sample) is still compiling... Please wait.\n"
     ]
    },
    {
     "name": "stdout",
     "output_type": "stream",
     "text": [
      "Your data (https://opendap.oceanobservatories.org/async_results/deryag@uw.edu/20200326T181133958Z-RS01SBPS-SF01A-2A-CTDPFA102-streamed-ctdpf_sbe43_sample) is still compiling... Please wait.\n"
     ]
    },
    {
     "name": "stderr",
     "output_type": "stream",
     "text": [
      "(MainThread) Data request time elapsed: 51s\n"
     ]
    },
    {
     "name": "stdout",
     "output_type": "stream",
     "text": [
      "Data request time elapsed: 51s\n"
     ]
    },
    {
     "name": "stderr",
     "output_type": "stream",
     "text": [
      "(MainThread) Your data (https://opendap.oceanobservatories.org/async_results/deryag@uw.edu/20200326T181133958Z-RS01SBPS-SF01A-2A-CTDPFA102-streamed-ctdpf_sbe43_sample) is still compiling... Please wait.\n"
     ]
    },
    {
     "name": "stdout",
     "output_type": "stream",
     "text": [
      "Your data (https://opendap.oceanobservatories.org/async_results/deryag@uw.edu/20200326T181133958Z-RS01SBPS-SF01A-2A-CTDPFA102-streamed-ctdpf_sbe43_sample) is still compiling... Please wait.\n"
     ]
    },
    {
     "name": "stderr",
     "output_type": "stream",
     "text": [
      "(MainThread) Data request time elapsed: 61s\n"
     ]
    },
    {
     "name": "stdout",
     "output_type": "stream",
     "text": [
      "Data request time elapsed: 61s\n"
     ]
    },
    {
     "name": "stderr",
     "output_type": "stream",
     "text": [
      "(MainThread) Your data (https://opendap.oceanobservatories.org/async_results/deryag@uw.edu/20200326T181133958Z-RS01SBPS-SF01A-2A-CTDPFA102-streamed-ctdpf_sbe43_sample) is still compiling... Please wait.\n"
     ]
    },
    {
     "name": "stdout",
     "output_type": "stream",
     "text": [
      "Your data (https://opendap.oceanobservatories.org/async_results/deryag@uw.edu/20200326T181133958Z-RS01SBPS-SF01A-2A-CTDPFA102-streamed-ctdpf_sbe43_sample) is still compiling... Please wait.\n"
     ]
    },
    {
     "name": "stderr",
     "output_type": "stream",
     "text": [
      "(MainThread) Data request time elapsed: 72s\n"
     ]
    },
    {
     "name": "stdout",
     "output_type": "stream",
     "text": [
      "Data request time elapsed: 72s\n"
     ]
    },
    {
     "name": "stderr",
     "output_type": "stream",
     "text": [
      "(MainThread) Your data (https://opendap.oceanobservatories.org/async_results/deryag@uw.edu/20200326T181133958Z-RS01SBPS-SF01A-2A-CTDPFA102-streamed-ctdpf_sbe43_sample) is still compiling... Please wait.\n"
     ]
    },
    {
     "name": "stdout",
     "output_type": "stream",
     "text": [
      "Your data (https://opendap.oceanobservatories.org/async_results/deryag@uw.edu/20200326T181133958Z-RS01SBPS-SF01A-2A-CTDPFA102-streamed-ctdpf_sbe43_sample) is still compiling... Please wait.\n"
     ]
    },
    {
     "name": "stderr",
     "output_type": "stream",
     "text": [
      "(MainThread) Data request time elapsed: 82s\n"
     ]
    },
    {
     "name": "stdout",
     "output_type": "stream",
     "text": [
      "Data request time elapsed: 82s\n"
     ]
    },
    {
     "name": "stderr",
     "output_type": "stream",
     "text": [
      "(MainThread) Your data (https://opendap.oceanobservatories.org/async_results/deryag@uw.edu/20200326T181133958Z-RS01SBPS-SF01A-2A-CTDPFA102-streamed-ctdpf_sbe43_sample) is still compiling... Please wait.\n"
     ]
    },
    {
     "name": "stdout",
     "output_type": "stream",
     "text": [
      "Your data (https://opendap.oceanobservatories.org/async_results/deryag@uw.edu/20200326T181133958Z-RS01SBPS-SF01A-2A-CTDPFA102-streamed-ctdpf_sbe43_sample) is still compiling... Please wait.\n"
     ]
    },
    {
     "name": "stderr",
     "output_type": "stream",
     "text": [
      "(MainThread) Data request time elapsed: 92s\n"
     ]
    },
    {
     "name": "stdout",
     "output_type": "stream",
     "text": [
      "Data request time elapsed: 92s\n"
     ]
    },
    {
     "name": "stderr",
     "output_type": "stream",
     "text": [
      "(MainThread) Request (https://opendap.oceanobservatories.org/async_results/deryag@uw.edu/20200326T181133958Z-RS01SBPS-SF01A-2A-CTDPFA102-streamed-ctdpf_sbe43_sample) completed.\n"
     ]
    },
    {
     "name": "stdout",
     "output_type": "stream",
     "text": [
      "Request (https://opendap.oceanobservatories.org/async_results/deryag@uw.edu/20200326T181133958Z-RS01SBPS-SF01A-2A-CTDPFA102-streamed-ctdpf_sbe43_sample) completed.\n"
     ]
    },
    {
     "name": "stderr",
     "output_type": "stream",
     "text": [
      "(MainThread) Acquiring data from opendap urls ...\n",
      "/srv/conda/envs/notebook/lib/python3.7/site-packages/xarray/backends/api.py:783: FutureWarning: In xarray version 0.13 `auto_combine` will be deprecated.\n",
      "  coords=coords)\n",
      "/srv/conda/envs/notebook/lib/python3.7/site-packages/xarray/backends/api.py:783: FutureWarning: The datasets supplied have global dimension coordinates. You may want\n",
      "to use the new `combine_by_coords` function (or the\n",
      "`combine='by_coords'` option to `open_mfdataset` to order the datasets\n",
      "before concatenation. Alternatively, to continue concatenating based\n",
      "on the order the datasets are supplied in in future, please use the\n",
      "new `combine_nested` function (or the `combine='nested'` option to\n",
      "open_mfdataset).\n",
      "  coords=coords)\n"
     ]
    }
   ],
   "source": [
    "'''Running .request_data() generates a data request\n",
    "while running .to_xarray() polls the OOI system until the order completes; \n",
    " this will take a couple of minutes'''\n",
    "\n",
    "\n",
    "# Enter desired start and end dates and generate data request\n",
    "#begin_date = '2019-08-01'\n",
    "#end_date = '2019-08-08'    # the data file will include measurements close as possible to midnight on the morning of 2019-08-08 \n",
    "#ooi.request_data(begin_date=begin_date, end_date=end_date)\n",
    "#ds = ooi.to_xarray()\n",
    "\n",
    "\n",
    "# Check length of new dataset list to ensure the correct number of files was requested\n",
    "# len(ds)"
   ]
  },
  {
   "cell_type": "code",
   "execution_count": 13,
   "metadata": {},
   "outputs": [
    {
     "name": "stderr",
     "output_type": "stream",
     "text": [
      "(MainThread) Downloading netcdfs ...\n",
      "(MainThread) Downloading deployment0007_RS01SBPS-SF01A-2A-CTDPFA102-streamed-ctdpf_sbe43_sample_20190801T000000.066057-20190807T235959.230015.nc...\n",
      "(MainThread) Writing deployment0007_RS01SBPS-SF01A-2A-CTDPFA102-streamed-ctdpf_sbe43_sample_20190801T000000.066057-20190807T235959.230015.nc...\n",
      "(MainThread) deployment0007_RS01SBPS-SF01A-2A-CTDPFA102-streamed-ctdpf_sbe43_sample_20190801T000000.066057-20190807T235959.230015.nc successfully downloaded ---\n",
      "(MainThread) --- Checking deployment0007_RS01SBPS-SF01A-2A-CTDPFA102-streamed-ctdpf_sbe43_sample_20190801T000000.066057-20190807T235959.230015.nc ---\n",
      "(MainThread) --- Checks passed for deployment0007_RS01SBPS-SF01A-2A-CTDPFA102-streamed-ctdpf_sbe43_sample_20190801T000000.066057-20190807T235959.230015.nc ---\n"
     ]
    },
    {
     "data": {
      "text/plain": [
       "1"
      ]
     },
     "execution_count": 13,
     "metadata": {},
     "output_type": "execute_result"
    }
   ],
   "source": [
    "# Run this to download the data (possibly multiple files) from a completed data request from above\n",
    "# \n",
    "#filenamelist = ooi.download_netcdfs()\n",
    "#len(filenamelist)"
   ]
  },
  {
   "cell_type": "markdown",
   "metadata": {},
   "source": [
    "### Preparing the data for analysis\n",
    "\n",
    "Open the downloaded dataset(s) and look at the contents. Remember that we are focusing on one dataset (Oregon Slope Base shallow profiler CTD, first week of August 2019) and one parameter (salinity) to start with. Looking through all the variables, you can find multiple entries for salinity, including: 'conductivity', 'seawater_conductivity', 'practical_salinity', 'seawater_conductivity_qc_executed', 'seawater_conductivity_qc_results' 'practical_salinity_qc_executed', and 'practical_salinity_qc_results'. \n",
    "\n",
    "Documentation for the netCDF4 functions used can be found [here.](https://unidata.github.io/netcdf4-python/netCDF4/index.html#netCDF4.Dataset)\n",
    "\n",
    "By opening the dataset as an xarray dataset and not the netCDF object it exists as, we can far more easily manipulate the data and explore data across different sets. Utilizing the \"swap_dims\" function in xarray, we can ensure that all variables are associated with the 'time' coordinate.  That is to say, when we call the 'pressure' variable, it will automatically be associated with the 'time' coordinate and can be easily plotted along that axis."
   ]
  },
  {
   "cell_type": "code",
   "execution_count": 6,
   "metadata": {},
   "outputs": [],
   "source": [
    "home_dir = os.getenv(\"HOME\")\n",
    "this_dir = home_dir + '/eScience-Work/'\n",
    "data_dir = home_dir + '/data/canon/'"
   ]
  },
  {
   "cell_type": "code",
   "execution_count": 7,
   "metadata": {},
   "outputs": [],
   "source": [
    "# Open dataset in read mode\n",
    "\n",
    "ds = xr.open_dataset(data_dir + 'OreSlope_ShallProf_CTD_2019-08-01_08-08.nc')     #Open file as xarray dataset\n",
    "ds_2019 = ds.swap_dims({'obs':'time'})                          #Swap default 'obs' dimension for 'time'\n",
    "depth = 'seawater_pressure'"
   ]
  },
  {
   "cell_type": "markdown",
   "metadata": {},
   "source": [
    "The CTD lists 3 variable for conductivity/salinity.  By printing the listing for these variables, we can see that the \"practical_salinity\" variable most closely matches what we want to explore."
   ]
  },
  {
   "cell_type": "code",
   "execution_count": 8,
   "metadata": {},
   "outputs": [
    {
     "name": "stdout",
     "output_type": "stream",
     "text": [
      "<xarray.Variable (time: 598189)>\n",
      "[598189 values with dtype=float64]\n",
      "Attributes:\n",
      "    comment:                  Salinity is generally defined as the concentrat...\n",
      "    long_name:                Practical Salinity\n",
      "    precision:                4\n",
      "    data_product_identifier:  PRACSAL_L2\n",
      "    standard_name:            sea_water_practical_salinity\n",
      "    units:                    1\n",
      "    ancillary_variables:      pressure,conductivity,temperature\n",
      "\n",
      "\n",
      "<class 'xarray.core.dataset.Dataset'>\n"
     ]
    }
   ],
   "source": [
    "# print(ds.variables['conductivity'])\n",
    "# print('\\n')\n",
    "\n",
    "# print(ds.variables['seawater_conductivity'])\n",
    "# print('\\n')\n",
    "\n",
    "print(ds_2019.variables['practical_salinity'])\n",
    "print('\\n')\n",
    "print(type(ds_2019))"
   ]
  },
  {
   "cell_type": "markdown",
   "metadata": {},
   "source": [
    "Now we can take a look at the raw data by plotting the practical salininty vs. seawater pressure. Below that, we can also create a time series plot of this data. The time series plot shows the 9 daily trips up and down the water column that the shallow profiler makes, reflected in changes in the salinity. \n",
    "* make this a scatter plot instead of line plot"
   ]
  },
  {
   "cell_type": "code",
   "execution_count": 9,
   "metadata": {},
   "outputs": [
    {
     "data": {
      "text/plain": [
       "[<matplotlib.lines.Line2D at 0x7f83fd4a64a8>]"
      ]
     },
     "execution_count": 9,
     "metadata": {},
     "output_type": "execute_result"
    },
    {
     "data": {
      "image/png": "[encoded data removed]",
      "text/plain": [
       "<Figure size 432x288 with 1 Axes>"
      ]
     },
     "metadata": {
      "needs_background": "light"
     },
     "output_type": "display_data"
    }
   ],
   "source": [
    "ds_2019.practical_salinity.plot(y = depth) "
   ]
  },
  {
   "cell_type": "code",
   "execution_count": 10,
   "metadata": {},
   "outputs": [
    {
     "name": "stderr",
     "output_type": "stream",
     "text": [
      "/srv/conda/envs/notebook/lib/python3.7/site-packages/pandas/plotting/_matplotlib/converter.py:102: FutureWarning: Using an implicitly registered datetime converter for a matplotlib plotting method. The converter was registered by pandas on import. Future versions of pandas will require you to explicitly register matplotlib converters.\n",
      "\n",
      "To register the converters:\n",
      "\t>>> from pandas.plotting import register_matplotlib_converters\n",
      "\t>>> register_matplotlib_converters()\n",
      "  warnings.warn(msg, FutureWarning)\n"
     ]
    },
    {
     "data": {
      "text/plain": [
       "[<matplotlib.lines.Line2D at 0x7f83ee2efb38>]"
      ]
     },
     "execution_count": 10,
     "metadata": {},
     "output_type": "execute_result"
    },
    {
     "data": {
      "image/png": "[encoded data removed]",
      "text/plain": [
       "<Figure size 432x288 with 1 Axes>"
      ]
     },
     "metadata": {
      "needs_background": "light"
     },
     "output_type": "display_data"
    }
   ],
   "source": [
    "ds_2019.practical_salinity.plot()"
   ]
  },
  {
   "cell_type": "markdown",
   "metadata": {},
   "source": [
    "We can already begin thinking about interpretting data, even just based off this singular week from the CTD. That look salinity spike could indicate rainy weather or an increase in river runoff. How interesting! "
   ]
  },
  {
   "cell_type": "markdown",
   "metadata": {},
   "source": [
    "The last steps in preparing our data for analysis is to bin it according to our desired depth intervals and then select data for the parameter we are interested in (practical salinity). At this point, running `ds_bin.mean()` takes a long time because it finds the mean of every variable in the dataset. Separating the practical salinity from the rest of the data speeds up our mean calculation considerably. \n",
    "* need to change this from 20 bins of equal size to bins by specified 10m depth intervals"
   ]
  },
  {
   "cell_type": "code",
   "execution_count": 11,
   "metadata": {},
   "outputs": [
    {
     "data": {
      "text/plain": [
       "<xarray.DataArray 'practical_salinity' (time: 598189)>\n",
       "[598189 values with dtype=float64]\n",
       "Coordinates:\n",
       "    obs                (time) int32 0 1 2 3 4 ... 598185 598186 598187 598188\n",
       "  * time               (time) datetime64[ns] 2019-08-01T00:00:00.066056704 ... 2019-08-07T23:59:59.230014976\n",
       "    seawater_pressure  (time) float64 ...\n",
       "    lat                (time) float64 ...\n",
       "    lon                (time) float64 ...\n",
       "Attributes:\n",
       "    comment:                  Salinity is generally defined as the concentrat...\n",
       "    long_name:                Practical Salinity\n",
       "    precision:                4\n",
       "    data_product_identifier:  PRACSAL_L2\n",
       "    standard_name:            sea_water_practical_salinity\n",
       "    units:                    1\n",
       "    ancillary_variables:      pressure,conductivity,temperature"
      ]
     },
     "execution_count": 11,
     "metadata": {},
     "output_type": "execute_result"
    }
   ],
   "source": [
    "# Separate the practical salinity from the rest of the data\n",
    "dsps = ds_2019.practical_salinity\n",
    "\n",
    "# Now confirm that this dataarray has what we want\n",
    "dsps"
   ]
  },
  {
   "cell_type": "code",
   "execution_count": 12,
   "metadata": {},
   "outputs": [
    {
     "data": {
      "text/plain": [
       "<xarray.core.groupby.DataArrayGroupBy at 0x7f83efe9fd68>"
      ]
     },
     "execution_count": 12,
     "metadata": {},
     "output_type": "execute_result"
    }
   ],
   "source": [
    "# Group the practical salinity data by depth bins\n",
    "# bins = 20 means we're breaking our data up into 20 bins of equal size\n",
    "# as in each group will cover an equal range of depths\n",
    "\n",
    "dsps_bin = dsps.groupby_bins(group = depth, bins = 20)\n",
    "\n",
    "dsps_bin"
   ]
  },
  {
   "cell_type": "markdown",
   "metadata": {},
   "source": [
    "### Analysing the data\n",
    "\n",
    "Now that we've got the data for our parameter isolated and split into bins of about 10m depth intervals, we can use built-in functions to calculate the mean and standard deviation for practical salinity. The `.mean()` and `.std()` functions may take a minute to run. \n",
    "\n",
    "* cannot seem to get the seawater pressure to be on the y axis, I get an error every time I set y='seawater_pressure_bins'\n",
    "* change 'practical_salinity' axes to 'mean' and 'standard deviation'"
   ]
  },
  {
   "cell_type": "code",
   "execution_count": 13,
   "metadata": {},
   "outputs": [
    {
     "data": {
      "text/plain": [
       "xarray.core.dataarray.DataArray"
      ]
     },
     "execution_count": 13,
     "metadata": {},
     "output_type": "execute_result"
    }
   ],
   "source": [
    "# Let's get a variable that has the means of practical salinity for each depth bin\n",
    "dsps_mean = dsps_bin.mean()\n",
    "type(dsps_mean)\n",
    "\n",
    "# We also want the standard deviation\n",
    "dsps_stdev = dsps_bin.std()\n",
    "type(dsps_stdev)"
   ]
  },
  {
   "cell_type": "code",
   "execution_count": 14,
   "metadata": {},
   "outputs": [
    {
     "data": {
      "text/plain": [
       "[<matplotlib.lines.Line2D at 0x7f83ef376a20>]"
      ]
     },
     "execution_count": 14,
     "metadata": {},
     "output_type": "execute_result"
    },
    {
     "data": {
      "image/png": "[encoded data removed]",
      "text/plain": [
       "<Figure size 432x288 with 1 Axes>"
      ]
     },
     "metadata": {
      "needs_background": "light"
     },
     "output_type": "display_data"
    }
   ],
   "source": [
    "# Plot the mean to see how practical salinity changes with depth\n",
    "\n",
    "dsps_mean.plot(x='seawater_pressure_bins')"
   ]
  },
  {
   "cell_type": "code",
   "execution_count": 15,
   "metadata": {},
   "outputs": [
    {
     "data": {
      "text/plain": [
       "[<matplotlib.lines.Line2D at 0x7f83ef478550>]"
      ]
     },
     "execution_count": 15,
     "metadata": {},
     "output_type": "execute_result"
    },
    {
     "data": {
      "image/png": "[encoded data removed]",
      "text/plain": [
       "<Figure size 432x288 with 1 Axes>"
      ]
     },
     "metadata": {
      "needs_background": "light"
     },
     "output_type": "display_data"
    }
   ],
   "source": [
    "# We can also plot standard deviation and see how it changes with depth\n",
    "\n",
    "dsps_stdev.plot()"
   ]
  },
  {
   "cell_type": "code",
   "execution_count": 16,
   "metadata": {},
   "outputs": [],
   "source": [
    "# View the DataArray holding our mean data\n",
    "\n",
    "dsps_mean_2019 = dsps_mean"
   ]
  },
  {
   "cell_type": "code",
   "execution_count": 17,
   "metadata": {},
   "outputs": [],
   "source": [
    "# View the DataArray holding our standard deviation data\n",
    "\n",
    "dsps_stdev_2019 = dsps_stdev"
   ]
  },
  {
   "cell_type": "markdown",
   "metadata": {},
   "source": [
    "## What we've done so far\n",
    "\n",
    "* pulled in salinity data from Oregon Slope shallow profiler for the first week of August 2019\n",
    "* turned data into an xarray dataarray along the 'time' dimension\n",
    "* identified 'practical_salinity' as our desired variable\n",
    "* plotted salinity measurements vs. depth ('seawater_pressure') (would be cool if this could be a scatter plot)\n",
    "* plotted salinity as a time series (can we combine with the depth profile to make a 2D color plot?)\n",
    "* grouped salinity measurements by depth bins (20 bins of equal size)\n",
    "* calculated and plotted mean and standard deviation of the binned salinity data\n",
    "\n",
    "## What to do next\n",
    "\n",
    "* combine the binning, stats, and plotting commands into one function that can be applied to any dataset \n",
    "* pull in data from the first week of August 2018 and compare this with the same dates in 2019\n",
    "* pull in data from other weeks of 2018 and 2019 and do the same comparison"
   ]
  },
  {
   "cell_type": "markdown",
   "metadata": {},
   "source": [
    "### Comparing August 2019 to August 2018, 2017, and so on\n",
    "\n",
    "Now that we have established a mean and standard deviation for the first week of August 2019, let's do the same thing for the first week of August of previous years. Then we can begin to see what canonical values of practical salinity are for this time of year at this location. The cells below are a streamlined version of the steps that we worked through one-by-one above. "
   ]
  },
  {
   "cell_type": "code",
   "execution_count": 18,
   "metadata": {},
   "outputs": [
    {
     "name": "stdout",
     "output_type": "stream",
     "text": [
      "CPU times: user 2 µs, sys: 0 ns, total: 2 µs\n",
      "Wall time: 5.25 µs\n"
     ]
    },
    {
     "data": {
      "text/plain": [
       "'Running .request_data() generates a data request\\nwhile running .to_xarray() polls the OOI system until the order completes; \\n this will take a couple of minutes'"
      ]
     },
     "execution_count": 18,
     "metadata": {},
     "output_type": "execute_result"
    }
   ],
   "source": [
    "%%time\n",
    "'''Running .request_data() generates a data request\n",
    "while running .to_xarray() polls the OOI system until the order completes; \n",
    " this will take a couple of minutes'''\n",
    "\n",
    "# Enter desired start and end dates and generate data request\n",
    "#begin_date = '2018-08-01'\n",
    "#end_date = '2018-08-08'\n",
    "#ooi.request_data(begin_date=begin_date, end_date=end_date)\n",
    "#ds = ooi.to_xarray()\n",
    "\n",
    "\n",
    "# Check length of new dataset list to ensure the correct number of files was requested\n",
    "# len(ds)"
   ]
  },
  {
   "cell_type": "code",
   "execution_count": 19,
   "metadata": {},
   "outputs": [],
   "source": [
    "# Run this to download the data (possibly multiple files) from a completed data request from above\n",
    "# \n",
    "#filenamelist = ooi.download_netcdfs()\n",
    "#len(filenamelist)"
   ]
  },
  {
   "cell_type": "code",
   "execution_count": 20,
   "metadata": {},
   "outputs": [],
   "source": [
    "# Open dataset in read mode\n",
    "\n",
    "ds = xr.open_dataset(data_dir + 'OreSlope_ShallProf_CTD_2018-08-01_08-08.nc')     #Open file as xarray dataset\n",
    "ds_2018 = ds.swap_dims({'obs':'time'})                          #Swap default 'obs' dimension for 'time'\n",
    "depth = 'seawater_pressure'"
   ]
  },
  {
   "cell_type": "code",
   "execution_count": 21,
   "metadata": {},
   "outputs": [],
   "source": [
    "x = ds_2018.seawater_pressure"
   ]
  },
  {
   "cell_type": "code",
   "execution_count": 28,
   "metadata": {},
   "outputs": [
    {
     "name": "stderr",
     "output_type": "stream",
     "text": [
      "/srv/conda/envs/notebook/lib/python3.7/site-packages/ipykernel_launcher.py:5: UserWarning: Creating legend with loc=\"best\" can be slow with large amounts of data.\n",
      "  \"\"\"\n"
     ]
    },
    {
     "data": {
      "image/png": "[encoded data removed]",
      "text/plain": [
       "<Figure size 432x288 with 1 Axes>"
      ]
     },
     "metadata": {
      "needs_background": "light"
     },
     "output_type": "display_data"
    }
   ],
   "source": [
    "ds_2019.practical_salinity.plot(y = depth, label=2019)\n",
    "ds_2018.practical_salinity.plot(y = depth, label=2018) \n",
    "plt.legend()\n",
    "plt.title('Practical salinity vs pressure, first week of August')"
   ]
  },
  {
   "cell_type": "code",
   "execution_count": 29,
   "metadata": {},
   "outputs": [
    {
     "name": "stderr",
     "output_type": "stream",
     "text": [
      "/srv/conda/envs/notebook/lib/python3.7/site-packages/ipykernel_launcher.py:7: UserWarning: Creating legend with loc=\"best\" can be slow with large amounts of data.\n",
      "  import sys\n"
     ]
    },
    {
     "data": {
      "image/png": "[encoded data removed]",
      "text/plain": [
       "<Figure size 432x288 with 1 Axes>"
      ]
     },
     "metadata": {
      "needs_background": "light"
     },
     "output_type": "display_data"
    }
   ],
   "source": [
    "# This plot needs the x-axis labels to be changed from seconds to dates 08-01 to 08-08\n",
    "\n",
    "plt.plot(ds_2019.practical_salinity, label=2019) \n",
    "plt.plot(ds_2018.practical_salinity, label=2018) \n",
    "plt.legend()\n",
    "plt.title('Practical salinity over time, first week of August')"
   ]
  },
  {
   "cell_type": "code",
   "execution_count": 24,
   "metadata": {},
   "outputs": [],
   "source": [
    "dsps = ds.practical_salinity\n",
    "dsps_bin = dsps.groupby_bins(group = depth, bins = 20)"
   ]
  },
  {
   "cell_type": "code",
   "execution_count": 25,
   "metadata": {},
   "outputs": [],
   "source": [
    "# Let's get a variable that has the means of practical salinity for each depth bin\n",
    "dsps_mean_2018 = dsps_bin.mean()\n",
    "\n",
    "# We also want the standard deviation\n",
    "dsps_stdev_2018 = dsps_bin.std()"
   ]
  },
  {
   "cell_type": "code",
   "execution_count": 30,
   "metadata": {},
   "outputs": [
    {
     "data": {
      "image/png": "[encoded data removed]",
      "text/plain": [
       "<Figure size 432x288 with 1 Axes>"
      ]
     },
     "metadata": {
      "needs_background": "light"
     },
     "output_type": "display_data"
    }
   ],
   "source": [
    "plt.plot(dsps_mean_2019, label=\"2019\")\n",
    "plt.plot(dsps_mean_2018, label=\"2018\")\n",
    "plt.legend()\n",
    "plt.title('Binned means of seawater salinity, first week of August')"
   ]
  },
  {
   "cell_type": "code",
   "execution_count": 31,
   "metadata": {},
   "outputs": [
    {
     "data": {
      "image/png": "[encoded data removed]",
      "text/plain": [
       "<Figure size 432x288 with 1 Axes>"
      ]
     },
     "metadata": {
      "needs_background": "light"
     },
     "output_type": "display_data"
    }
   ],
   "source": [
    "plt.plot(dsps_stdev_2019, label=\"2019\")\n",
    "plt.plot(dsps_stdev_2018, label=\"2018\")\n",
    "plt.legend()\n",
    "plt.title('Binned standard deviations of seawater salinity, first week of August')"
   ]
  },
  {
   "cell_type": "code",
   "execution_count": 38,
   "metadata": {},
   "outputs": [
    {
     "data": {
      "text/plain": [
       "<xarray.DataArray 'practical_salinity' (time: 598189)>\n",
       "array([33.935033, 33.934455, 33.934221, ..., 33.923497, 33.923497, 33.923366])\n",
       "Coordinates:\n",
       "    obs                (time) int32 0 1 2 3 4 ... 598185 598186 598187 598188\n",
       "  * time               (time) datetime64[ns] 2019-08-01T00:00:00.066056704 ... 2019-08-07T23:59:59.230014976\n",
       "    seawater_pressure  (time) float64 191.4 191.4 191.4 ... 194.2 194.2 194.2\n",
       "    lat                (time) float64 ...\n",
       "    lon                (time) float64 ...\n",
       "Attributes:\n",
       "    comment:                  Salinity is generally defined as the concentrat...\n",
       "    long_name:                Practical Salinity\n",
       "    precision:                4\n",
       "    data_product_identifier:  PRACSAL_L2\n",
       "    standard_name:            sea_water_practical_salinity\n",
       "    units:                    1\n",
       "    ancillary_variables:      pressure,conductivity,temperature"
      ]
     },
     "execution_count": 38,
     "metadata": {},
     "output_type": "execute_result"
    }
   ],
   "source": [
    "ds_2019.practical_salinity"
   ]
  },
  {
   "cell_type": "code",
   "execution_count": 36,
   "metadata": {},
   "outputs": [
    {
     "ename": "ValueError",
     "evalue": "Unrecognized character e in format string",
     "output_type": "error",
     "traceback": [
      "\u001b[0;31m---------------------------------------------------------------------------\u001b[0m",
      "\u001b[0;31mValueError\u001b[0m                                Traceback (most recent call last)",
      "\u001b[0;32m<ipython-input-36-e528615a0d57>\u001b[0m in \u001b[0;36m<module>\u001b[0;34m\u001b[0m\n\u001b[1;32m      3\u001b[0m \u001b[0mx\u001b[0m \u001b[0;34m=\u001b[0m \u001b[0mds_2019\u001b[0m\u001b[0;34m.\u001b[0m\u001b[0mpractical_salinity\u001b[0m\u001b[0;34m\u001b[0m\u001b[0;34m\u001b[0m\u001b[0m\n\u001b[1;32m      4\u001b[0m \u001b[0mfig\u001b[0m\u001b[0;34m,\u001b[0m \u001b[0maxes\u001b[0m \u001b[0;34m=\u001b[0m \u001b[0mplt\u001b[0m\u001b[0;34m.\u001b[0m\u001b[0msubplots\u001b[0m\u001b[0;34m(\u001b[0m\u001b[0mnrows\u001b[0m\u001b[0;34m=\u001b[0m\u001b[0mNR\u001b[0m\u001b[0;34m,\u001b[0m \u001b[0mncols\u001b[0m\u001b[0;34m=\u001b[0m\u001b[0mNC\u001b[0m\u001b[0;34m,\u001b[0m \u001b[0mfigsize\u001b[0m\u001b[0;34m=\u001b[0m\u001b[0;34m(\u001b[0m\u001b[0;36m12\u001b[0m\u001b[0;34m,\u001b[0m\u001b[0;36m8\u001b[0m\u001b[0;34m)\u001b[0m\u001b[0;34m,\u001b[0m \u001b[0msqueeze\u001b[0m\u001b[0;34m=\u001b[0m\u001b[0;32mFalse\u001b[0m\u001b[0;34m)\u001b[0m\u001b[0;34m\u001b[0m\u001b[0;34m\u001b[0m\u001b[0m\n\u001b[0;32m----> 5\u001b[0;31m \u001b[0maxes\u001b[0m\u001b[0;34m[\u001b[0m\u001b[0;36m0\u001b[0m\u001b[0;34m,\u001b[0m\u001b[0;36m0\u001b[0m\u001b[0;34m]\u001b[0m\u001b[0;34m.\u001b[0m\u001b[0mplot\u001b[0m\u001b[0;34m(\u001b[0m\u001b[0mx\u001b[0m\u001b[0;34m,\u001b[0m\u001b[0my\u001b[0m\u001b[0;34m)\u001b[0m\u001b[0;34m\u001b[0m\u001b[0;34m\u001b[0m\u001b[0m\n\u001b[0m\u001b[1;32m      6\u001b[0m \u001b[0;31m#axes[0,1].plot(x,y)\u001b[0m\u001b[0;34m\u001b[0m\u001b[0;34m\u001b[0m\u001b[0;34m\u001b[0m\u001b[0m\n\u001b[1;32m      7\u001b[0m \u001b[0;31m#axes[1,0].plot(x,y3)\u001b[0m\u001b[0;34m\u001b[0m\u001b[0;34m\u001b[0m\u001b[0;34m\u001b[0m\u001b[0m\n",
      "\u001b[0;32m/srv/conda/envs/notebook/lib/python3.7/site-packages/matplotlib/axes/_axes.py\u001b[0m in \u001b[0;36mplot\u001b[0;34m(self, scalex, scaley, data, *args, **kwargs)\u001b[0m\n\u001b[1;32m   1664\u001b[0m         \"\"\"\n\u001b[1;32m   1665\u001b[0m         \u001b[0mkwargs\u001b[0m \u001b[0;34m=\u001b[0m \u001b[0mcbook\u001b[0m\u001b[0;34m.\u001b[0m\u001b[0mnormalize_kwargs\u001b[0m\u001b[0;34m(\u001b[0m\u001b[0mkwargs\u001b[0m\u001b[0;34m,\u001b[0m \u001b[0mmlines\u001b[0m\u001b[0;34m.\u001b[0m\u001b[0mLine2D\u001b[0m\u001b[0;34m.\u001b[0m\u001b[0m_alias_map\u001b[0m\u001b[0;34m)\u001b[0m\u001b[0;34m\u001b[0m\u001b[0;34m\u001b[0m\u001b[0m\n\u001b[0;32m-> 1666\u001b[0;31m         \u001b[0mlines\u001b[0m \u001b[0;34m=\u001b[0m \u001b[0;34m[\u001b[0m\u001b[0;34m*\u001b[0m\u001b[0mself\u001b[0m\u001b[0;34m.\u001b[0m\u001b[0m_get_lines\u001b[0m\u001b[0;34m(\u001b[0m\u001b[0;34m*\u001b[0m\u001b[0margs\u001b[0m\u001b[0;34m,\u001b[0m \u001b[0mdata\u001b[0m\u001b[0;34m=\u001b[0m\u001b[0mdata\u001b[0m\u001b[0;34m,\u001b[0m \u001b[0;34m**\u001b[0m\u001b[0mkwargs\u001b[0m\u001b[0;34m)\u001b[0m\u001b[0;34m]\u001b[0m\u001b[0;34m\u001b[0m\u001b[0;34m\u001b[0m\u001b[0m\n\u001b[0m\u001b[1;32m   1667\u001b[0m         \u001b[0;32mfor\u001b[0m \u001b[0mline\u001b[0m \u001b[0;32min\u001b[0m \u001b[0mlines\u001b[0m\u001b[0;34m:\u001b[0m\u001b[0;34m\u001b[0m\u001b[0;34m\u001b[0m\u001b[0m\n\u001b[1;32m   1668\u001b[0m             \u001b[0mself\u001b[0m\u001b[0;34m.\u001b[0m\u001b[0madd_line\u001b[0m\u001b[0;34m(\u001b[0m\u001b[0mline\u001b[0m\u001b[0;34m)\u001b[0m\u001b[0;34m\u001b[0m\u001b[0;34m\u001b[0m\u001b[0m\n",
      "\u001b[0;32m/srv/conda/envs/notebook/lib/python3.7/site-packages/matplotlib/axes/_base.py\u001b[0m in \u001b[0;36m__call__\u001b[0;34m(self, *args, **kwargs)\u001b[0m\n\u001b[1;32m    223\u001b[0m                 \u001b[0mthis\u001b[0m \u001b[0;34m+=\u001b[0m \u001b[0margs\u001b[0m\u001b[0;34m[\u001b[0m\u001b[0;36m0\u001b[0m\u001b[0;34m]\u001b[0m\u001b[0;34m,\u001b[0m\u001b[0;34m\u001b[0m\u001b[0;34m\u001b[0m\u001b[0m\n\u001b[1;32m    224\u001b[0m                 \u001b[0margs\u001b[0m \u001b[0;34m=\u001b[0m \u001b[0margs\u001b[0m\u001b[0;34m[\u001b[0m\u001b[0;36m1\u001b[0m\u001b[0;34m:\u001b[0m\u001b[0;34m]\u001b[0m\u001b[0;34m\u001b[0m\u001b[0;34m\u001b[0m\u001b[0m\n\u001b[0;32m--> 225\u001b[0;31m             \u001b[0;32myield\u001b[0m \u001b[0;32mfrom\u001b[0m \u001b[0mself\u001b[0m\u001b[0;34m.\u001b[0m\u001b[0m_plot_args\u001b[0m\u001b[0;34m(\u001b[0m\u001b[0mthis\u001b[0m\u001b[0;34m,\u001b[0m \u001b[0mkwargs\u001b[0m\u001b[0;34m)\u001b[0m\u001b[0;34m\u001b[0m\u001b[0;34m\u001b[0m\u001b[0m\n\u001b[0m\u001b[1;32m    226\u001b[0m \u001b[0;34m\u001b[0m\u001b[0m\n\u001b[1;32m    227\u001b[0m     \u001b[0;32mdef\u001b[0m \u001b[0mget_next_color\u001b[0m\u001b[0;34m(\u001b[0m\u001b[0mself\u001b[0m\u001b[0;34m)\u001b[0m\u001b[0;34m:\u001b[0m\u001b[0;34m\u001b[0m\u001b[0;34m\u001b[0m\u001b[0m\n",
      "\u001b[0;32m/srv/conda/envs/notebook/lib/python3.7/site-packages/matplotlib/axes/_base.py\u001b[0m in \u001b[0;36m_plot_args\u001b[0;34m(self, tup, kwargs)\u001b[0m\n\u001b[1;32m    364\u001b[0m         \u001b[0mret\u001b[0m \u001b[0;34m=\u001b[0m \u001b[0;34m[\u001b[0m\u001b[0;34m]\u001b[0m\u001b[0;34m\u001b[0m\u001b[0;34m\u001b[0m\u001b[0m\n\u001b[1;32m    365\u001b[0m         \u001b[0;32mif\u001b[0m \u001b[0mlen\u001b[0m\u001b[0;34m(\u001b[0m\u001b[0mtup\u001b[0m\u001b[0;34m)\u001b[0m \u001b[0;34m>\u001b[0m \u001b[0;36m1\u001b[0m \u001b[0;32mand\u001b[0m \u001b[0misinstance\u001b[0m\u001b[0;34m(\u001b[0m\u001b[0mtup\u001b[0m\u001b[0;34m[\u001b[0m\u001b[0;34m-\u001b[0m\u001b[0;36m1\u001b[0m\u001b[0;34m]\u001b[0m\u001b[0;34m,\u001b[0m \u001b[0mstr\u001b[0m\u001b[0;34m)\u001b[0m\u001b[0;34m:\u001b[0m\u001b[0;34m\u001b[0m\u001b[0;34m\u001b[0m\u001b[0m\n\u001b[0;32m--> 366\u001b[0;31m             \u001b[0mlinestyle\u001b[0m\u001b[0;34m,\u001b[0m \u001b[0mmarker\u001b[0m\u001b[0;34m,\u001b[0m \u001b[0mcolor\u001b[0m \u001b[0;34m=\u001b[0m \u001b[0m_process_plot_format\u001b[0m\u001b[0;34m(\u001b[0m\u001b[0mtup\u001b[0m\u001b[0;34m[\u001b[0m\u001b[0;34m-\u001b[0m\u001b[0;36m1\u001b[0m\u001b[0;34m]\u001b[0m\u001b[0;34m)\u001b[0m\u001b[0;34m\u001b[0m\u001b[0;34m\u001b[0m\u001b[0m\n\u001b[0m\u001b[1;32m    367\u001b[0m             \u001b[0mtup\u001b[0m \u001b[0;34m=\u001b[0m \u001b[0mtup\u001b[0m\u001b[0;34m[\u001b[0m\u001b[0;34m:\u001b[0m\u001b[0;34m-\u001b[0m\u001b[0;36m1\u001b[0m\u001b[0;34m]\u001b[0m\u001b[0;34m\u001b[0m\u001b[0;34m\u001b[0m\u001b[0m\n\u001b[1;32m    368\u001b[0m         \u001b[0;32melif\u001b[0m \u001b[0mlen\u001b[0m\u001b[0;34m(\u001b[0m\u001b[0mtup\u001b[0m\u001b[0;34m)\u001b[0m \u001b[0;34m==\u001b[0m \u001b[0;36m3\u001b[0m\u001b[0;34m:\u001b[0m\u001b[0;34m\u001b[0m\u001b[0;34m\u001b[0m\u001b[0m\n",
      "\u001b[0;32m/srv/conda/envs/notebook/lib/python3.7/site-packages/matplotlib/axes/_base.py\u001b[0m in \u001b[0;36m_process_plot_format\u001b[0;34m(fmt)\u001b[0m\n\u001b[1;32m    104\u001b[0m         \u001b[0;32melse\u001b[0m\u001b[0;34m:\u001b[0m\u001b[0;34m\u001b[0m\u001b[0;34m\u001b[0m\u001b[0m\n\u001b[1;32m    105\u001b[0m             raise ValueError(\n\u001b[0;32m--> 106\u001b[0;31m                 'Unrecognized character %c in format string' % c)\n\u001b[0m\u001b[1;32m    107\u001b[0m \u001b[0;34m\u001b[0m\u001b[0m\n\u001b[1;32m    108\u001b[0m     \u001b[0;32mif\u001b[0m \u001b[0mlinestyle\u001b[0m \u001b[0;32mis\u001b[0m \u001b[0;32mNone\u001b[0m \u001b[0;32mand\u001b[0m \u001b[0mmarker\u001b[0m \u001b[0;32mis\u001b[0m \u001b[0;32mNone\u001b[0m\u001b[0;34m:\u001b[0m\u001b[0;34m\u001b[0m\u001b[0;34m\u001b[0m\u001b[0m\n",
      "\u001b[0;31mValueError\u001b[0m: Unrecognized character e in format string"
     ]
    },
    {
     "data": {
      "image/png": "[encoded data removed]",
      "text/plain": [
       "<Figure size 864x576 with 4 Axes>"
      ]
     },
     "metadata": {
      "needs_background": "light"
     },
     "output_type": "display_data"
    }
   ],
   "source": [
    "NR = 2; NC = 2\n",
    "y = depth\n",
    "x = ds_2019.practical_salinity\n",
    "fig, axes = plt.subplots(nrows=NR, ncols=NC, figsize=(12,8), squeeze=False)\n",
    "axes[0,0].plot(x,y)\n",
    "#axes[0,1].plot(x,y)\n",
    "#axes[1,0].plot(x,y3)\n",
    "#axes[1,1].plot(x,y4)\n",
    "fig.suptitle(tstr) # add a title over all the plots"
   ]
  },
  {
   "cell_type": "code",
   "execution_count": 34,
   "metadata": {},
   "outputs": [
    {
     "data": {
      "text/plain": [
       "Text(0.5, 1.0, 'Binned standard deviations of seawater salinity, first week of August')"
      ]
     },
     "execution_count": 34,
     "metadata": {},
     "output_type": "execute_result"
    },
    {
     "data": {
      "image/png": "[encoded data removed]",
      "text/plain": [
       "<Figure size 432x288 with 1 Axes>"
      ]
     },
     "metadata": {
      "needs_background": "light"
     },
     "output_type": "display_data"
    }
   ],
   "source": [
    "x1 = ds_2019.practical_salinity\n",
    "ds_2018.practical_salinity.plot(y = depth, label=2018) \n",
    "plt.legend()\n",
    "plt.title('Practical salinity vs pressure, first week of August')\n",
    "\n",
    "# This plot needs the x-axis labels to be changed from seconds to dates 08-01 to 08-08\n",
    "\n",
    "plt.plot(ds_2019.practical_salinity, label=2019) \n",
    "plt.plot(ds_2018.practical_salinity, label=2018) \n",
    "plt.legend()\n",
    "plt.title('Practical salinity over time, first week of August')\n",
    "\n",
    "dsps = ds.practical_salinity\n",
    "dsps_bin = dsps.groupby_bins(group = depth, bins = 20)\n",
    "\n",
    "# Let's get a variable that has the means of practical salinity for each depth bin\n",
    "dsps_mean_2018 = dsps_bin.mean()\n",
    "\n",
    "# We also want the standard deviation\n",
    "dsps_stdev_2018 = dsps_bin.std()\n",
    "\n",
    "plt.plot(dsps_mean_2019, label=\"2019\")\n",
    "plt.plot(dsps_mean_2018, label=\"2018\")\n",
    "plt.legend()\n",
    "plt.title('Binned means of seawater salinity, first week of August')\n",
    "\n",
    "plt.plot(dsps_stdev_2019, label=\"2019\")\n",
    "plt.plot(dsps_stdev_2018, label=\"2018\")\n",
    "plt.legend()\n",
    "plt.title('Binned standard deviations of seawater salinity, first week of August')"
   ]
  },
  {
   "cell_type": "markdown",
   "metadata": {},
   "source": [
    "# Pick up from here\n",
    "\n",
    "Next: compare the first week of August 2019 to 2018. \n",
    "To really improve the current state of this notebook, set it up to cycle through these different times using one large function and plot multiple time periods on one plot. Rely on Rob's chlorophyll notebook for direction! "
   ]
  },
  {
   "cell_type": "markdown",
   "metadata": {},
   "source": [
    "## Combining the Workflow Steps\n",
    "\n",
    "Now that we've done each step one-by-one, we can combine the steps explained above into a streamlined process. This section will include the following:\n",
    "* download dataset for the shallow profiler at oregon slope base for the year 2019 (be sure you entered your credentials way above)\n",
    "* open dataset and swap dims\n",
    "* analyze data on a weekly time interval\n",
    "* obtain the means and stdevs for the weekly time intervals\n",
    "* plot together to see how mean and stdev of practical salinity changes throughout the year"
   ]
  },
  {
   "cell_type": "code",
   "execution_count": 8,
   "metadata": {
    "collapsed": true,
    "jupyter": {
     "outputs_hidden": true
    }
   },
   "outputs": [
    {
     "name": "stderr",
     "output_type": "stream",
     "text": [
      "(MainThread) RS01SBPS-SF01A-2A-CTDPFA102-streamed-ctdpf_sbe43_sample time check - End time exceeds stream endTime\n",
      "(MainThread) Setting request end time to stream endTime\n",
      "(MainThread) Your data (https://opendap.oceanobservatories.org/async_results/deryag@uw.edu/20200324T170443074Z-RS01SBPS-SF01A-2A-CTDPFA102-streamed-ctdpf_sbe43_sample) is still compiling... Please wait.\n"
     ]
    },
    {
     "name": "stdout",
     "output_type": "stream",
     "text": [
      "Your data (https://opendap.oceanobservatories.org/async_results/deryag@uw.edu/20200324T170443074Z-RS01SBPS-SF01A-2A-CTDPFA102-streamed-ctdpf_sbe43_sample) is still compiling... Please wait.\n"
     ]
    },
    {
     "name": "stderr",
     "output_type": "stream",
     "text": [
      "(MainThread) Data request time elapsed: 10s\n"
     ]
    },
    {
     "name": "stdout",
     "output_type": "stream",
     "text": [
      "Data request time elapsed: 10s\n"
     ]
    },
    {
     "name": "stderr",
     "output_type": "stream",
     "text": [
      "(MainThread) Your data (https://opendap.oceanobservatories.org/async_results/deryag@uw.edu/20200324T170443074Z-RS01SBPS-SF01A-2A-CTDPFA102-streamed-ctdpf_sbe43_sample) is still compiling... Please wait.\n"
     ]
    },
    {
     "name": "stdout",
     "output_type": "stream",
     "text": [
      "Your data (https://opendap.oceanobservatories.org/async_results/deryag@uw.edu/20200324T170443074Z-RS01SBPS-SF01A-2A-CTDPFA102-streamed-ctdpf_sbe43_sample) is still compiling... Please wait.\n"
     ]
    },
    {
     "name": "stderr",
     "output_type": "stream",
     "text": [
      "(MainThread) Data request time elapsed: 20s\n"
     ]
    },
    {
     "name": "stdout",
     "output_type": "stream",
     "text": [
      "Data request time elapsed: 20s\n"
     ]
    },
    {
     "name": "stderr",
     "output_type": "stream",
     "text": [
      "(MainThread) Your data (https://opendap.oceanobservatories.org/async_results/deryag@uw.edu/20200324T170443074Z-RS01SBPS-SF01A-2A-CTDPFA102-streamed-ctdpf_sbe43_sample) is still compiling... Please wait.\n"
     ]
    },
    {
     "name": "stdout",
     "output_type": "stream",
     "text": [
      "Your data (https://opendap.oceanobservatories.org/async_results/deryag@uw.edu/20200324T170443074Z-RS01SBPS-SF01A-2A-CTDPFA102-streamed-ctdpf_sbe43_sample) is still compiling... Please wait.\n"
     ]
    },
    {
     "name": "stderr",
     "output_type": "stream",
     "text": [
      "(MainThread) Data request time elapsed: 30s\n"
     ]
    },
    {
     "name": "stdout",
     "output_type": "stream",
     "text": [
      "Data request time elapsed: 30s\n"
     ]
    },
    {
     "name": "stderr",
     "output_type": "stream",
     "text": [
      "(MainThread) Your data (https://opendap.oceanobservatories.org/async_results/deryag@uw.edu/20200324T170443074Z-RS01SBPS-SF01A-2A-CTDPFA102-streamed-ctdpf_sbe43_sample) is still compiling... Please wait.\n"
     ]
    },
    {
     "name": "stdout",
     "output_type": "stream",
     "text": [
      "Your data (https://opendap.oceanobservatories.org/async_results/deryag@uw.edu/20200324T170443074Z-RS01SBPS-SF01A-2A-CTDPFA102-streamed-ctdpf_sbe43_sample) is still compiling... Please wait.\n"
     ]
    },
    {
     "name": "stderr",
     "output_type": "stream",
     "text": [
      "(MainThread) Data request time elapsed: 41s\n"
     ]
    },
    {
     "name": "stdout",
     "output_type": "stream",
     "text": [
      "Data request time elapsed: 41s\n"
     ]
    },
    {
     "name": "stderr",
     "output_type": "stream",
     "text": [
      "(MainThread) Your data (https://opendap.oceanobservatories.org/async_results/deryag@uw.edu/20200324T170443074Z-RS01SBPS-SF01A-2A-CTDPFA102-streamed-ctdpf_sbe43_sample) is still compiling... Please wait.\n"
     ]
    },
    {
     "name": "stdout",
     "output_type": "stream",
     "text": [
      "Your data (https://opendap.oceanobservatories.org/async_results/deryag@uw.edu/20200324T170443074Z-RS01SBPS-SF01A-2A-CTDPFA102-streamed-ctdpf_sbe43_sample) is still compiling... Please wait.\n"
     ]
    },
    {
     "name": "stderr",
     "output_type": "stream",
     "text": [
      "(MainThread) Data request time elapsed: 51s\n"
     ]
    },
    {
     "name": "stdout",
     "output_type": "stream",
     "text": [
      "Data request time elapsed: 51s\n"
     ]
    },
    {
     "name": "stderr",
     "output_type": "stream",
     "text": [
      "(MainThread) Your data (https://opendap.oceanobservatories.org/async_results/deryag@uw.edu/20200324T170443074Z-RS01SBPS-SF01A-2A-CTDPFA102-streamed-ctdpf_sbe43_sample) is still compiling... Please wait.\n"
     ]
    },
    {
     "name": "stdout",
     "output_type": "stream",
     "text": [
      "Your data (https://opendap.oceanobservatories.org/async_results/deryag@uw.edu/20200324T170443074Z-RS01SBPS-SF01A-2A-CTDPFA102-streamed-ctdpf_sbe43_sample) is still compiling... Please wait.\n"
     ]
    },
    {
     "name": "stderr",
     "output_type": "stream",
     "text": [
      "(MainThread) Data request time elapsed: 61s\n"
     ]
    },
    {
     "name": "stdout",
     "output_type": "stream",
     "text": [
      "Data request time elapsed: 61s\n"
     ]
    },
    {
     "name": "stderr",
     "output_type": "stream",
     "text": [
      "(MainThread) Your data (https://opendap.oceanobservatories.org/async_results/deryag@uw.edu/20200324T170443074Z-RS01SBPS-SF01A-2A-CTDPFA102-streamed-ctdpf_sbe43_sample) is still compiling... Please wait.\n"
     ]
    },
    {
     "name": "stdout",
     "output_type": "stream",
     "text": [
      "Your data (https://opendap.oceanobservatories.org/async_results/deryag@uw.edu/20200324T170443074Z-RS01SBPS-SF01A-2A-CTDPFA102-streamed-ctdpf_sbe43_sample) is still compiling... Please wait.\n"
     ]
    },
    {
     "name": "stderr",
     "output_type": "stream",
     "text": [
      "(MainThread) Data request time elapsed: 72s\n"
     ]
    },
    {
     "name": "stdout",
     "output_type": "stream",
     "text": [
      "Data request time elapsed: 72s\n"
     ]
    },
    {
     "name": "stderr",
     "output_type": "stream",
     "text": [
      "(MainThread) Your data (https://opendap.oceanobservatories.org/async_results/deryag@uw.edu/20200324T170443074Z-RS01SBPS-SF01A-2A-CTDPFA102-streamed-ctdpf_sbe43_sample) is still compiling... Please wait.\n"
     ]
    },
    {
     "name": "stdout",
     "output_type": "stream",
     "text": [
      "Your data (https://opendap.oceanobservatories.org/async_results/deryag@uw.edu/20200324T170443074Z-RS01SBPS-SF01A-2A-CTDPFA102-streamed-ctdpf_sbe43_sample) is still compiling... Please wait.\n"
     ]
    },
    {
     "name": "stderr",
     "output_type": "stream",
     "text": [
      "(MainThread) Data request time elapsed: 82s\n"
     ]
    },
    {
     "name": "stdout",
     "output_type": "stream",
     "text": [
      "Data request time elapsed: 82s\n"
     ]
    },
    {
     "name": "stderr",
     "output_type": "stream",
     "text": [
      "(MainThread) Your data (https://opendap.oceanobservatories.org/async_results/deryag@uw.edu/20200324T170443074Z-RS01SBPS-SF01A-2A-CTDPFA102-streamed-ctdpf_sbe43_sample) is still compiling... Please wait.\n"
     ]
    },
    {
     "name": "stdout",
     "output_type": "stream",
     "text": [
      "Your data (https://opendap.oceanobservatories.org/async_results/deryag@uw.edu/20200324T170443074Z-RS01SBPS-SF01A-2A-CTDPFA102-streamed-ctdpf_sbe43_sample) is still compiling... Please wait.\n"
     ]
    },
    {
     "name": "stderr",
     "output_type": "stream",
     "text": [
      "(MainThread) Data request time elapsed: 92s\n"
     ]
    },
    {
     "name": "stdout",
     "output_type": "stream",
     "text": [
      "Data request time elapsed: 92s\n"
     ]
    },
    {
     "name": "stderr",
     "output_type": "stream",
     "text": [
      "(MainThread) Your data (https://opendap.oceanobservatories.org/async_results/deryag@uw.edu/20200324T170443074Z-RS01SBPS-SF01A-2A-CTDPFA102-streamed-ctdpf_sbe43_sample) is still compiling... Please wait.\n"
     ]
    },
    {
     "name": "stdout",
     "output_type": "stream",
     "text": [
      "Your data (https://opendap.oceanobservatories.org/async_results/deryag@uw.edu/20200324T170443074Z-RS01SBPS-SF01A-2A-CTDPFA102-streamed-ctdpf_sbe43_sample) is still compiling... Please wait.\n"
     ]
    },
    {
     "name": "stderr",
     "output_type": "stream",
     "text": [
      "(MainThread) Data request time elapsed: 103s\n"
     ]
    },
    {
     "name": "stdout",
     "output_type": "stream",
     "text": [
      "Data request time elapsed: 103s\n"
     ]
    },
    {
     "name": "stderr",
     "output_type": "stream",
     "text": [
      "(MainThread) Your data (https://opendap.oceanobservatories.org/async_results/deryag@uw.edu/20200324T170443074Z-RS01SBPS-SF01A-2A-CTDPFA102-streamed-ctdpf_sbe43_sample) is still compiling... Please wait.\n"
     ]
    },
    {
     "name": "stdout",
     "output_type": "stream",
     "text": [
      "Your data (https://opendap.oceanobservatories.org/async_results/deryag@uw.edu/20200324T170443074Z-RS01SBPS-SF01A-2A-CTDPFA102-streamed-ctdpf_sbe43_sample) is still compiling... Please wait.\n"
     ]
    },
    {
     "name": "stderr",
     "output_type": "stream",
     "text": [
      "(MainThread) Data request time elapsed: 113s\n"
     ]
    },
    {
     "name": "stdout",
     "output_type": "stream",
     "text": [
      "Data request time elapsed: 113s\n"
     ]
    },
    {
     "name": "stderr",
     "output_type": "stream",
     "text": [
      "(MainThread) Your data (https://opendap.oceanobservatories.org/async_results/deryag@uw.edu/20200324T170443074Z-RS01SBPS-SF01A-2A-CTDPFA102-streamed-ctdpf_sbe43_sample) is still compiling... Please wait.\n"
     ]
    },
    {
     "name": "stdout",
     "output_type": "stream",
     "text": [
      "Your data (https://opendap.oceanobservatories.org/async_results/deryag@uw.edu/20200324T170443074Z-RS01SBPS-SF01A-2A-CTDPFA102-streamed-ctdpf_sbe43_sample) is still compiling... Please wait.\n"
     ]
    },
    {
     "name": "stderr",
     "output_type": "stream",
     "text": [
      "(MainThread) Data request time elapsed: 123s\n"
     ]
    },
    {
     "name": "stdout",
     "output_type": "stream",
     "text": [
      "Data request time elapsed: 123s\n"
     ]
    },
    {
     "name": "stderr",
     "output_type": "stream",
     "text": [
      "(MainThread) Your data (https://opendap.oceanobservatories.org/async_results/deryag@uw.edu/20200324T170443074Z-RS01SBPS-SF01A-2A-CTDPFA102-streamed-ctdpf_sbe43_sample) is still compiling... Please wait.\n"
     ]
    },
    {
     "name": "stdout",
     "output_type": "stream",
     "text": [
      "Your data (https://opendap.oceanobservatories.org/async_results/deryag@uw.edu/20200324T170443074Z-RS01SBPS-SF01A-2A-CTDPFA102-streamed-ctdpf_sbe43_sample) is still compiling... Please wait.\n"
     ]
    },
    {
     "name": "stderr",
     "output_type": "stream",
     "text": [
      "(MainThread) Data request time elapsed: 133s\n"
     ]
    },
    {
     "name": "stdout",
     "output_type": "stream",
     "text": [
      "Data request time elapsed: 133s\n"
     ]
    },
    {
     "name": "stderr",
     "output_type": "stream",
     "text": [
      "(MainThread) Your data (https://opendap.oceanobservatories.org/async_results/deryag@uw.edu/20200324T170443074Z-RS01SBPS-SF01A-2A-CTDPFA102-streamed-ctdpf_sbe43_sample) is still compiling... Please wait.\n"
     ]
    },
    {
     "name": "stdout",
     "output_type": "stream",
     "text": [
      "Your data (https://opendap.oceanobservatories.org/async_results/deryag@uw.edu/20200324T170443074Z-RS01SBPS-SF01A-2A-CTDPFA102-streamed-ctdpf_sbe43_sample) is still compiling... Please wait.\n"
     ]
    },
    {
     "name": "stderr",
     "output_type": "stream",
     "text": [
      "(MainThread) Data request time elapsed: 144s\n"
     ]
    },
    {
     "name": "stdout",
     "output_type": "stream",
     "text": [
      "Data request time elapsed: 144s\n"
     ]
    },
    {
     "name": "stderr",
     "output_type": "stream",
     "text": [
      "(MainThread) Your data (https://opendap.oceanobservatories.org/async_results/deryag@uw.edu/20200324T170443074Z-RS01SBPS-SF01A-2A-CTDPFA102-streamed-ctdpf_sbe43_sample) is still compiling... Please wait.\n"
     ]
    },
    {
     "name": "stdout",
     "output_type": "stream",
     "text": [
      "Your data (https://opendap.oceanobservatories.org/async_results/deryag@uw.edu/20200324T170443074Z-RS01SBPS-SF01A-2A-CTDPFA102-streamed-ctdpf_sbe43_sample) is still compiling... Please wait.\n"
     ]
    },
    {
     "name": "stderr",
     "output_type": "stream",
     "text": [
      "(MainThread) Data request time elapsed: 159s\n"
     ]
    },
    {
     "name": "stdout",
     "output_type": "stream",
     "text": [
      "Data request time elapsed: 159s\n"
     ]
    },
    {
     "name": "stderr",
     "output_type": "stream",
     "text": [
      "(MainThread) Your data (https://opendap.oceanobservatories.org/async_results/deryag@uw.edu/20200324T170443074Z-RS01SBPS-SF01A-2A-CTDPFA102-streamed-ctdpf_sbe43_sample) is still compiling... Please wait.\n"
     ]
    },
    {
     "name": "stdout",
     "output_type": "stream",
     "text": [
      "Your data (https://opendap.oceanobservatories.org/async_results/deryag@uw.edu/20200324T170443074Z-RS01SBPS-SF01A-2A-CTDPFA102-streamed-ctdpf_sbe43_sample) is still compiling... Please wait.\n"
     ]
    },
    {
     "name": "stderr",
     "output_type": "stream",
     "text": [
      "(MainThread) Data request time elapsed: 170s\n"
     ]
    },
    {
     "name": "stdout",
     "output_type": "stream",
     "text": [
      "Data request time elapsed: 170s\n"
     ]
    },
    {
     "name": "stderr",
     "output_type": "stream",
     "text": [
      "(MainThread) Your data (https://opendap.oceanobservatories.org/async_results/deryag@uw.edu/20200324T170443074Z-RS01SBPS-SF01A-2A-CTDPFA102-streamed-ctdpf_sbe43_sample) is still compiling... Please wait.\n"
     ]
    },
    {
     "name": "stdout",
     "output_type": "stream",
     "text": [
      "Your data (https://opendap.oceanobservatories.org/async_results/deryag@uw.edu/20200324T170443074Z-RS01SBPS-SF01A-2A-CTDPFA102-streamed-ctdpf_sbe43_sample) is still compiling... Please wait.\n"
     ]
    },
    {
     "name": "stderr",
     "output_type": "stream",
     "text": [
      "(MainThread) Data request time elapsed: 180s\n"
     ]
    },
    {
     "name": "stdout",
     "output_type": "stream",
     "text": [
      "Data request time elapsed: 180s\n"
     ]
    },
    {
     "name": "stderr",
     "output_type": "stream",
     "text": [
      "(MainThread) Your data (https://opendap.oceanobservatories.org/async_results/deryag@uw.edu/20200324T170443074Z-RS01SBPS-SF01A-2A-CTDPFA102-streamed-ctdpf_sbe43_sample) is still compiling... Please wait.\n"
     ]
    },
    {
     "name": "stdout",
     "output_type": "stream",
     "text": [
      "Your data (https://opendap.oceanobservatories.org/async_results/deryag@uw.edu/20200324T170443074Z-RS01SBPS-SF01A-2A-CTDPFA102-streamed-ctdpf_sbe43_sample) is still compiling... Please wait.\n"
     ]
    },
    {
     "name": "stderr",
     "output_type": "stream",
     "text": [
      "(MainThread) Data request time elapsed: 190s\n"
     ]
    },
    {
     "name": "stdout",
     "output_type": "stream",
     "text": [
      "Data request time elapsed: 190s\n"
     ]
    },
    {
     "name": "stderr",
     "output_type": "stream",
     "text": [
      "(MainThread) Your data (https://opendap.oceanobservatories.org/async_results/deryag@uw.edu/20200324T170443074Z-RS01SBPS-SF01A-2A-CTDPFA102-streamed-ctdpf_sbe43_sample) is still compiling... Please wait.\n"
     ]
    },
    {
     "name": "stdout",
     "output_type": "stream",
     "text": [
      "Your data (https://opendap.oceanobservatories.org/async_results/deryag@uw.edu/20200324T170443074Z-RS01SBPS-SF01A-2A-CTDPFA102-streamed-ctdpf_sbe43_sample) is still compiling... Please wait.\n"
     ]
    },
    {
     "name": "stderr",
     "output_type": "stream",
     "text": [
      "(MainThread) Data request time elapsed: 201s\n"
     ]
    },
    {
     "name": "stdout",
     "output_type": "stream",
     "text": [
      "Data request time elapsed: 201s\n"
     ]
    },
    {
     "name": "stderr",
     "output_type": "stream",
     "text": [
      "(MainThread) Your data (https://opendap.oceanobservatories.org/async_results/deryag@uw.edu/20200324T170443074Z-RS01SBPS-SF01A-2A-CTDPFA102-streamed-ctdpf_sbe43_sample) is still compiling... Please wait.\n"
     ]
    },
    {
     "name": "stdout",
     "output_type": "stream",
     "text": [
      "Your data (https://opendap.oceanobservatories.org/async_results/deryag@uw.edu/20200324T170443074Z-RS01SBPS-SF01A-2A-CTDPFA102-streamed-ctdpf_sbe43_sample) is still compiling... Please wait.\n"
     ]
    },
    {
     "name": "stderr",
     "output_type": "stream",
     "text": [
      "(MainThread) Data request time elapsed: 211s\n"
     ]
    },
    {
     "name": "stdout",
     "output_type": "stream",
     "text": [
      "Data request time elapsed: 211s\n"
     ]
    },
    {
     "name": "stderr",
     "output_type": "stream",
     "text": [
      "(MainThread) Your data (https://opendap.oceanobservatories.org/async_results/deryag@uw.edu/20200324T170443074Z-RS01SBPS-SF01A-2A-CTDPFA102-streamed-ctdpf_sbe43_sample) is still compiling... Please wait.\n"
     ]
    },
    {
     "name": "stdout",
     "output_type": "stream",
     "text": [
      "Your data (https://opendap.oceanobservatories.org/async_results/deryag@uw.edu/20200324T170443074Z-RS01SBPS-SF01A-2A-CTDPFA102-streamed-ctdpf_sbe43_sample) is still compiling... Please wait.\n"
     ]
    },
    {
     "name": "stderr",
     "output_type": "stream",
     "text": [
      "(MainThread) Data request time elapsed: 221s\n"
     ]
    },
    {
     "name": "stdout",
     "output_type": "stream",
     "text": [
      "Data request time elapsed: 221s\n"
     ]
    },
    {
     "name": "stderr",
     "output_type": "stream",
     "text": [
      "(MainThread) Your data (https://opendap.oceanobservatories.org/async_results/deryag@uw.edu/20200324T170443074Z-RS01SBPS-SF01A-2A-CTDPFA102-streamed-ctdpf_sbe43_sample) is still compiling... Please wait.\n"
     ]
    },
    {
     "name": "stdout",
     "output_type": "stream",
     "text": [
      "Your data (https://opendap.oceanobservatories.org/async_results/deryag@uw.edu/20200324T170443074Z-RS01SBPS-SF01A-2A-CTDPFA102-streamed-ctdpf_sbe43_sample) is still compiling... Please wait.\n"
     ]
    },
    {
     "name": "stderr",
     "output_type": "stream",
     "text": [
      "(MainThread) Data request time elapsed: 232s\n"
     ]
    },
    {
     "name": "stdout",
     "output_type": "stream",
     "text": [
      "Data request time elapsed: 232s\n"
     ]
    },
    {
     "name": "stderr",
     "output_type": "stream",
     "text": [
      "(MainThread) Your data (https://opendap.oceanobservatories.org/async_results/deryag@uw.edu/20200324T170443074Z-RS01SBPS-SF01A-2A-CTDPFA102-streamed-ctdpf_sbe43_sample) is still compiling... Please wait.\n"
     ]
    },
    {
     "name": "stdout",
     "output_type": "stream",
     "text": [
      "Your data (https://opendap.oceanobservatories.org/async_results/deryag@uw.edu/20200324T170443074Z-RS01SBPS-SF01A-2A-CTDPFA102-streamed-ctdpf_sbe43_sample) is still compiling... Please wait.\n"
     ]
    },
    {
     "name": "stderr",
     "output_type": "stream",
     "text": [
      "(MainThread) Data request time elapsed: 242s\n"
     ]
    },
    {
     "name": "stdout",
     "output_type": "stream",
     "text": [
      "Data request time elapsed: 242s\n"
     ]
    },
    {
     "name": "stderr",
     "output_type": "stream",
     "text": [
      "(MainThread) Your data (https://opendap.oceanobservatories.org/async_results/deryag@uw.edu/20200324T170443074Z-RS01SBPS-SF01A-2A-CTDPFA102-streamed-ctdpf_sbe43_sample) is still compiling... Please wait.\n"
     ]
    },
    {
     "name": "stdout",
     "output_type": "stream",
     "text": [
      "Your data (https://opendap.oceanobservatories.org/async_results/deryag@uw.edu/20200324T170443074Z-RS01SBPS-SF01A-2A-CTDPFA102-streamed-ctdpf_sbe43_sample) is still compiling... Please wait.\n"
     ]
    },
    {
     "name": "stderr",
     "output_type": "stream",
     "text": [
      "(MainThread) Data request time elapsed: 252s\n"
     ]
    },
    {
     "name": "stdout",
     "output_type": "stream",
     "text": [
      "Data request time elapsed: 252s\n"
     ]
    },
    {
     "name": "stderr",
     "output_type": "stream",
     "text": [
      "(MainThread) Your data (https://opendap.oceanobservatories.org/async_results/deryag@uw.edu/20200324T170443074Z-RS01SBPS-SF01A-2A-CTDPFA102-streamed-ctdpf_sbe43_sample) is still compiling... Please wait.\n"
     ]
    },
    {
     "name": "stdout",
     "output_type": "stream",
     "text": [
      "Your data (https://opendap.oceanobservatories.org/async_results/deryag@uw.edu/20200324T170443074Z-RS01SBPS-SF01A-2A-CTDPFA102-streamed-ctdpf_sbe43_sample) is still compiling... Please wait.\n"
     ]
    },
    {
     "name": "stderr",
     "output_type": "stream",
     "text": [
      "(MainThread) Data request time elapsed: 263s\n"
     ]
    },
    {
     "name": "stdout",
     "output_type": "stream",
     "text": [
      "Data request time elapsed: 263s\n"
     ]
    },
    {
     "name": "stderr",
     "output_type": "stream",
     "text": [
      "(MainThread) Your data (https://opendap.oceanobservatories.org/async_results/deryag@uw.edu/20200324T170443074Z-RS01SBPS-SF01A-2A-CTDPFA102-streamed-ctdpf_sbe43_sample) is still compiling... Please wait.\n"
     ]
    },
    {
     "name": "stdout",
     "output_type": "stream",
     "text": [
      "Your data (https://opendap.oceanobservatories.org/async_results/deryag@uw.edu/20200324T170443074Z-RS01SBPS-SF01A-2A-CTDPFA102-streamed-ctdpf_sbe43_sample) is still compiling... Please wait.\n"
     ]
    },
    {
     "name": "stderr",
     "output_type": "stream",
     "text": [
      "(MainThread) Data request time elapsed: 273s\n"
     ]
    },
    {
     "name": "stdout",
     "output_type": "stream",
     "text": [
      "Data request time elapsed: 273s\n"
     ]
    },
    {
     "name": "stderr",
     "output_type": "stream",
     "text": [
      "(MainThread) Your data (https://opendap.oceanobservatories.org/async_results/deryag@uw.edu/20200324T170443074Z-RS01SBPS-SF01A-2A-CTDPFA102-streamed-ctdpf_sbe43_sample) is still compiling... Please wait.\n"
     ]
    },
    {
     "name": "stdout",
     "output_type": "stream",
     "text": [
      "Your data (https://opendap.oceanobservatories.org/async_results/deryag@uw.edu/20200324T170443074Z-RS01SBPS-SF01A-2A-CTDPFA102-streamed-ctdpf_sbe43_sample) is still compiling... Please wait.\n"
     ]
    },
    {
     "name": "stderr",
     "output_type": "stream",
     "text": [
      "(MainThread) Data request time elapsed: 283s\n"
     ]
    },
    {
     "name": "stdout",
     "output_type": "stream",
     "text": [
      "Data request time elapsed: 283s\n"
     ]
    },
    {
     "name": "stderr",
     "output_type": "stream",
     "text": [
      "(MainThread) Your data (https://opendap.oceanobservatories.org/async_results/deryag@uw.edu/20200324T170443074Z-RS01SBPS-SF01A-2A-CTDPFA102-streamed-ctdpf_sbe43_sample) is still compiling... Please wait.\n"
     ]
    },
    {
     "name": "stdout",
     "output_type": "stream",
     "text": [
      "Your data (https://opendap.oceanobservatories.org/async_results/deryag@uw.edu/20200324T170443074Z-RS01SBPS-SF01A-2A-CTDPFA102-streamed-ctdpf_sbe43_sample) is still compiling... Please wait.\n"
     ]
    },
    {
     "name": "stderr",
     "output_type": "stream",
     "text": [
      "(MainThread) Data request time elapsed: 294s\n"
     ]
    },
    {
     "name": "stdout",
     "output_type": "stream",
     "text": [
      "Data request time elapsed: 294s\n"
     ]
    },
    {
     "name": "stderr",
     "output_type": "stream",
     "text": [
      "(MainThread) Your data (https://opendap.oceanobservatories.org/async_results/deryag@uw.edu/20200324T170443074Z-RS01SBPS-SF01A-2A-CTDPFA102-streamed-ctdpf_sbe43_sample) is still compiling... Please wait.\n"
     ]
    },
    {
     "name": "stdout",
     "output_type": "stream",
     "text": [
      "Your data (https://opendap.oceanobservatories.org/async_results/deryag@uw.edu/20200324T170443074Z-RS01SBPS-SF01A-2A-CTDPFA102-streamed-ctdpf_sbe43_sample) is still compiling... Please wait.\n"
     ]
    },
    {
     "name": "stderr",
     "output_type": "stream",
     "text": [
      "(MainThread) Data request time elapsed: 304s\n"
     ]
    },
    {
     "name": "stdout",
     "output_type": "stream",
     "text": [
      "Data request time elapsed: 304s\n"
     ]
    },
    {
     "name": "stderr",
     "output_type": "stream",
     "text": [
      "(MainThread) Your data (https://opendap.oceanobservatories.org/async_results/deryag@uw.edu/20200324T170443074Z-RS01SBPS-SF01A-2A-CTDPFA102-streamed-ctdpf_sbe43_sample) is still compiling... Please wait.\n"
     ]
    },
    {
     "name": "stdout",
     "output_type": "stream",
     "text": [
      "Your data (https://opendap.oceanobservatories.org/async_results/deryag@uw.edu/20200324T170443074Z-RS01SBPS-SF01A-2A-CTDPFA102-streamed-ctdpf_sbe43_sample) is still compiling... Please wait.\n"
     ]
    },
    {
     "name": "stderr",
     "output_type": "stream",
     "text": [
      "(MainThread) Data request time elapsed: 314s\n"
     ]
    },
    {
     "name": "stdout",
     "output_type": "stream",
     "text": [
      "Data request time elapsed: 314s\n"
     ]
    },
    {
     "name": "stderr",
     "output_type": "stream",
     "text": [
      "(MainThread) Your data (https://opendap.oceanobservatories.org/async_results/deryag@uw.edu/20200324T170443074Z-RS01SBPS-SF01A-2A-CTDPFA102-streamed-ctdpf_sbe43_sample) is still compiling... Please wait.\n"
     ]
    },
    {
     "name": "stdout",
     "output_type": "stream",
     "text": [
      "Your data (https://opendap.oceanobservatories.org/async_results/deryag@uw.edu/20200324T170443074Z-RS01SBPS-SF01A-2A-CTDPFA102-streamed-ctdpf_sbe43_sample) is still compiling... Please wait.\n"
     ]
    },
    {
     "name": "stderr",
     "output_type": "stream",
     "text": [
      "(MainThread) Data request time elapsed: 325s\n"
     ]
    },
    {
     "name": "stdout",
     "output_type": "stream",
     "text": [
      "Data request time elapsed: 325s\n"
     ]
    },
    {
     "name": "stderr",
     "output_type": "stream",
     "text": [
      "(MainThread) Your data (https://opendap.oceanobservatories.org/async_results/deryag@uw.edu/20200324T170443074Z-RS01SBPS-SF01A-2A-CTDPFA102-streamed-ctdpf_sbe43_sample) is still compiling... Please wait.\n"
     ]
    },
    {
     "name": "stdout",
     "output_type": "stream",
     "text": [
      "Your data (https://opendap.oceanobservatories.org/async_results/deryag@uw.edu/20200324T170443074Z-RS01SBPS-SF01A-2A-CTDPFA102-streamed-ctdpf_sbe43_sample) is still compiling... Please wait.\n"
     ]
    },
    {
     "name": "stderr",
     "output_type": "stream",
     "text": [
      "(MainThread) Data request time elapsed: 335s\n"
     ]
    },
    {
     "name": "stdout",
     "output_type": "stream",
     "text": [
      "Data request time elapsed: 335s\n"
     ]
    },
    {
     "name": "stderr",
     "output_type": "stream",
     "text": [
      "(MainThread) Your data (https://opendap.oceanobservatories.org/async_results/deryag@uw.edu/20200324T170443074Z-RS01SBPS-SF01A-2A-CTDPFA102-streamed-ctdpf_sbe43_sample) is still compiling... Please wait.\n"
     ]
    },
    {
     "name": "stdout",
     "output_type": "stream",
     "text": [
      "Your data (https://opendap.oceanobservatories.org/async_results/deryag@uw.edu/20200324T170443074Z-RS01SBPS-SF01A-2A-CTDPFA102-streamed-ctdpf_sbe43_sample) is still compiling... Please wait.\n"
     ]
    },
    {
     "name": "stderr",
     "output_type": "stream",
     "text": [
      "(MainThread) Data request time elapsed: 345s\n"
     ]
    },
    {
     "name": "stdout",
     "output_type": "stream",
     "text": [
      "Data request time elapsed: 345s\n"
     ]
    },
    {
     "name": "stderr",
     "output_type": "stream",
     "text": [
      "(MainThread) Your data (https://opendap.oceanobservatories.org/async_results/deryag@uw.edu/20200324T170443074Z-RS01SBPS-SF01A-2A-CTDPFA102-streamed-ctdpf_sbe43_sample) is still compiling... Please wait.\n"
     ]
    },
    {
     "name": "stdout",
     "output_type": "stream",
     "text": [
      "Your data (https://opendap.oceanobservatories.org/async_results/deryag@uw.edu/20200324T170443074Z-RS01SBPS-SF01A-2A-CTDPFA102-streamed-ctdpf_sbe43_sample) is still compiling... Please wait.\n"
     ]
    },
    {
     "name": "stderr",
     "output_type": "stream",
     "text": [
      "(MainThread) Data request time elapsed: 356s\n"
     ]
    },
    {
     "name": "stdout",
     "output_type": "stream",
     "text": [
      "Data request time elapsed: 356s\n"
     ]
    },
    {
     "name": "stderr",
     "output_type": "stream",
     "text": [
      "(MainThread) Your data (https://opendap.oceanobservatories.org/async_results/deryag@uw.edu/20200324T170443074Z-RS01SBPS-SF01A-2A-CTDPFA102-streamed-ctdpf_sbe43_sample) is still compiling... Please wait.\n"
     ]
    },
    {
     "name": "stdout",
     "output_type": "stream",
     "text": [
      "Your data (https://opendap.oceanobservatories.org/async_results/deryag@uw.edu/20200324T170443074Z-RS01SBPS-SF01A-2A-CTDPFA102-streamed-ctdpf_sbe43_sample) is still compiling... Please wait.\n"
     ]
    },
    {
     "name": "stderr",
     "output_type": "stream",
     "text": [
      "(MainThread) Data request time elapsed: 366s\n"
     ]
    },
    {
     "name": "stdout",
     "output_type": "stream",
     "text": [
      "Data request time elapsed: 366s\n"
     ]
    },
    {
     "name": "stderr",
     "output_type": "stream",
     "text": [
      "(MainThread) Your data (https://opendap.oceanobservatories.org/async_results/deryag@uw.edu/20200324T170443074Z-RS01SBPS-SF01A-2A-CTDPFA102-streamed-ctdpf_sbe43_sample) is still compiling... Please wait.\n"
     ]
    },
    {
     "name": "stdout",
     "output_type": "stream",
     "text": [
      "Your data (https://opendap.oceanobservatories.org/async_results/deryag@uw.edu/20200324T170443074Z-RS01SBPS-SF01A-2A-CTDPFA102-streamed-ctdpf_sbe43_sample) is still compiling... Please wait.\n"
     ]
    },
    {
     "name": "stderr",
     "output_type": "stream",
     "text": [
      "(MainThread) Data request time elapsed: 376s\n"
     ]
    },
    {
     "name": "stdout",
     "output_type": "stream",
     "text": [
      "Data request time elapsed: 376s\n"
     ]
    },
    {
     "name": "stderr",
     "output_type": "stream",
     "text": [
      "(MainThread) Your data (https://opendap.oceanobservatories.org/async_results/deryag@uw.edu/20200324T170443074Z-RS01SBPS-SF01A-2A-CTDPFA102-streamed-ctdpf_sbe43_sample) is still compiling... Please wait.\n"
     ]
    },
    {
     "name": "stdout",
     "output_type": "stream",
     "text": [
      "Your data (https://opendap.oceanobservatories.org/async_results/deryag@uw.edu/20200324T170443074Z-RS01SBPS-SF01A-2A-CTDPFA102-streamed-ctdpf_sbe43_sample) is still compiling... Please wait.\n"
     ]
    },
    {
     "name": "stderr",
     "output_type": "stream",
     "text": [
      "(MainThread) Data request time elapsed: 387s\n"
     ]
    },
    {
     "name": "stdout",
     "output_type": "stream",
     "text": [
      "Data request time elapsed: 387s\n"
     ]
    },
    {
     "name": "stderr",
     "output_type": "stream",
     "text": [
      "(MainThread) Your data (https://opendap.oceanobservatories.org/async_results/deryag@uw.edu/20200324T170443074Z-RS01SBPS-SF01A-2A-CTDPFA102-streamed-ctdpf_sbe43_sample) is still compiling... Please wait.\n"
     ]
    },
    {
     "name": "stdout",
     "output_type": "stream",
     "text": [
      "Your data (https://opendap.oceanobservatories.org/async_results/deryag@uw.edu/20200324T170443074Z-RS01SBPS-SF01A-2A-CTDPFA102-streamed-ctdpf_sbe43_sample) is still compiling... Please wait.\n"
     ]
    },
    {
     "name": "stderr",
     "output_type": "stream",
     "text": [
      "(MainThread) Data request time elapsed: 397s\n"
     ]
    },
    {
     "name": "stdout",
     "output_type": "stream",
     "text": [
      "Data request time elapsed: 397s\n"
     ]
    },
    {
     "name": "stderr",
     "output_type": "stream",
     "text": [
      "(MainThread) Your data (https://opendap.oceanobservatories.org/async_results/deryag@uw.edu/20200324T170443074Z-RS01SBPS-SF01A-2A-CTDPFA102-streamed-ctdpf_sbe43_sample) is still compiling... Please wait.\n"
     ]
    },
    {
     "name": "stdout",
     "output_type": "stream",
     "text": [
      "Your data (https://opendap.oceanobservatories.org/async_results/deryag@uw.edu/20200324T170443074Z-RS01SBPS-SF01A-2A-CTDPFA102-streamed-ctdpf_sbe43_sample) is still compiling... Please wait.\n"
     ]
    },
    {
     "name": "stderr",
     "output_type": "stream",
     "text": [
      "(MainThread) Data request time elapsed: 407s\n"
     ]
    },
    {
     "name": "stdout",
     "output_type": "stream",
     "text": [
      "Data request time elapsed: 407s\n"
     ]
    },
    {
     "name": "stderr",
     "output_type": "stream",
     "text": [
      "(MainThread) Request (https://opendap.oceanobservatories.org/async_results/deryag@uw.edu/20200324T170443074Z-RS01SBPS-SF01A-2A-CTDPFA102-streamed-ctdpf_sbe43_sample) completed.\n"
     ]
    },
    {
     "name": "stdout",
     "output_type": "stream",
     "text": [
      "Request (https://opendap.oceanobservatories.org/async_results/deryag@uw.edu/20200324T170443074Z-RS01SBPS-SF01A-2A-CTDPFA102-streamed-ctdpf_sbe43_sample) completed.\n"
     ]
    },
    {
     "name": "stderr",
     "output_type": "stream",
     "text": [
      "(MainThread) Acquiring data from opendap urls ...\n",
      "/srv/conda/envs/notebook/lib/python3.7/site-packages/xarray/backends/api.py:783: FutureWarning: In xarray version 0.13 `auto_combine` will be deprecated.\n",
      "  coords=coords)\n",
      "/srv/conda/envs/notebook/lib/python3.7/site-packages/xarray/backends/api.py:783: FutureWarning: The datasets supplied have global dimension coordinates. You may want\n",
      "to use the new `combine_by_coords` function (or the\n",
      "`combine='by_coords'` option to `open_mfdataset` to order the datasets\n",
      "before concatenation. Alternatively, to continue concatenating based\n",
      "on the order the datasets are supplied in in future, please use the\n",
      "new `combine_nested` function (or the `combine='nested'` option to\n",
      "open_mfdataset).\n",
      "  coords=coords)\n"
     ]
    }
   ],
   "source": [
    "'''Running .request_data() generates a data request\n",
    "while running .to_xarray() polls the OOI system until the order completes; \n",
    " this will take a couple of minutes'''\n",
    "\n",
    "\n",
    "# Enter desired start and end dates and generate data request\n",
    "#begin_date = '2019-01-01'\n",
    "#end_date = '2019-12-31'\n",
    "#ooi.request_data(begin_date=begin_date, end_date=end_date)\n",
    "#ds = ooi.to_xarray()\n",
    "\n",
    "\n",
    "# Check length of new dataset list to ensure the correct number of files was requested\n",
    "# len(ds)"
   ]
  },
  {
   "cell_type": "code",
   "execution_count": 9,
   "metadata": {
    "collapsed": true,
    "jupyter": {
     "outputs_hidden": true
    }
   },
   "outputs": [
    {
     "name": "stderr",
     "output_type": "stream",
     "text": [
      "(MainThread) Downloading netcdfs ...\n",
      "(MainThread) Downloading deployment0006_RS01SBPS-SF01A-2A-CTDPFA102-streamed-ctdpf_sbe43_sample_20190101T000000.743189-20190320T235959.267689.nc...\n",
      "(MainThread) Writing deployment0006_RS01SBPS-SF01A-2A-CTDPFA102-streamed-ctdpf_sbe43_sample_20190101T000000.743189-20190320T235959.267689.nc...\n",
      "(MainThread) deployment0006_RS01SBPS-SF01A-2A-CTDPFA102-streamed-ctdpf_sbe43_sample_20190101T000000.743189-20190320T235959.267689.nc successfully downloaded ---\n",
      "(MainThread) --- Checking deployment0006_RS01SBPS-SF01A-2A-CTDPFA102-streamed-ctdpf_sbe43_sample_20190101T000000.743189-20190320T235959.267689.nc ---\n",
      "(MainThread) --- Checks passed for deployment0006_RS01SBPS-SF01A-2A-CTDPFA102-streamed-ctdpf_sbe43_sample_20190101T000000.743189-20190320T235959.267689.nc ---\n",
      "(MainThread) Downloading deployment0006_RS01SBPS-SF01A-2A-CTDPFA102-streamed-ctdpf_sbe43_sample_20190321T000000.267597-20190608T235959.068926.nc...\n",
      "(MainThread) Writing deployment0006_RS01SBPS-SF01A-2A-CTDPFA102-streamed-ctdpf_sbe43_sample_20190321T000000.267597-20190608T235959.068926.nc...\n",
      "(MainThread) deployment0006_RS01SBPS-SF01A-2A-CTDPFA102-streamed-ctdpf_sbe43_sample_20190321T000000.267597-20190608T235959.068926.nc successfully downloaded ---\n",
      "(MainThread) --- Checking deployment0006_RS01SBPS-SF01A-2A-CTDPFA102-streamed-ctdpf_sbe43_sample_20190321T000000.267597-20190608T235959.068926.nc ---\n",
      "(MainThread) --- Checks passed for deployment0006_RS01SBPS-SF01A-2A-CTDPFA102-streamed-ctdpf_sbe43_sample_20190321T000000.267597-20190608T235959.068926.nc ---\n",
      "(MainThread) Downloading deployment0006_RS01SBPS-SF01A-2A-CTDPFA102-streamed-ctdpf_sbe43_sample_20190609T000000.068832-20190614T051242.692351.nc...\n",
      "(MainThread) Writing deployment0006_RS01SBPS-SF01A-2A-CTDPFA102-streamed-ctdpf_sbe43_sample_20190609T000000.068832-20190614T051242.692351.nc...\n",
      "(MainThread) deployment0006_RS01SBPS-SF01A-2A-CTDPFA102-streamed-ctdpf_sbe43_sample_20190609T000000.068832-20190614T051242.692351.nc successfully downloaded ---\n",
      "(MainThread) --- Checking deployment0006_RS01SBPS-SF01A-2A-CTDPFA102-streamed-ctdpf_sbe43_sample_20190609T000000.068832-20190614T051242.692351.nc ---\n",
      "(MainThread) --- Checks passed for deployment0006_RS01SBPS-SF01A-2A-CTDPFA102-streamed-ctdpf_sbe43_sample_20190609T000000.068832-20190614T051242.692351.nc ---\n",
      "(MainThread) Downloading deployment0007_RS01SBPS-SF01A-2A-CTDPFA102-streamed-ctdpf_sbe43_sample_20190614T231354.539487-20190906T235959.416089.nc...\n",
      "(MainThread) Writing deployment0007_RS01SBPS-SF01A-2A-CTDPFA102-streamed-ctdpf_sbe43_sample_20190614T231354.539487-20190906T235959.416089.nc...\n",
      "(MainThread) deployment0007_RS01SBPS-SF01A-2A-CTDPFA102-streamed-ctdpf_sbe43_sample_20190614T231354.539487-20190906T235959.416089.nc successfully downloaded ---\n",
      "(MainThread) --- Checking deployment0007_RS01SBPS-SF01A-2A-CTDPFA102-streamed-ctdpf_sbe43_sample_20190614T231354.539487-20190906T235959.416089.nc ---\n",
      "(MainThread) --- Checks passed for deployment0007_RS01SBPS-SF01A-2A-CTDPFA102-streamed-ctdpf_sbe43_sample_20190614T231354.539487-20190906T235959.416089.nc ---\n",
      "(MainThread) Downloading deployment0007_RS01SBPS-SF01A-2A-CTDPFA102-streamed-ctdpf_sbe43_sample_20190907T000000.416410-20190927T184152.175125.nc...\n",
      "(MainThread) Writing deployment0007_RS01SBPS-SF01A-2A-CTDPFA102-streamed-ctdpf_sbe43_sample_20190907T000000.416410-20190927T184152.175125.nc...\n",
      "(MainThread) deployment0007_RS01SBPS-SF01A-2A-CTDPFA102-streamed-ctdpf_sbe43_sample_20190907T000000.416410-20190927T184152.175125.nc successfully downloaded ---\n",
      "(MainThread) --- Checking deployment0007_RS01SBPS-SF01A-2A-CTDPFA102-streamed-ctdpf_sbe43_sample_20190907T000000.416410-20190927T184152.175125.nc ---\n",
      "(MainThread) --- Checks passed for deployment0007_RS01SBPS-SF01A-2A-CTDPFA102-streamed-ctdpf_sbe43_sample_20190907T000000.416410-20190927T184152.175125.nc ---\n"
     ]
    },
    {
     "data": {
      "text/plain": [
       "5"
      ]
     },
     "execution_count": 9,
     "metadata": {},
     "output_type": "execute_result"
    }
   ],
   "source": [
    "# Run this to download the data (possibly multiple files) from a completed data request from above\n",
    "# \n",
    "filenamelist = ooi.download_netcdfs()\n",
    "len(filenamelist)"
   ]
  },
  {
   "cell_type": "code",
   "execution_count": 18,
   "metadata": {},
   "outputs": [],
   "source": [
    "# Open dataset in read mode (dataset should be renamed after download)\n",
    "\n",
    "ds = xr.open_dataset('OreSlope_ShallProf_CTD_2019_09-07.nc')     #Open file as xarray dataset\n",
    "ds = ds.swap_dims({'obs':'time'})                          #Swap default 'obs' dimension for 'time'\n",
    "depth = 'seawater_pressure'"
   ]
  },
  {
   "cell_type": "code",
   "execution_count": 19,
   "metadata": {
    "collapsed": true,
    "jupyter": {
     "outputs_hidden": true
    }
   },
   "outputs": [
    {
     "data": {
      "text/plain": [
       "<xarray.Dataset>\n",
       "Dimensions:                                 (time: 1740330)\n",
       "Coordinates:\n",
       "    obs                                     (time) int32 0 1 ... 1740328 1740329\n",
       "  * time                                    (time) datetime64[ns] 2019-09-07T00:00:00.416410112 ... 2019-09-27T18:41:52.175124992\n",
       "    seawater_pressure                       (time) float64 ...\n",
       "    lat                                     (time) float64 ...\n",
       "    lon                                     (time) float64 ...\n",
       "Data variables:\n",
       "    deployment                              (time) int32 ...\n",
       "    id                                      (time) |S36 ...\n",
       "    conductivity                            (time) float64 ...\n",
       "    driver_timestamp                        (time) datetime64[ns] ...\n",
       "    ext_volt0                               (time) float64 ...\n",
       "    ingestion_timestamp                     (time) datetime64[ns] ...\n",
       "    internal_timestamp                      (time) datetime64[ns] ...\n",
       "    port_timestamp                          (time) datetime64[ns] ...\n",
       "    preferred_timestamp                     (time) object ...\n",
       "    pressure                                (time) float64 ...\n",
       "    pressure_temp                           (time) float64 ...\n",
       "    temperature                             (time) float64 ...\n",
       "    seawater_temperature                    (time) float64 ...\n",
       "    seawater_conductivity                   (time) float64 ...\n",
       "    practical_salinity                      (time) float64 ...\n",
       "    corrected_dissolved_oxygen              (time) float64 ...\n",
       "    density                                 (time) float64 ...\n",
       "    seawater_temperature_qc_executed        (time) uint8 ...\n",
       "    seawater_temperature_qc_results         (time) uint8 ...\n",
       "    seawater_pressure_qc_executed           (time) uint8 ...\n",
       "    seawater_pressure_qc_results            (time) uint8 ...\n",
       "    seawater_conductivity_qc_executed       (time) uint8 ...\n",
       "    seawater_conductivity_qc_results        (time) uint8 ...\n",
       "    corrected_dissolved_oxygen_qc_executed  (time) uint8 ...\n",
       "    corrected_dissolved_oxygen_qc_results   (time) uint8 ...\n",
       "    density_qc_executed                     (time) uint8 ...\n",
       "    density_qc_results                      (time) uint8 ...\n",
       "    practical_salinity_qc_executed          (time) uint8 ...\n",
       "    practical_salinity_qc_results           (time) uint8 ...\n",
       "Attributes:\n",
       "    node:                            SF01A\n",
       "    comment:                         \n",
       "    publisher_email:                 \n",
       "    sourceUrl:                       http://oceanobservatories.org/\n",
       "    collection_method:               streamed\n",
       "    stream:                          ctdpf_sbe43_sample\n",
       "    featureType:                     point\n",
       "    creator_email:                   \n",
       "    publisher_name:                  Ocean Observatories Initiative\n",
       "    date_modified:                   2020-03-24T17:06:02.080278\n",
       "    keywords:                        \n",
       "    cdm_data_type:                   Point\n",
       "    references:                      More information can be found at http://...\n",
       "    Metadata_Conventions:            Unidata Dataset Discovery v1.0\n",
       "    date_created:                    2020-03-24T17:06:02.080260\n",
       "    id:                              RS01SBPS-SF01A-2A-CTDPFA102-streamed-ctd...\n",
       "    requestUUID:                     2cb1105c-2aea-4497-b3be-7e4a6afeb50f\n",
       "    contributor_role:                \n",
       "    summary:                         Dataset Generated by Stream Engine from ...\n",
       "    keywords_vocabulary:             \n",
       "    institution:                     Ocean Observatories Initiative\n",
       "    naming_authority:                org.oceanobservatories\n",
       "    feature_Type:                    point\n",
       "    infoUrl:                         http://oceanobservatories.org/\n",
       "    license:                         \n",
       "    contributor_name:                \n",
       "    uuid:                            2cb1105c-2aea-4497-b3be-7e4a6afeb50f\n",
       "    creator_name:                    Ocean Observatories Initiative\n",
       "    title:                           Data produced by Stream Engine version 1...\n",
       "    sensor:                          2A-CTDPFA102\n",
       "    standard_name_vocabulary:        NetCDF Climate and Forecast (CF) Metadat...\n",
       "    acknowledgement:                 \n",
       "    Conventions:                     CF-1.6\n",
       "    project:                         Ocean Observatories Initiative\n",
       "    source:                          RS01SBPS-SF01A-2A-CTDPFA102-streamed-ctd...\n",
       "    publisher_url:                   http://oceanobservatories.org/\n",
       "    creator_url:                     http://oceanobservatories.org/\n",
       "    nodc_template_version:           NODC_NetCDF_TimeSeries_Orthogonal_Templa...\n",
       "    subsite:                         RS01SBPS\n",
       "    processing_level:                L2\n",
       "    history:                         2020-03-24T17:06:02.080186 generated fro...\n",
       "    time_coverage_start:             2019-09-07T00:00:00.416410\n",
       "    time_coverage_end:               2019-09-27T18:41:52.175125\n",
       "    time_coverage_resolution:        P1.03S\n",
       "    geospatial_lat_min:              44.52897\n",
       "    geospatial_lat_max:              44.52897\n",
       "    geospatial_lat_units:            degrees_north\n",
       "    geospatial_lat_resolution:       0.1\n",
       "    geospatial_lon_min:              -125.38966\n",
       "    geospatial_lon_max:              -125.38966\n",
       "    geospatial_lon_units:            degrees_east\n",
       "    geospatial_lon_resolution:       0.1\n",
       "    geospatial_vertical_units:       meters\n",
       "    geospatial_vertical_resolution:  0.1\n",
       "    geospatial_vertical_positive:    down"
      ]
     },
     "execution_count": 19,
     "metadata": {},
     "output_type": "execute_result"
    }
   ],
   "source": [
    "ds"
   ]
  },
  {
   "cell_type": "code",
   "execution_count": null,
   "metadata": {},
   "outputs": [],
   "source": [
    "for monthstring in ['01', '02', '03', '04', '05', '06', '07', '08', '09']:\n",
    "    for daystring in ['01', '15']:\n",
    "        datestring0 = '2019-' + monthstring + '-' + daystring + 'T08:30' \n",
    "        datestring1 = '2019-' + monthstring + '-' + daystring + 'T11:50' \n",
    "        ds1 = ds_mean.sel(time=slice(datestring0, datestring1))"
   ]
  }
 ],
 "metadata": {
  "kernelspec": {
   "display_name": "Python 3",
   "language": "python",
   "name": "python3"
  },
  "language_info": {
   "codemirror_mode": {
    "name": "ipython",
    "version": 3
   },
   "file_extension": ".py",
   "mimetype": "text/x-python",
   "name": "python",
   "nbconvert_exporter": "python",
   "pygments_lexer": "ipython3",
   "version": "3.7.3"
  }
 },
 "nbformat": 4,
 "nbformat_minor": 4
}
