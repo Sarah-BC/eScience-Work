{
 "cells": [
  {
   "cell_type": "markdown",
   "metadata": {},
   "source": [
    "# Introduction\n",
    "\n",
    "This notebook exists for the exploration and analysis of canonical data collected by the [Ocean Observatories Initiative Regional Cabeled Array](https://interactiveoceans.washington.edu/). Creating a canonical record of seawater measurements is valuable in comparing data across platforms (RCA, ARGO, MODIS, GLODAP), locally and globally. The OOI RCA has multiple working stations off the Oregon coast that will be the focus of this notebook.\n",
    "\n",
    "In order to explore data collected by the OOI RCA, we will utilize a python package called `yodapy` written by Don Setiawan at OOI. `yodapy` allows users to directly access information about the RCA and data collected by the RCA sensors. \n"
   ]
  },
  {
   "cell_type": "markdown",
   "metadata": {},
   "source": [
    "# Objectives\n",
    "\n",
    "The objective of this notebook is to identify canonical values of seawater components across several years of available data at RCA sensor locations.\n",
    "\n",
    "Overall, this includes evaluating the following:\n",
    "\n",
    "* parameters of interest: temperature, salinity, dissolved oxygen, chlorophyll, possibly nitrate, possibly photosynthetically active radiation (par)\n",
    "* depth intervals: 10 m intervals would be ideal\n",
    "* time intervals: weekly averages and standard deviations would be ideal\n",
    "* mean and standard deviation for each site, parameter, depth, and time\n",
    "* sites:\n",
    "    * 200m platforms and shallow  profilers (3 of these exist)\n",
    "    * stretch goal: deep profilers (3 of these exist)\n",
    "\n",
    "We'll begin by reducing the problem to 1 sensor, 1 parameter, 1 week, and 1 depth interval\n",
    "\n",
    "* sensor: oregon slope base shallow profiler\n",
    "* parameter: salinity\n",
    "* week: aug 1-7, 2019\n",
    "* 1 depth: first identify depth range available! \n",
    "* then find mean and stdev salinity for this location and time period"
   ]
  },
  {
   "cell_type": "markdown",
   "metadata": {},
   "source": [
    "## Specific steps necessary to achieve the minimal objective\n",
    "\n",
    "* choose a place to begin (see above)\n",
    "* check the data availability via yodapy\n",
    "    * (you can do steps 1 and 2 in opposite order if you specifically want a sensor that has good data availability)\n",
    "* download data from this sensor\n",
    "* open and read using netCDF4 function `Dataset('filename', 'r')`\n",
    "* perform statistical analysis\n",
    "* compare data over time\n",
    "\n",
    "### A note about missing data\n",
    "The RCA has limited resources and oceanic sensors are susceptible to connection issues, sensor breakages, and knock-downs that all contribute to anomalous data points or periods of missing data. For the sake of this project, time intervals that are missing a considerable amount of data (50% or more) will be marked as 'insufficient data'. \n",
    "\n",
    "* We need to agree on a work-around for anomalous data: how do we identify anomalies? how do we deal with them when we find them? We will cross this bridge when we get to it."
   ]
  },
  {
   "cell_type": "code",
   "execution_count": 1,
   "metadata": {},
   "outputs": [
    {
     "name": "stdout",
     "output_type": "stream",
     "text": [
      "\u001b[31m  ERROR: Command errored out with exit status 1:\n",
      "   command: /srv/conda/envs/notebook/bin/python3.8 -u -c 'import sys, setuptools, tokenize; sys.argv[0] = '\"'\"'/tmp/pip-install-1b0cuu54/gevent/setup.py'\"'\"'; __file__='\"'\"'/tmp/pip-install-1b0cuu54/gevent/setup.py'\"'\"';f=getattr(tokenize, '\"'\"'open'\"'\"', open)(__file__);code=f.read().replace('\"'\"'\\r\\n'\"'\"', '\"'\"'\\n'\"'\"');f.close();exec(compile(code, __file__, '\"'\"'exec'\"'\"'))' bdist_wheel -d /tmp/pip-wheel-mm0j16c4\n",
      "       cwd: /tmp/pip-install-1b0cuu54/gevent/\n",
      "  Complete output (430 lines):\n",
      "  /srv/conda/envs/notebook/lib/python3.8/site-packages/cffi/cparser.py:162: UserWarning: Global variable 'gevent_noop' in cdef(): for consistency with C it should have a storage class specifier (usually 'extern')\n",
      "    warnings.warn(\"Global variable '%s' in cdef(): for consistency \"\n",
      "  running bdist_wheel\n",
      "  running build\n",
      "  running build_py\n",
      "  creating build\n",
      "  creating build/lib.linux-x86_64-3.8\n",
      "  creating build/lib.linux-x86_64-3.8/gevent\n",
      "  copying src/gevent/queue.py -> build/lib.linux-x86_64-3.8/gevent\n",
      "  copying src/gevent/_greenlet_primitives.py -> build/lib.linux-x86_64-3.8/gevent\n",
      "  copying src/gevent/greenlet.py -> build/lib.linux-x86_64-3.8/gevent\n",
      "  copying src/gevent/backdoor.py -> build/lib.linux-x86_64-3.8/gevent\n",
      "  copying src/gevent/time.py -> build/lib.linux-x86_64-3.8/gevent\n",
      "  copying src/gevent/_semaphore.py -> build/lib.linux-x86_64-3.8/gevent\n",
      "  copying src/gevent/pywsgi.py -> build/lib.linux-x86_64-3.8/gevent\n",
      "  copying src/gevent/_tracer.py -> build/lib.linux-x86_64-3.8/gevent\n",
      "  copying src/gevent/_hub_local.py -> build/lib.linux-x86_64-3.8/gevent\n",
      "  copying src/gevent/_imap.py -> build/lib.linux-x86_64-3.8/gevent\n",
      "  copying src/gevent/event.py -> build/lib.linux-x86_64-3.8/gevent\n",
      "  copying src/gevent/server.py -> build/lib.linux-x86_64-3.8/gevent\n",
      "  copying src/gevent/thread.py -> build/lib.linux-x86_64-3.8/gevent\n",
      "  copying src/gevent/_util_py2.py -> build/lib.linux-x86_64-3.8/gevent\n",
      "  copying src/gevent/signal.py -> build/lib.linux-x86_64-3.8/gevent\n",
      "  copying src/gevent/_monitor.py -> build/lib.linux-x86_64-3.8/gevent\n",
      "  copying src/gevent/_ssl3.py -> build/lib.linux-x86_64-3.8/gevent\n",
      "  copying src/gevent/util.py -> build/lib.linux-x86_64-3.8/gevent\n",
      "  copying src/gevent/builtins.py -> build/lib.linux-x86_64-3.8/gevent\n",
      "  copying src/gevent/events.py -> build/lib.linux-x86_64-3.8/gevent\n",
      "  copying src/gevent/local.py -> build/lib.linux-x86_64-3.8/gevent\n",
      "  copying src/gevent/threadpool.py -> build/lib.linux-x86_64-3.8/gevent\n",
      "  copying src/gevent/subprocess.py -> build/lib.linux-x86_64-3.8/gevent\n",
      "  copying src/gevent/_socketcommon.py -> build/lib.linux-x86_64-3.8/gevent\n",
      "  copying src/gevent/timeout.py -> build/lib.linux-x86_64-3.8/gevent\n",
      "  copying src/gevent/os.py -> build/lib.linux-x86_64-3.8/gevent\n",
      "  copying src/gevent/__init__.py -> build/lib.linux-x86_64-3.8/gevent\n",
      "  copying src/gevent/_interfaces.py -> build/lib.linux-x86_64-3.8/gevent\n",
      "  copying src/gevent/core.py -> build/lib.linux-x86_64-3.8/gevent\n",
      "  copying src/gevent/_ssl2.py -> build/lib.linux-x86_64-3.8/gevent\n",
      "  copying src/gevent/fileobject.py -> build/lib.linux-x86_64-3.8/gevent\n",
      "  copying src/gevent/_fileobjectcommon.py -> build/lib.linux-x86_64-3.8/gevent\n",
      "  copying src/gevent/hub.py -> build/lib.linux-x86_64-3.8/gevent\n",
      "  copying src/gevent/_socket2.py -> build/lib.linux-x86_64-3.8/gevent\n",
      "  copying src/gevent/threading.py -> build/lib.linux-x86_64-3.8/gevent\n",
      "  copying src/gevent/win32util.py -> build/lib.linux-x86_64-3.8/gevent\n",
      "  copying src/gevent/resolver_ares.py -> build/lib.linux-x86_64-3.8/gevent\n",
      "  copying src/gevent/baseserver.py -> build/lib.linux-x86_64-3.8/gevent\n",
      "  copying src/gevent/_waiter.py -> build/lib.linux-x86_64-3.8/gevent\n",
      "  copying src/gevent/_hub_primitives.py -> build/lib.linux-x86_64-3.8/gevent\n",
      "  copying src/gevent/_fileobjectposix.py -> build/lib.linux-x86_64-3.8/gevent\n",
      "  copying src/gevent/_util.py -> build/lib.linux-x86_64-3.8/gevent\n",
      "  copying src/gevent/ares.py -> build/lib.linux-x86_64-3.8/gevent\n",
      "  copying src/gevent/lock.py -> build/lib.linux-x86_64-3.8/gevent\n",
      "  copying src/gevent/_sslgte279.py -> build/lib.linux-x86_64-3.8/gevent\n",
      "  copying src/gevent/_socket3.py -> build/lib.linux-x86_64-3.8/gevent\n",
      "  copying src/gevent/monkey.py -> build/lib.linux-x86_64-3.8/gevent\n",
      "  copying src/gevent/_patcher.py -> build/lib.linux-x86_64-3.8/gevent\n",
      "  copying src/gevent/_abstract_linkable.py -> build/lib.linux-x86_64-3.8/gevent\n",
      "  copying src/gevent/exceptions.py -> build/lib.linux-x86_64-3.8/gevent\n",
      "  copying src/gevent/select.py -> build/lib.linux-x86_64-3.8/gevent\n",
      "  copying src/gevent/_compat.py -> build/lib.linux-x86_64-3.8/gevent\n",
      "  copying src/gevent/_threading.py -> build/lib.linux-x86_64-3.8/gevent\n",
      "  copying src/gevent/_config.py -> build/lib.linux-x86_64-3.8/gevent\n",
      "  copying src/gevent/ssl.py -> build/lib.linux-x86_64-3.8/gevent\n",
      "  copying src/gevent/socket.py -> build/lib.linux-x86_64-3.8/gevent\n",
      "  copying src/gevent/pool.py -> build/lib.linux-x86_64-3.8/gevent\n",
      "  copying src/gevent/_ident.py -> build/lib.linux-x86_64-3.8/gevent\n",
      "  copying src/gevent/resolver_thread.py -> build/lib.linux-x86_64-3.8/gevent\n",
      "  copying src/gevent/_tblib.py -> build/lib.linux-x86_64-3.8/gevent\n",
      "  creating build/lib.linux-x86_64-3.8/gevent/libuv\n",
      "  copying src/gevent/libuv/_corecffi_build.py -> build/lib.linux-x86_64-3.8/gevent/libuv\n",
      "  copying src/gevent/libuv/__init__.py -> build/lib.linux-x86_64-3.8/gevent/libuv\n",
      "  copying src/gevent/libuv/loop.py -> build/lib.linux-x86_64-3.8/gevent/libuv\n",
      "  copying src/gevent/libuv/watcher.py -> build/lib.linux-x86_64-3.8/gevent/libuv\n",
      "  creating build/lib.linux-x86_64-3.8/gevent/tests\n",
      "  copying src/gevent/tests/test__issue639.py -> build/lib.linux-x86_64-3.8/gevent/tests\n",
      "  copying src/gevent/tests/test__socket_dns.py -> build/lib.linux-x86_64-3.8/gevent/tests\n",
      "  copying src/gevent/tests/test__core.py -> build/lib.linux-x86_64-3.8/gevent/tests\n",
      "  copying src/gevent/tests/test__issue330.py -> build/lib.linux-x86_64-3.8/gevent/tests\n",
      "  copying src/gevent/tests/test__issue112.py -> build/lib.linux-x86_64-3.8/gevent/tests\n",
      "  copying src/gevent/tests/test__socket.py -> build/lib.linux-x86_64-3.8/gevent/tests\n",
      "  copying src/gevent/tests/test__subprocess_poll.py -> build/lib.linux-x86_64-3.8/gevent/tests\n",
      "  copying src/gevent/tests/test__threading.py -> build/lib.linux-x86_64-3.8/gevent/tests\n",
      "  copying src/gevent/tests/test__core_async.py -> build/lib.linux-x86_64-3.8/gevent/tests\n",
      "  copying src/gevent/tests/_imports_at_top_level.py -> build/lib.linux-x86_64-3.8/gevent/tests\n",
      "  copying src/gevent/tests/test__select.py -> build/lib.linux-x86_64-3.8/gevent/tests\n",
      "  copying src/gevent/tests/test__iwait.py -> build/lib.linux-x86_64-3.8/gevent/tests\n",
      "  copying src/gevent/tests/test__monkey_scope.py -> build/lib.linux-x86_64-3.8/gevent/tests\n",
      "  copying src/gevent/tests/test__socketpair.py -> build/lib.linux-x86_64-3.8/gevent/tests\n",
      "  copying src/gevent/tests/test__monkey_sigchld.py -> build/lib.linux-x86_64-3.8/gevent/tests\n",
      "  copying src/gevent/tests/lock_tests.py -> build/lib.linux-x86_64-3.8/gevent/tests\n",
      "  copying src/gevent/tests/test__core_stat.py -> build/lib.linux-x86_64-3.8/gevent/tests\n",
      "  copying src/gevent/tests/test__makefile_ref.py -> build/lib.linux-x86_64-3.8/gevent/tests\n",
      "  copying src/gevent/tests/test__ssl.py -> build/lib.linux-x86_64-3.8/gevent/tests\n",
      "  copying src/gevent/tests/test__greenness.py -> build/lib.linux-x86_64-3.8/gevent/tests\n",
      "  copying src/gevent/tests/test__example_udp_client.py -> build/lib.linux-x86_64-3.8/gevent/tests\n",
      "  copying src/gevent/tests/test__examples.py -> build/lib.linux-x86_64-3.8/gevent/tests\n",
      "  copying src/gevent/tests/test__util.py -> build/lib.linux-x86_64-3.8/gevent/tests\n",
      "  copying src/gevent/tests/test__core_watcher.py -> build/lib.linux-x86_64-3.8/gevent/tests\n",
      "  copying src/gevent/tests/test__ares_timeout.py -> build/lib.linux-x86_64-3.8/gevent/tests\n",
      "  copying src/gevent/tests/test__socket_dns6.py -> build/lib.linux-x86_64-3.8/gevent/tests\n",
      "  copying src/gevent/tests/test___ident.py -> build/lib.linux-x86_64-3.8/gevent/tests\n",
      "  copying src/gevent/tests/test__threading_vs_settrace.py -> build/lib.linux-x86_64-3.8/gevent/tests\n",
      "  copying src/gevent/tests/test__issue230.py -> build/lib.linux-x86_64-3.8/gevent/tests\n",
      "  copying src/gevent/tests/test__timeout.py -> build/lib.linux-x86_64-3.8/gevent/tests\n",
      "  copying src/gevent/tests/test__close_backend_fd.py -> build/lib.linux-x86_64-3.8/gevent/tests\n",
      "  copying src/gevent/tests/test__sleep0.py -> build/lib.linux-x86_64-3.8/gevent/tests\n",
      "  copying src/gevent/tests/test__monkey_hub_in_thread.py -> build/lib.linux-x86_64-3.8/gevent/tests\n",
      "  copying src/gevent/tests/test__os.py -> build/lib.linux-x86_64-3.8/gevent/tests\n",
      "  copying src/gevent/tests/test__threading_patched_local.py -> build/lib.linux-x86_64-3.8/gevent/tests\n",
      "  copying src/gevent/tests/test__all__.py -> build/lib.linux-x86_64-3.8/gevent/tests\n",
      "  copying src/gevent/tests/test__issue607.py -> build/lib.linux-x86_64-3.8/gevent/tests\n",
      "  copying src/gevent/tests/test__hub_join.py -> build/lib.linux-x86_64-3.8/gevent/tests\n",
      "  copying src/gevent/tests/test___monkey_patching.py -> build/lib.linux-x86_64-3.8/gevent/tests\n",
      "  copying src/gevent/tests/test__import_wait.py -> build/lib.linux-x86_64-3.8/gevent/tests\n",
      "  copying src/gevent/tests/test__socket_send_memoryview.py -> build/lib.linux-x86_64-3.8/gevent/tests\n",
      "  copying src/gevent/tests/test__server_pywsgi.py -> build/lib.linux-x86_64-3.8/gevent/tests\n",
      "  copying src/gevent/tests/test__fileobject.py -> build/lib.linux-x86_64-3.8/gevent/tests\n",
      "  copying src/gevent/tests/test__monkey_builtins_future.py -> build/lib.linux-x86_64-3.8/gevent/tests\n",
      "  copying src/gevent/tests/_blocks_at_top_level.py -> build/lib.linux-x86_64-3.8/gevent/tests\n",
      "  copying src/gevent/tests/test__import_blocking_in_greenlet.py -> build/lib.linux-x86_64-3.8/gevent/tests\n",
      "  copying src/gevent/tests/test__core_callback.py -> build/lib.linux-x86_64-3.8/gevent/tests\n",
      "  copying src/gevent/tests/test__issue_728.py -> build/lib.linux-x86_64-3.8/gevent/tests\n",
      "  copying src/gevent/tests/test__monkey_sigchld_2.py -> build/lib.linux-x86_64-3.8/gevent/tests\n",
      "  copying src/gevent/tests/test___example_servers.py -> build/lib.linux-x86_64-3.8/gevent/tests\n",
      "  copying src/gevent/tests/test__threading_monkey_in_thread.py -> build/lib.linux-x86_64-3.8/gevent/tests\n",
      "  copying src/gevent/tests/test__example_udp_server.py -> build/lib.linux-x86_64-3.8/gevent/tests\n",
      "  copying src/gevent/tests/__init__.py -> build/lib.linux-x86_64-3.8/gevent/tests\n",
      "  copying src/gevent/tests/test__destroy.py -> build/lib.linux-x86_64-3.8/gevent/tests\n",
      "  copying src/gevent/tests/test__threadpool.py -> build/lib.linux-x86_64-3.8/gevent/tests\n",
      "  copying src/gevent/tests/test__monkey_sigchld_3.py -> build/lib.linux-x86_64-3.8/gevent/tests\n",
      "  copying src/gevent/tests/test__monkey.py -> build/lib.linux-x86_64-3.8/gevent/tests\n",
      "  copying src/gevent/tests/known_failures.py -> build/lib.linux-x86_64-3.8/gevent/tests\n",
      "  copying src/gevent/tests/_imports_imports_at_top_level.py -> build/lib.linux-x86_64-3.8/gevent/tests\n",
      "  copying src/gevent/tests/test__subprocess.py -> build/lib.linux-x86_64-3.8/gevent/tests\n",
      "  copying src/gevent/tests/test__threading_before_monkey.py -> build/lib.linux-x86_64-3.8/gevent/tests\n",
      "  copying src/gevent/tests/test__api.py -> build/lib.linux-x86_64-3.8/gevent/tests\n",
      "  copying src/gevent/tests/test__hub_join_timeout.py -> build/lib.linux-x86_64-3.8/gevent/tests\n",
      "  copying src/gevent/tests/test__monkey_multiple_imports.py -> build/lib.linux-x86_64-3.8/gevent/tests\n",
      "  copying src/gevent/tests/test__joinall.py -> build/lib.linux-x86_64-3.8/gevent/tests\n",
      "  copying src/gevent/tests/test__monkey_logging.py -> build/lib.linux-x86_64-3.8/gevent/tests\n",
      "  copying src/gevent/tests/test__nondefaultloop.py -> build/lib.linux-x86_64-3.8/gevent/tests\n",
      "  copying src/gevent/tests/test__core_loop_run.py -> build/lib.linux-x86_64-3.8/gevent/tests\n",
      "  copying src/gevent/tests/test__greenletset.py -> build/lib.linux-x86_64-3.8/gevent/tests\n",
      "  copying src/gevent/tests/test__backdoor.py -> build/lib.linux-x86_64-3.8/gevent/tests\n",
      "  copying src/gevent/tests/test__GreenletExit.py -> build/lib.linux-x86_64-3.8/gevent/tests\n",
      "  copying src/gevent/tests/test__refcount.py -> build/lib.linux-x86_64-3.8/gevent/tests\n",
      "  copying src/gevent/tests/test__refcount_core.py -> build/lib.linux-x86_64-3.8/gevent/tests\n",
      "  copying src/gevent/tests/test__hub.py -> build/lib.linux-x86_64-3.8/gevent/tests\n",
      "  copying src/gevent/tests/test__doctests.py -> build/lib.linux-x86_64-3.8/gevent/tests\n",
      "  copying src/gevent/tests/test__greenlet.py -> build/lib.linux-x86_64-3.8/gevent/tests\n",
      "  copying src/gevent/tests/test___config.py -> build/lib.linux-x86_64-3.8/gevent/tests\n",
      "  copying src/gevent/tests/_import_wait.py -> build/lib.linux-x86_64-3.8/gevent/tests\n",
      "  copying src/gevent/tests/test__destroy_default_loop.py -> build/lib.linux-x86_64-3.8/gevent/tests\n",
      "  copying src/gevent/tests/test__core_timer.py -> build/lib.linux-x86_64-3.8/gevent/tests\n",
      "  copying src/gevent/tests/test__issues461_471.py -> build/lib.linux-x86_64-3.8/gevent/tests\n",
      "  copying src/gevent/tests/test__issue6.py -> build/lib.linux-x86_64-3.8/gevent/tests\n",
      "  copying src/gevent/tests/test__events.py -> build/lib.linux-x86_64-3.8/gevent/tests\n",
      "  copying src/gevent/tests/test__greenio.py -> build/lib.linux-x86_64-3.8/gevent/tests\n",
      "  copying src/gevent/tests/test__environ.py -> build/lib.linux-x86_64-3.8/gevent/tests\n",
      "  copying src/gevent/tests/test__getaddrinfo_import.py -> build/lib.linux-x86_64-3.8/gevent/tests\n",
      "  copying src/gevent/tests/test__threading_native_before_monkey.py -> build/lib.linux-x86_64-3.8/gevent/tests\n",
      "  copying src/gevent/tests/test__local.py -> build/lib.linux-x86_64-3.8/gevent/tests\n",
      "  copying src/gevent/tests/test__api_timeout.py -> build/lib.linux-x86_64-3.8/gevent/tests\n",
      "  copying src/gevent/tests/test__issue467.py -> build/lib.linux-x86_64-3.8/gevent/tests\n",
      "  copying src/gevent/tests/test__threading_holding_lock_while_monkey.py -> build/lib.linux-x86_64-3.8/gevent/tests\n",
      "  copying src/gevent/tests/test__monkey_selectors.py -> build/lib.linux-x86_64-3.8/gevent/tests\n",
      "  copying src/gevent/tests/test__socket_close.py -> build/lib.linux-x86_64-3.8/gevent/tests\n",
      "  copying src/gevent/tests/test__pool.py -> build/lib.linux-x86_64-3.8/gevent/tests\n",
      "  copying src/gevent/tests/test__order.py -> build/lib.linux-x86_64-3.8/gevent/tests\n",
      "  copying src/gevent/tests/test___monitor.py -> build/lib.linux-x86_64-3.8/gevent/tests\n",
      "  copying src/gevent/tests/test__issue600.py -> build/lib.linux-x86_64-3.8/gevent/tests\n",
      "  copying src/gevent/tests/test__memleak.py -> build/lib.linux-x86_64-3.8/gevent/tests\n",
      "  copying src/gevent/tests/test__execmodules.py -> build/lib.linux-x86_64-3.8/gevent/tests\n",
      "  copying src/gevent/tests/test__example_portforwarder.py -> build/lib.linux-x86_64-3.8/gevent/tests\n",
      "  copying src/gevent/tests/test__systemerror.py -> build/lib.linux-x86_64-3.8/gevent/tests\n",
      "  copying src/gevent/tests/test__exc_info.py -> build/lib.linux-x86_64-3.8/gevent/tests\n",
      "  copying src/gevent/tests/test__socket_ex.py -> build/lib.linux-x86_64-3.8/gevent/tests\n",
      "  copying src/gevent/tests/test__socket_errors.py -> build/lib.linux-x86_64-3.8/gevent/tests\n",
      "  copying src/gevent/tests/test__server.py -> build/lib.linux-x86_64-3.8/gevent/tests\n",
      "  copying src/gevent/tests/test__core_loop_run_sig_mod.py -> build/lib.linux-x86_64-3.8/gevent/tests\n",
      "  copying src/gevent/tests/test__socket_timeout.py -> build/lib.linux-x86_64-3.8/gevent/tests\n",
      "  copying src/gevent/tests/test__pywsgi.py -> build/lib.linux-x86_64-3.8/gevent/tests\n",
      "  copying src/gevent/tests/test__semaphore.py -> build/lib.linux-x86_64-3.8/gevent/tests\n",
      "  copying src/gevent/tests/test__core_fork.py -> build/lib.linux-x86_64-3.8/gevent/tests\n",
      "  copying src/gevent/tests/test__monkey_ssl_warning3.py -> build/lib.linux-x86_64-3.8/gevent/tests\n",
      "  copying src/gevent/tests/test__loop_callback.py -> build/lib.linux-x86_64-3.8/gevent/tests\n",
      "  copying src/gevent/tests/getaddrinfo_module.py -> build/lib.linux-x86_64-3.8/gevent/tests\n",
      "  copying src/gevent/tests/test__threadpool_executor_patched.py -> build/lib.linux-x86_64-3.8/gevent/tests\n",
      "  copying src/gevent/tests/test__subprocess_interrupted.py -> build/lib.linux-x86_64-3.8/gevent/tests\n",
      "  copying src/gevent/tests/test__real_greenlet.py -> build/lib.linux-x86_64-3.8/gevent/tests\n",
      "  copying src/gevent/tests/test__ares_host_result.py -> build/lib.linux-x86_64-3.8/gevent/tests\n",
      "  copying src/gevent/tests/test__monkey_ssl_warning2.py -> build/lib.linux-x86_64-3.8/gevent/tests\n",
      "  copying src/gevent/tests/test__example_echoserver.py -> build/lib.linux-x86_64-3.8/gevent/tests\n",
      "  copying src/gevent/tests/_import_import_patch.py -> build/lib.linux-x86_64-3.8/gevent/tests\n",
      "  copying src/gevent/tests/__main__.py -> build/lib.linux-x86_64-3.8/gevent/tests\n",
      "  copying src/gevent/tests/test__queue.py -> build/lib.linux-x86_64-3.8/gevent/tests\n",
      "  copying src/gevent/tests/test__socket_ssl.py -> build/lib.linux-x86_64-3.8/gevent/tests\n",
      "  copying src/gevent/tests/test__monkey_ssl_warning.py -> build/lib.linux-x86_64-3.8/gevent/tests\n",
      "  copying src/gevent/tests/test__threading_2.py -> build/lib.linux-x86_64-3.8/gevent/tests\n",
      "  copying src/gevent/tests/test__event.py -> build/lib.linux-x86_64-3.8/gevent/tests\n",
      "  copying src/gevent/tests/test__signal.py -> build/lib.linux-x86_64-3.8/gevent/tests\n",
      "  copying src/gevent/tests/_import_patch.py -> build/lib.linux-x86_64-3.8/gevent/tests\n",
      "  copying src/gevent/tests/test__compat.py -> build/lib.linux-x86_64-3.8/gevent/tests\n",
      "  copying src/gevent/tests/test__monkey_queue.py -> build/lib.linux-x86_64-3.8/gevent/tests\n",
      "  creating build/lib.linux-x86_64-3.8/gevent/_ffi\n",
      "  copying src/gevent/_ffi/callback.py -> build/lib.linux-x86_64-3.8/gevent/_ffi\n",
      "  copying src/gevent/_ffi/__init__.py -> build/lib.linux-x86_64-3.8/gevent/_ffi\n",
      "  copying src/gevent/_ffi/loop.py -> build/lib.linux-x86_64-3.8/gevent/_ffi\n",
      "  copying src/gevent/_ffi/watcher.py -> build/lib.linux-x86_64-3.8/gevent/_ffi\n",
      "  creating build/lib.linux-x86_64-3.8/gevent/testing\n",
      "  copying src/gevent/testing/skipping.py -> build/lib.linux-x86_64-3.8/gevent/testing\n",
      "  copying src/gevent/testing/patched_tests_setup.py -> build/lib.linux-x86_64-3.8/gevent/testing\n",
      "  copying src/gevent/testing/exception.py -> build/lib.linux-x86_64-3.8/gevent/testing\n",
      "  copying src/gevent/testing/params.py -> build/lib.linux-x86_64-3.8/gevent/testing\n",
      "  copying src/gevent/testing/leakcheck.py -> build/lib.linux-x86_64-3.8/gevent/testing\n",
      "  copying src/gevent/testing/testcase.py -> build/lib.linux-x86_64-3.8/gevent/testing\n",
      "  copying src/gevent/testing/util.py -> build/lib.linux-x86_64-3.8/gevent/testing\n",
      "  copying src/gevent/testing/monkey_test.py -> build/lib.linux-x86_64-3.8/gevent/testing\n",
      "  copying src/gevent/testing/switching.py -> build/lib.linux-x86_64-3.8/gevent/testing\n",
      "  copying src/gevent/testing/__init__.py -> build/lib.linux-x86_64-3.8/gevent/testing\n",
      "  copying src/gevent/testing/hub.py -> build/lib.linux-x86_64-3.8/gevent/testing\n",
      "  copying src/gevent/testing/timing.py -> build/lib.linux-x86_64-3.8/gevent/testing\n",
      "  copying src/gevent/testing/six.py -> build/lib.linux-x86_64-3.8/gevent/testing\n",
      "  copying src/gevent/testing/sysinfo.py -> build/lib.linux-x86_64-3.8/gevent/testing\n",
      "  copying src/gevent/testing/sockets.py -> build/lib.linux-x86_64-3.8/gevent/testing\n",
      "  copying src/gevent/testing/modules.py -> build/lib.linux-x86_64-3.8/gevent/testing\n",
      "  copying src/gevent/testing/openfiles.py -> build/lib.linux-x86_64-3.8/gevent/testing\n",
      "  copying src/gevent/testing/errorhandler.py -> build/lib.linux-x86_64-3.8/gevent/testing\n",
      "  copying src/gevent/testing/testrunner.py -> build/lib.linux-x86_64-3.8/gevent/testing\n",
      "  copying src/gevent/testing/flaky.py -> build/lib.linux-x86_64-3.8/gevent/testing\n",
      "  creating build/lib.linux-x86_64-3.8/gevent/libev\n",
      "  copying src/gevent/libev/_corecffi_build.py -> build/lib.linux-x86_64-3.8/gevent/libev\n",
      "  copying src/gevent/libev/__init__.py -> build/lib.linux-x86_64-3.8/gevent/libev\n",
      "  copying src/gevent/libev/corecffi.py -> build/lib.linux-x86_64-3.8/gevent/libev\n",
      "  copying src/gevent/libev/watcher.py -> build/lib.linux-x86_64-3.8/gevent/libev\n",
      "  creating build/lib.linux-x86_64-3.8/gevent/resolver\n",
      "  copying src/gevent/resolver/thread.py -> build/lib.linux-x86_64-3.8/gevent/resolver\n",
      "  copying src/gevent/resolver/dnspython.py -> build/lib.linux-x86_64-3.8/gevent/resolver\n",
      "  copying src/gevent/resolver/__init__.py -> build/lib.linux-x86_64-3.8/gevent/resolver\n",
      "  copying src/gevent/resolver/ares.py -> build/lib.linux-x86_64-3.8/gevent/resolver\n",
      "  copying src/gevent/resolver/blocking.py -> build/lib.linux-x86_64-3.8/gevent/resolver\n",
      "  running egg_info\n",
      "  writing src/gevent.egg-info/PKG-INFO\n",
      "  writing dependency_links to src/gevent.egg-info/dependency_links.txt\n",
      "  writing entry points to src/gevent.egg-info/entry_points.txt\n",
      "  writing requirements to src/gevent.egg-info/requires.txt\n",
      "  writing top-level names to src/gevent.egg-info/top_level.txt\n",
      "  reading manifest file 'src/gevent.egg-info/SOURCES.txt'\n",
      "  reading manifest template 'MANIFEST.in'\n",
      "  warning: no files found matching 'changelog.rst'\n",
      "  warning: no files found matching 'Makefile.ext'\n",
      "  warning: no files found matching 'known_failures.py'\n",
      "  warning: no files found matching '.pep8'\n",
      "  no previously-included directories found matching '*/__pycache__'\n",
      "  warning: no previously-included files matching '*.so' found anywhere in distribution\n",
      "  warning: no previously-included files matching '*.o' found anywhere in distribution\n",
      "  warning: no previously-included files matching '*.lo' found anywhere in distribution\n",
      "  warning: no previously-included files matching '*.la' found anywhere in distribution\n",
      "  warning: no previously-included files matching 'config.log' found anywhere in distribution\n",
      "  warning: no previously-included files matching 'config.status' found anywhere in distribution\n",
      "  no previously-included directories found matching 'doc/_build'\n",
      "  warning: no previously-included files matching '*.pyc' found anywhere in distribution\n",
      "  warning: no previously-included files matching '.coverage' found under directory 'src/greentest'\n",
      "  no previously-included directories found matching 'src/greentest/htmlcov'\n",
      "  warning: no previously-included files matching 'stamp-h?' found under directory 'deps/c-ares'\n",
      "  warning: no previously-included files matching 'ares_build.h.orig' found under directory 'deps/c-ares'\n",
      "  no previously-included directories found matching 'deps/libev/.deps'\n",
      "  no previously-included directories found matching 'deps/libuv/.deps'\n",
      "  warning: no previously-included files matching 'Makefile' found under directory 'deps/libev'\n",
      "  warning: no previously-included files matching 'libtool' found under directory 'deps/libev'\n",
      "  warning: no previously-included files matching 'stamp-h?' found under directory 'deps/libev'\n",
      "  warning: no previously-included files matching 'config.h' found under directory 'deps/libev'\n",
      "  warning: no previously-included files matching '_corecffi.c' found under directory 'src/gevent'\n",
      "  warning: no previously-included files found matching 'Makefile'\n",
      "  warning: no previously-included files found matching 'configure-output'\n",
      "  warning: no previously-included files found matching 'configure-output.txt'\n",
      "  warning: no previously-included files found matching 'deps/TAGS'\n",
      "  warning: no previously-included files found matching 'deps/c-ares/ares_build.h'\n",
      "  warning: no previously-included files found matching 'deps/c-ares/ares_config.h'\n",
      "  warning: no previously-included files found matching 'deps/c-ares/libcares.pc'\n",
      "  warning: no previously-included files found matching 'deps/c-ares/libtool'\n",
      "  warning: no files found matching 'Makefile.ext'\n",
      "  warning: no previously-included files matching '.deps' found under directory 'deps/c-ares'\n",
      "  warning: no previously-included files matching '.libs' found under directory 'deps/c-ares'\n",
      "  warning: no previously-included files matching '.deps' found under directory 'deps/libuv'\n",
      "  warning: no previously-included files matching '.libs' found under directory 'deps/libuv'\n",
      "  warning: no previously-included files matching '.deps' found under directory 'deps/libev'\n",
      "  warning: no previously-included files matching '.libs' found under directory 'deps/libev'\n",
      "  writing manifest file 'src/gevent.egg-info/SOURCES.txt'\n",
      "  copying src/gevent/__abstract_linkable.pxd -> build/lib.linux-x86_64-3.8/gevent\n",
      "  copying src/gevent/__greenlet_primitives.pxd -> build/lib.linux-x86_64-3.8/gevent\n",
      "  copying src/gevent/__hub_local.pxd -> build/lib.linux-x86_64-3.8/gevent\n",
      "  copying src/gevent/__hub_primitives.pxd -> build/lib.linux-x86_64-3.8/gevent\n",
      "  copying src/gevent/__ident.pxd -> build/lib.linux-x86_64-3.8/gevent\n",
      "  copying src/gevent/__imap.pxd -> build/lib.linux-x86_64-3.8/gevent\n",
      "  copying src/gevent/__semaphore.pxd -> build/lib.linux-x86_64-3.8/gevent\n",
      "  copying src/gevent/__tracer.pxd -> build/lib.linux-x86_64-3.8/gevent\n",
      "  copying src/gevent/__waiter.pxd -> build/lib.linux-x86_64-3.8/gevent\n",
      "  copying src/gevent/_abstract_linkable.c -> build/lib.linux-x86_64-3.8/gevent\n",
      "  copying src/gevent/_abstract_linkable.html -> build/lib.linux-x86_64-3.8/gevent\n",
      "  copying src/gevent/_event.pxd -> build/lib.linux-x86_64-3.8/gevent\n",
      "  copying src/gevent/_greenlet.pxd -> build/lib.linux-x86_64-3.8/gevent\n",
      "  copying src/gevent/_greenlet_primitives.c -> build/lib.linux-x86_64-3.8/gevent\n",
      "  copying src/gevent/_greenlet_primitives.html -> build/lib.linux-x86_64-3.8/gevent\n",
      "  copying src/gevent/_hub_local.c -> build/lib.linux-x86_64-3.8/gevent\n",
      "  copying src/gevent/_hub_local.html -> build/lib.linux-x86_64-3.8/gevent\n",
      "  copying src/gevent/_hub_primitives.c -> build/lib.linux-x86_64-3.8/gevent\n",
      "  copying src/gevent/_hub_primitives.html -> build/lib.linux-x86_64-3.8/gevent\n",
      "  copying src/gevent/_ident.c -> build/lib.linux-x86_64-3.8/gevent\n",
      "  copying src/gevent/_ident.html -> build/lib.linux-x86_64-3.8/gevent\n",
      "  copying src/gevent/_imap.c -> build/lib.linux-x86_64-3.8/gevent\n",
      "  copying src/gevent/_imap.html -> build/lib.linux-x86_64-3.8/gevent\n",
      "  copying src/gevent/_local.pxd -> build/lib.linux-x86_64-3.8/gevent\n",
      "  copying src/gevent/_queue.pxd -> build/lib.linux-x86_64-3.8/gevent\n",
      "  copying src/gevent/_semaphore.c -> build/lib.linux-x86_64-3.8/gevent\n",
      "  copying src/gevent/_semaphore.html -> build/lib.linux-x86_64-3.8/gevent\n",
      "  copying src/gevent/_tracer.c -> build/lib.linux-x86_64-3.8/gevent\n",
      "  copying src/gevent/_tracer.html -> build/lib.linux-x86_64-3.8/gevent\n",
      "  copying src/gevent/_waiter.c -> build/lib.linux-x86_64-3.8/gevent\n",
      "  copying src/gevent/_waiter.html -> build/lib.linux-x86_64-3.8/gevent\n",
      "  copying src/gevent/event.c -> build/lib.linux-x86_64-3.8/gevent\n",
      "  copying src/gevent/event.html -> build/lib.linux-x86_64-3.8/gevent\n",
      "  copying src/gevent/greenlet.c -> build/lib.linux-x86_64-3.8/gevent\n",
      "  copying src/gevent/greenlet.html -> build/lib.linux-x86_64-3.8/gevent\n",
      "  copying src/gevent/local.c -> build/lib.linux-x86_64-3.8/gevent\n",
      "  copying src/gevent/local.html -> build/lib.linux-x86_64-3.8/gevent\n",
      "  copying src/gevent/queue.c -> build/lib.linux-x86_64-3.8/gevent\n",
      "  copying src/gevent/queue.html -> build/lib.linux-x86_64-3.8/gevent\n",
      "  copying src/gevent/libuv/_corecffi_cdef.c -> build/lib.linux-x86_64-3.8/gevent/libuv\n",
      "  copying src/gevent/libuv/_corecffi_source.c -> build/lib.linux-x86_64-3.8/gevent/libuv\n",
      "  copying src/gevent/tests/2_7_keycert.pem -> build/lib.linux-x86_64-3.8/gevent/tests\n",
      "  copying src/gevent/tests/badcert.pem -> build/lib.linux-x86_64-3.8/gevent/tests\n",
      "  copying src/gevent/tests/badkey.pem -> build/lib.linux-x86_64-3.8/gevent/tests\n",
      "  copying src/gevent/tests/hosts_file.txt -> build/lib.linux-x86_64-3.8/gevent/tests\n",
      "  copying src/gevent/tests/https_svn_python_org_root.pem -> build/lib.linux-x86_64-3.8/gevent/tests\n",
      "  copying src/gevent/tests/keycert.pem -> build/lib.linux-x86_64-3.8/gevent/tests\n",
      "  copying src/gevent/tests/nullcert.pem -> build/lib.linux-x86_64-3.8/gevent/tests\n",
      "  copying src/gevent/tests/server.crt -> build/lib.linux-x86_64-3.8/gevent/tests\n",
      "  copying src/gevent/tests/server.key -> build/lib.linux-x86_64-3.8/gevent/tests\n",
      "  copying src/gevent/tests/sha256.pem -> build/lib.linux-x86_64-3.8/gevent/tests\n",
      "  copying src/gevent/tests/test_server.crt -> build/lib.linux-x86_64-3.8/gevent/tests\n",
      "  copying src/gevent/tests/test_server.key -> build/lib.linux-x86_64-3.8/gevent/tests\n",
      "  copying src/gevent/tests/tests_that_dont_do_leakchecks.txt -> build/lib.linux-x86_64-3.8/gevent/tests\n",
      "  copying src/gevent/tests/tests_that_dont_monkeypatch.txt -> build/lib.linux-x86_64-3.8/gevent/tests\n",
      "  copying src/gevent/tests/tests_that_dont_use_resolver.txt -> build/lib.linux-x86_64-3.8/gevent/tests\n",
      "  copying src/gevent/tests/wrongcert.pem -> build/lib.linux-x86_64-3.8/gevent/tests\n",
      "  creating build/lib.linux-x86_64-3.8/gevent/tests/monkey_package\n",
      "  copying src/gevent/tests/monkey_package/__main__.py -> build/lib.linux-x86_64-3.8/gevent/tests/monkey_package\n",
      "  copying src/gevent/tests/monkey_package/issue302monkey.py -> build/lib.linux-x86_64-3.8/gevent/tests/monkey_package\n",
      "  copying src/gevent/tests/monkey_package/script.py -> build/lib.linux-x86_64-3.8/gevent/tests/monkey_package\n",
      "  creating build/lib.linux-x86_64-3.8/gevent/testing/coveragesite\n",
      "  copying src/gevent/testing/coveragesite/sitecustomize.py -> build/lib.linux-x86_64-3.8/gevent/testing/coveragesite\n",
      "  copying src/gevent/libev/_corecffi_cdef.c -> build/lib.linux-x86_64-3.8/gevent/libev\n",
      "  copying src/gevent/libev/_corecffi_source.c -> build/lib.linux-x86_64-3.8/gevent/libev\n",
      "  copying src/gevent/libev/callbacks.c -> build/lib.linux-x86_64-3.8/gevent/libev\n",
      "  copying src/gevent/libev/callbacks.h -> build/lib.linux-x86_64-3.8/gevent/libev\n",
      "  copying src/gevent/libev/corecext.c -> build/lib.linux-x86_64-3.8/gevent/libev\n",
      "  copying src/gevent/libev/corecext.h -> build/lib.linux-x86_64-3.8/gevent/libev\n",
      "  copying src/gevent/libev/corecext.html -> build/lib.linux-x86_64-3.8/gevent/libev\n",
      "  copying src/gevent/libev/corecext.pyx -> build/lib.linux-x86_64-3.8/gevent/libev\n",
      "  copying src/gevent/libev/libev.h -> build/lib.linux-x86_64-3.8/gevent/libev\n",
      "  copying src/gevent/libev/libev.pxd -> build/lib.linux-x86_64-3.8/gevent/libev\n",
      "  copying src/gevent/libev/libev_vfd.h -> build/lib.linux-x86_64-3.8/gevent/libev\n",
      "  copying src/gevent/libev/stathelper.c -> build/lib.linux-x86_64-3.8/gevent/libev\n",
      "  copying src/gevent/resolver/cares.c -> build/lib.linux-x86_64-3.8/gevent/resolver\n",
      "  copying src/gevent/resolver/cares.html -> build/lib.linux-x86_64-3.8/gevent/resolver\n",
      "  copying src/gevent/resolver/cares.pyx -> build/lib.linux-x86_64-3.8/gevent/resolver\n",
      "  copying src/gevent/resolver/cares_ntop.h -> build/lib.linux-x86_64-3.8/gevent/resolver\n",
      "  copying src/gevent/resolver/cares_pton.h -> build/lib.linux-x86_64-3.8/gevent/resolver\n",
      "  copying src/gevent/resolver/dnshelper.c -> build/lib.linux-x86_64-3.8/gevent/resolver\n",
      "  copying src/gevent/resolver/libcares.pxd -> build/lib.linux-x86_64-3.8/gevent/resolver\n",
      "  running build_ext\n",
      "  generating cffi module 'build/temp.linux-x86_64-3.8/gevent.libuv._corecffi.c'\n",
      "  creating build/temp.linux-x86_64-3.8\n",
      "  generating cffi module 'build/temp.linux-x86_64-3.8/gevent.libev._corecffi.c'\n",
      "  Running '(cd  \"/tmp/pip-install-1b0cuu54/gevent/deps/libev\"  && sh ./configure   && cp config.h \"$OLDPWD\" ) > configure-output.txt' in /tmp/pip-install-1b0cuu54/gevent/build/temp.linux-x86_64-3.8/libev\n",
      "  configure: error: in `/tmp/pip-install-1b0cuu54/gevent/deps/libev':\n",
      "  configure: error: no acceptable C compiler found in $PATH\n",
      "  See `config.log' for more details\n",
      "  Traceback (most recent call last):\n",
      "    File \"<string>\", line 1, in <module>\n",
      "    File \"/tmp/pip-install-1b0cuu54/gevent/setup.py\", line 427, in <module>\n",
      "      run_setup(EXT_MODULES, run_make=_BUILDING)\n",
      "    File \"/tmp/pip-install-1b0cuu54/gevent/setup.py\", line 328, in run_setup\n",
      "      setup(\n",
      "    File \"/srv/conda/envs/notebook/lib/python3.8/site-packages/setuptools/__init__.py\", line 144, in setup\n",
      "      return distutils.core.setup(**attrs)\n",
      "    File \"/srv/conda/envs/notebook/lib/python3.8/distutils/core.py\", line 148, in setup\n",
      "      dist.run_commands()\n",
      "    File \"/srv/conda/envs/notebook/lib/python3.8/distutils/dist.py\", line 966, in run_commands\n",
      "      self.run_command(cmd)\n",
      "    File \"/srv/conda/envs/notebook/lib/python3.8/distutils/dist.py\", line 985, in run_command\n",
      "      cmd_obj.run()\n",
      "    File \"/srv/conda/envs/notebook/lib/python3.8/site-packages/wheel/bdist_wheel.py\", line 223, in run\n",
      "      self.run_command('build')\n",
      "    File \"/srv/conda/envs/notebook/lib/python3.8/distutils/cmd.py\", line 313, in run_command\n",
      "      self.distribution.run_command(command)\n",
      "    File \"/srv/conda/envs/notebook/lib/python3.8/distutils/dist.py\", line 985, in run_command\n",
      "      cmd_obj.run()\n",
      "    File \"/srv/conda/envs/notebook/lib/python3.8/distutils/command/build.py\", line 135, in run\n",
      "      self.run_command(cmd_name)\n",
      "    File \"/srv/conda/envs/notebook/lib/python3.8/distutils/cmd.py\", line 313, in run_command\n",
      "      self.distribution.run_command(command)\n",
      "    File \"/srv/conda/envs/notebook/lib/python3.8/distutils/dist.py\", line 985, in run_command\n",
      "      cmd_obj.run()\n",
      "    File \"/srv/conda/envs/notebook/lib/python3.8/site-packages/cffi/setuptools_ext.py\", line 142, in run\n",
      "      base_class.run(self)\n",
      "    File \"/srv/conda/envs/notebook/lib/python3.8/site-packages/cffi/setuptools_ext.py\", line 142, in run\n",
      "      base_class.run(self)\n",
      "    File \"/srv/conda/envs/notebook/lib/python3.8/site-packages/setuptools/command/build_ext.py\", line 87, in run\n",
      "      _build_ext.run(self)\n",
      "    File \"/srv/conda/envs/notebook/lib/python3.8/distutils/command/build_ext.py\", line 340, in run\n",
      "      self.build_extensions()\n",
      "    File \"/srv/conda/envs/notebook/lib/python3.8/distutils/command/build_ext.py\", line 449, in build_extensions\n",
      "      self._build_extensions_serial()\n",
      "    File \"/srv/conda/envs/notebook/lib/python3.8/distutils/command/build_ext.py\", line 474, in _build_extensions_serial\n",
      "      self.build_extension(ext)\n",
      "    File \"/tmp/pip-install-1b0cuu54/gevent/_setuputils.py\", line 222, in build_extension\n",
      "      self.gevent_prepare(ext)\n",
      "    File \"/tmp/pip-install-1b0cuu54/gevent/_setuputils.py\", line 219, in gevent_prepare\n",
      "      configure(self, ext)\n",
      "    File \"/tmp/pip-install-1b0cuu54/gevent/_setuplibev.py\", line 56, in configure_libev\n",
      "      system(libev_configure_command)\n",
      "    File \"/tmp/pip-install-1b0cuu54/gevent/_setuputils.py\", line 150, in system\n",
      "      if _system(cmd, cwd=cwd, env=env, **kwargs):\n",
      "    File \"/tmp/pip-install-1b0cuu54/gevent/_setuputils.py\", line 146, in _system\n",
      "      return check_call(cmd, cwd=cwd, env=env, **kwargs)\n",
      "    File \"/srv/conda/envs/notebook/lib/python3.8/subprocess.py\", line 364, in check_call\n",
      "      raise CalledProcessError(retcode, cmd)\n",
      "  subprocess.CalledProcessError: Command '(cd  \"/tmp/pip-install-1b0cuu54/gevent/deps/libev\"  && sh ./configure   && cp config.h \"$OLDPWD\" ) > configure-output.txt' returned non-zero exit status 1.\n",
      "  ----------------------------------------\u001b[0m\n",
      "\u001b[31m  ERROR: Failed building wheel for gevent\u001b[0m\n",
      "\u001b[31m    ERROR: Command errored out with exit status 1:\n",
      "     command: /srv/conda/envs/notebook/bin/python3.8 -u -c 'import sys, setuptools, tokenize; sys.argv[0] = '\"'\"'/tmp/pip-install-1b0cuu54/gevent/setup.py'\"'\"'; __file__='\"'\"'/tmp/pip-install-1b0cuu54/gevent/setup.py'\"'\"';f=getattr(tokenize, '\"'\"'open'\"'\"', open)(__file__);code=f.read().replace('\"'\"'\\r\\n'\"'\"', '\"'\"'\\n'\"'\"');f.close();exec(compile(code, __file__, '\"'\"'exec'\"'\"'))' install --record /tmp/pip-record-sv22tpyj/install-record.txt --single-version-externally-managed --compile --install-headers /srv/conda/envs/notebook/include/python3.8/gevent\n",
      "         cwd: /tmp/pip-install-1b0cuu54/gevent/\n",
      "    Complete output (431 lines):\n",
      "    /srv/conda/envs/notebook/lib/python3.8/site-packages/cffi/cparser.py:162: UserWarning: Global variable 'gevent_noop' in cdef(): for consistency with C it should have a storage class specifier (usually 'extern')\n",
      "      warnings.warn(\"Global variable '%s' in cdef(): for consistency \"\n",
      "    running install\n",
      "    running build\n",
      "    running build_py\n",
      "    creating build\n",
      "    creating build/lib.linux-x86_64-3.8\n",
      "    creating build/lib.linux-x86_64-3.8/gevent\n",
      "    copying src/gevent/queue.py -> build/lib.linux-x86_64-3.8/gevent\n",
      "    copying src/gevent/_greenlet_primitives.py -> build/lib.linux-x86_64-3.8/gevent\n",
      "    copying src/gevent/greenlet.py -> build/lib.linux-x86_64-3.8/gevent\n",
      "    copying src/gevent/backdoor.py -> build/lib.linux-x86_64-3.8/gevent\n",
      "    copying src/gevent/time.py -> build/lib.linux-x86_64-3.8/gevent\n",
      "    copying src/gevent/_semaphore.py -> build/lib.linux-x86_64-3.8/gevent\n",
      "    copying src/gevent/pywsgi.py -> build/lib.linux-x86_64-3.8/gevent\n",
      "    copying src/gevent/_tracer.py -> build/lib.linux-x86_64-3.8/gevent\n",
      "    copying src/gevent/_hub_local.py -> build/lib.linux-x86_64-3.8/gevent\n",
      "    copying src/gevent/_imap.py -> build/lib.linux-x86_64-3.8/gevent\n",
      "    copying src/gevent/event.py -> build/lib.linux-x86_64-3.8/gevent\n",
      "    copying src/gevent/server.py -> build/lib.linux-x86_64-3.8/gevent\n",
      "    copying src/gevent/thread.py -> build/lib.linux-x86_64-3.8/gevent\n",
      "    copying src/gevent/_util_py2.py -> build/lib.linux-x86_64-3.8/gevent\n",
      "    copying src/gevent/signal.py -> build/lib.linux-x86_64-3.8/gevent\n",
      "    copying src/gevent/_monitor.py -> build/lib.linux-x86_64-3.8/gevent\n",
      "    copying src/gevent/_ssl3.py -> build/lib.linux-x86_64-3.8/gevent\n",
      "    copying src/gevent/util.py -> build/lib.linux-x86_64-3.8/gevent\n",
      "    copying src/gevent/builtins.py -> build/lib.linux-x86_64-3.8/gevent\n",
      "    copying src/gevent/events.py -> build/lib.linux-x86_64-3.8/gevent\n",
      "    copying src/gevent/local.py -> build/lib.linux-x86_64-3.8/gevent\n",
      "    copying src/gevent/threadpool.py -> build/lib.linux-x86_64-3.8/gevent\n",
      "    copying src/gevent/subprocess.py -> build/lib.linux-x86_64-3.8/gevent\n",
      "    copying src/gevent/_socketcommon.py -> build/lib.linux-x86_64-3.8/gevent\n",
      "    copying src/gevent/timeout.py -> build/lib.linux-x86_64-3.8/gevent\n",
      "    copying src/gevent/os.py -> build/lib.linux-x86_64-3.8/gevent\n",
      "    copying src/gevent/__init__.py -> build/lib.linux-x86_64-3.8/gevent\n",
      "    copying src/gevent/_interfaces.py -> build/lib.linux-x86_64-3.8/gevent\n",
      "    copying src/gevent/core.py -> build/lib.linux-x86_64-3.8/gevent\n",
      "    copying src/gevent/_ssl2.py -> build/lib.linux-x86_64-3.8/gevent\n",
      "    copying src/gevent/fileobject.py -> build/lib.linux-x86_64-3.8/gevent\n",
      "    copying src/gevent/_fileobjectcommon.py -> build/lib.linux-x86_64-3.8/gevent\n",
      "    copying src/gevent/hub.py -> build/lib.linux-x86_64-3.8/gevent\n",
      "    copying src/gevent/_socket2.py -> build/lib.linux-x86_64-3.8/gevent\n",
      "    copying src/gevent/threading.py -> build/lib.linux-x86_64-3.8/gevent\n",
      "    copying src/gevent/win32util.py -> build/lib.linux-x86_64-3.8/gevent\n",
      "    copying src/gevent/resolver_ares.py -> build/lib.linux-x86_64-3.8/gevent\n",
      "    copying src/gevent/baseserver.py -> build/lib.linux-x86_64-3.8/gevent\n",
      "    copying src/gevent/_waiter.py -> build/lib.linux-x86_64-3.8/gevent\n",
      "    copying src/gevent/_hub_primitives.py -> build/lib.linux-x86_64-3.8/gevent\n",
      "    copying src/gevent/_fileobjectposix.py -> build/lib.linux-x86_64-3.8/gevent\n",
      "    copying src/gevent/_util.py -> build/lib.linux-x86_64-3.8/gevent\n",
      "    copying src/gevent/ares.py -> build/lib.linux-x86_64-3.8/gevent\n",
      "    copying src/gevent/lock.py -> build/lib.linux-x86_64-3.8/gevent\n",
      "    copying src/gevent/_sslgte279.py -> build/lib.linux-x86_64-3.8/gevent\n",
      "    copying src/gevent/_socket3.py -> build/lib.linux-x86_64-3.8/gevent\n",
      "    copying src/gevent/monkey.py -> build/lib.linux-x86_64-3.8/gevent\n",
      "    copying src/gevent/_patcher.py -> build/lib.linux-x86_64-3.8/gevent\n",
      "    copying src/gevent/_abstract_linkable.py -> build/lib.linux-x86_64-3.8/gevent\n",
      "    copying src/gevent/exceptions.py -> build/lib.linux-x86_64-3.8/gevent\n",
      "    copying src/gevent/select.py -> build/lib.linux-x86_64-3.8/gevent\n",
      "    copying src/gevent/_compat.py -> build/lib.linux-x86_64-3.8/gevent\n",
      "    copying src/gevent/_threading.py -> build/lib.linux-x86_64-3.8/gevent\n",
      "    copying src/gevent/_config.py -> build/lib.linux-x86_64-3.8/gevent\n",
      "    copying src/gevent/ssl.py -> build/lib.linux-x86_64-3.8/gevent\n",
      "    copying src/gevent/socket.py -> build/lib.linux-x86_64-3.8/gevent\n",
      "    copying src/gevent/pool.py -> build/lib.linux-x86_64-3.8/gevent\n",
      "    copying src/gevent/_ident.py -> build/lib.linux-x86_64-3.8/gevent\n",
      "    copying src/gevent/resolver_thread.py -> build/lib.linux-x86_64-3.8/gevent\n",
      "    copying src/gevent/_tblib.py -> build/lib.linux-x86_64-3.8/gevent\n",
      "    creating build/lib.linux-x86_64-3.8/gevent/libuv\n",
      "    copying src/gevent/libuv/_corecffi_build.py -> build/lib.linux-x86_64-3.8/gevent/libuv\n",
      "    copying src/gevent/libuv/__init__.py -> build/lib.linux-x86_64-3.8/gevent/libuv\n",
      "    copying src/gevent/libuv/loop.py -> build/lib.linux-x86_64-3.8/gevent/libuv\n",
      "    copying src/gevent/libuv/watcher.py -> build/lib.linux-x86_64-3.8/gevent/libuv\n",
      "    creating build/lib.linux-x86_64-3.8/gevent/tests\n",
      "    copying src/gevent/tests/test__issue639.py -> build/lib.linux-x86_64-3.8/gevent/tests\n",
      "    copying src/gevent/tests/test__socket_dns.py -> build/lib.linux-x86_64-3.8/gevent/tests\n",
      "    copying src/gevent/tests/test__core.py -> build/lib.linux-x86_64-3.8/gevent/tests\n",
      "    copying src/gevent/tests/test__issue330.py -> build/lib.linux-x86_64-3.8/gevent/tests\n",
      "    copying src/gevent/tests/test__issue112.py -> build/lib.linux-x86_64-3.8/gevent/tests\n",
      "    copying src/gevent/tests/test__socket.py -> build/lib.linux-x86_64-3.8/gevent/tests\n",
      "    copying src/gevent/tests/test__subprocess_poll.py -> build/lib.linux-x86_64-3.8/gevent/tests\n",
      "    copying src/gevent/tests/test__threading.py -> build/lib.linux-x86_64-3.8/gevent/tests\n",
      "    copying src/gevent/tests/test__core_async.py -> build/lib.linux-x86_64-3.8/gevent/tests\n",
      "    copying src/gevent/tests/_imports_at_top_level.py -> build/lib.linux-x86_64-3.8/gevent/tests\n",
      "    copying src/gevent/tests/test__select.py -> build/lib.linux-x86_64-3.8/gevent/tests\n",
      "    copying src/gevent/tests/test__iwait.py -> build/lib.linux-x86_64-3.8/gevent/tests\n",
      "    copying src/gevent/tests/test__monkey_scope.py -> build/lib.linux-x86_64-3.8/gevent/tests\n",
      "    copying src/gevent/tests/test__socketpair.py -> build/lib.linux-x86_64-3.8/gevent/tests\n",
      "    copying src/gevent/tests/test__monkey_sigchld.py -> build/lib.linux-x86_64-3.8/gevent/tests\n",
      "    copying src/gevent/tests/lock_tests.py -> build/lib.linux-x86_64-3.8/gevent/tests\n",
      "    copying src/gevent/tests/test__core_stat.py -> build/lib.linux-x86_64-3.8/gevent/tests\n",
      "    copying src/gevent/tests/test__makefile_ref.py -> build/lib.linux-x86_64-3.8/gevent/tests\n",
      "    copying src/gevent/tests/test__ssl.py -> build/lib.linux-x86_64-3.8/gevent/tests\n",
      "    copying src/gevent/tests/test__greenness.py -> build/lib.linux-x86_64-3.8/gevent/tests\n",
      "    copying src/gevent/tests/test__example_udp_client.py -> build/lib.linux-x86_64-3.8/gevent/tests\n",
      "    copying src/gevent/tests/test__examples.py -> build/lib.linux-x86_64-3.8/gevent/tests\n",
      "    copying src/gevent/tests/test__util.py -> build/lib.linux-x86_64-3.8/gevent/tests\n",
      "    copying src/gevent/tests/test__core_watcher.py -> build/lib.linux-x86_64-3.8/gevent/tests\n",
      "    copying src/gevent/tests/test__ares_timeout.py -> build/lib.linux-x86_64-3.8/gevent/tests\n",
      "    copying src/gevent/tests/test__socket_dns6.py -> build/lib.linux-x86_64-3.8/gevent/tests\n",
      "    copying src/gevent/tests/test___ident.py -> build/lib.linux-x86_64-3.8/gevent/tests\n",
      "    copying src/gevent/tests/test__threading_vs_settrace.py -> build/lib.linux-x86_64-3.8/gevent/tests\n",
      "    copying src/gevent/tests/test__issue230.py -> build/lib.linux-x86_64-3.8/gevent/tests\n",
      "    copying src/gevent/tests/test__timeout.py -> build/lib.linux-x86_64-3.8/gevent/tests\n",
      "    copying src/gevent/tests/test__close_backend_fd.py -> build/lib.linux-x86_64-3.8/gevent/tests\n",
      "    copying src/gevent/tests/test__sleep0.py -> build/lib.linux-x86_64-3.8/gevent/tests\n",
      "    copying src/gevent/tests/test__monkey_hub_in_thread.py -> build/lib.linux-x86_64-3.8/gevent/tests\n",
      "    copying src/gevent/tests/test__os.py -> build/lib.linux-x86_64-3.8/gevent/tests\n",
      "    copying src/gevent/tests/test__threading_patched_local.py -> build/lib.linux-x86_64-3.8/gevent/tests\n",
      "    copying src/gevent/tests/test__all__.py -> build/lib.linux-x86_64-3.8/gevent/tests\n",
      "    copying src/gevent/tests/test__issue607.py -> build/lib.linux-x86_64-3.8/gevent/tests\n",
      "    copying src/gevent/tests/test__hub_join.py -> build/lib.linux-x86_64-3.8/gevent/tests\n",
      "    copying src/gevent/tests/test___monkey_patching.py -> build/lib.linux-x86_64-3.8/gevent/tests\n",
      "    copying src/gevent/tests/test__import_wait.py -> build/lib.linux-x86_64-3.8/gevent/tests\n",
      "    copying src/gevent/tests/test__socket_send_memoryview.py -> build/lib.linux-x86_64-3.8/gevent/tests\n",
      "    copying src/gevent/tests/test__server_pywsgi.py -> build/lib.linux-x86_64-3.8/gevent/tests\n",
      "    copying src/gevent/tests/test__fileobject.py -> build/lib.linux-x86_64-3.8/gevent/tests\n",
      "    copying src/gevent/tests/test__monkey_builtins_future.py -> build/lib.linux-x86_64-3.8/gevent/tests\n",
      "    copying src/gevent/tests/_blocks_at_top_level.py -> build/lib.linux-x86_64-3.8/gevent/tests\n",
      "    copying src/gevent/tests/test__import_blocking_in_greenlet.py -> build/lib.linux-x86_64-3.8/gevent/tests\n",
      "    copying src/gevent/tests/test__core_callback.py -> build/lib.linux-x86_64-3.8/gevent/tests\n",
      "    copying src/gevent/tests/test__issue_728.py -> build/lib.linux-x86_64-3.8/gevent/tests\n",
      "    copying src/gevent/tests/test__monkey_sigchld_2.py -> build/lib.linux-x86_64-3.8/gevent/tests\n",
      "    copying src/gevent/tests/test___example_servers.py -> build/lib.linux-x86_64-3.8/gevent/tests\n",
      "    copying src/gevent/tests/test__threading_monkey_in_thread.py -> build/lib.linux-x86_64-3.8/gevent/tests\n",
      "    copying src/gevent/tests/test__example_udp_server.py -> build/lib.linux-x86_64-3.8/gevent/tests\n",
      "    copying src/gevent/tests/__init__.py -> build/lib.linux-x86_64-3.8/gevent/tests\n",
      "    copying src/gevent/tests/test__destroy.py -> build/lib.linux-x86_64-3.8/gevent/tests\n",
      "    copying src/gevent/tests/test__threadpool.py -> build/lib.linux-x86_64-3.8/gevent/tests\n",
      "    copying src/gevent/tests/test__monkey_sigchld_3.py -> build/lib.linux-x86_64-3.8/gevent/tests\n",
      "    copying src/gevent/tests/test__monkey.py -> build/lib.linux-x86_64-3.8/gevent/tests\n",
      "    copying src/gevent/tests/known_failures.py -> build/lib.linux-x86_64-3.8/gevent/tests\n",
      "    copying src/gevent/tests/_imports_imports_at_top_level.py -> build/lib.linux-x86_64-3.8/gevent/tests\n",
      "    copying src/gevent/tests/test__subprocess.py -> build/lib.linux-x86_64-3.8/gevent/tests\n",
      "    copying src/gevent/tests/test__threading_before_monkey.py -> build/lib.linux-x86_64-3.8/gevent/tests\n",
      "    copying src/gevent/tests/test__api.py -> build/lib.linux-x86_64-3.8/gevent/tests\n",
      "    copying src/gevent/tests/test__hub_join_timeout.py -> build/lib.linux-x86_64-3.8/gevent/tests\n",
      "    copying src/gevent/tests/test__monkey_multiple_imports.py -> build/lib.linux-x86_64-3.8/gevent/tests\n",
      "    copying src/gevent/tests/test__joinall.py -> build/lib.linux-x86_64-3.8/gevent/tests\n",
      "    copying src/gevent/tests/test__monkey_logging.py -> build/lib.linux-x86_64-3.8/gevent/tests\n",
      "    copying src/gevent/tests/test__nondefaultloop.py -> build/lib.linux-x86_64-3.8/gevent/tests\n",
      "    copying src/gevent/tests/test__core_loop_run.py -> build/lib.linux-x86_64-3.8/gevent/tests\n",
      "    copying src/gevent/tests/test__greenletset.py -> build/lib.linux-x86_64-3.8/gevent/tests\n",
      "    copying src/gevent/tests/test__backdoor.py -> build/lib.linux-x86_64-3.8/gevent/tests\n",
      "    copying src/gevent/tests/test__GreenletExit.py -> build/lib.linux-x86_64-3.8/gevent/tests\n",
      "    copying src/gevent/tests/test__refcount.py -> build/lib.linux-x86_64-3.8/gevent/tests\n",
      "    copying src/gevent/tests/test__refcount_core.py -> build/lib.linux-x86_64-3.8/gevent/tests\n",
      "    copying src/gevent/tests/test__hub.py -> build/lib.linux-x86_64-3.8/gevent/tests\n",
      "    copying src/gevent/tests/test__doctests.py -> build/lib.linux-x86_64-3.8/gevent/tests\n",
      "    copying src/gevent/tests/test__greenlet.py -> build/lib.linux-x86_64-3.8/gevent/tests\n",
      "    copying src/gevent/tests/test___config.py -> build/lib.linux-x86_64-3.8/gevent/tests\n",
      "    copying src/gevent/tests/_import_wait.py -> build/lib.linux-x86_64-3.8/gevent/tests\n",
      "    copying src/gevent/tests/test__destroy_default_loop.py -> build/lib.linux-x86_64-3.8/gevent/tests\n",
      "    copying src/gevent/tests/test__core_timer.py -> build/lib.linux-x86_64-3.8/gevent/tests\n",
      "    copying src/gevent/tests/test__issues461_471.py -> build/lib.linux-x86_64-3.8/gevent/tests\n",
      "    copying src/gevent/tests/test__issue6.py -> build/lib.linux-x86_64-3.8/gevent/tests\n",
      "    copying src/gevent/tests/test__events.py -> build/lib.linux-x86_64-3.8/gevent/tests\n",
      "    copying src/gevent/tests/test__greenio.py -> build/lib.linux-x86_64-3.8/gevent/tests\n",
      "    copying src/gevent/tests/test__environ.py -> build/lib.linux-x86_64-3.8/gevent/tests\n",
      "    copying src/gevent/tests/test__getaddrinfo_import.py -> build/lib.linux-x86_64-3.8/gevent/tests\n",
      "    copying src/gevent/tests/test__threading_native_before_monkey.py -> build/lib.linux-x86_64-3.8/gevent/tests\n",
      "    copying src/gevent/tests/test__local.py -> build/lib.linux-x86_64-3.8/gevent/tests\n",
      "    copying src/gevent/tests/test__api_timeout.py -> build/lib.linux-x86_64-3.8/gevent/tests\n",
      "    copying src/gevent/tests/test__issue467.py -> build/lib.linux-x86_64-3.8/gevent/tests\n",
      "    copying src/gevent/tests/test__threading_holding_lock_while_monkey.py -> build/lib.linux-x86_64-3.8/gevent/tests\n",
      "    copying src/gevent/tests/test__monkey_selectors.py -> build/lib.linux-x86_64-3.8/gevent/tests\n",
      "    copying src/gevent/tests/test__socket_close.py -> build/lib.linux-x86_64-3.8/gevent/tests\n",
      "    copying src/gevent/tests/test__pool.py -> build/lib.linux-x86_64-3.8/gevent/tests\n",
      "    copying src/gevent/tests/test__order.py -> build/lib.linux-x86_64-3.8/gevent/tests\n",
      "    copying src/gevent/tests/test___monitor.py -> build/lib.linux-x86_64-3.8/gevent/tests\n",
      "    copying src/gevent/tests/test__issue600.py -> build/lib.linux-x86_64-3.8/gevent/tests\n",
      "    copying src/gevent/tests/test__memleak.py -> build/lib.linux-x86_64-3.8/gevent/tests\n",
      "    copying src/gevent/tests/test__execmodules.py -> build/lib.linux-x86_64-3.8/gevent/tests\n",
      "    copying src/gevent/tests/test__example_portforwarder.py -> build/lib.linux-x86_64-3.8/gevent/tests\n",
      "    copying src/gevent/tests/test__systemerror.py -> build/lib.linux-x86_64-3.8/gevent/tests\n",
      "    copying src/gevent/tests/test__exc_info.py -> build/lib.linux-x86_64-3.8/gevent/tests\n",
      "    copying src/gevent/tests/test__socket_ex.py -> build/lib.linux-x86_64-3.8/gevent/tests\n",
      "    copying src/gevent/tests/test__socket_errors.py -> build/lib.linux-x86_64-3.8/gevent/tests\n",
      "    copying src/gevent/tests/test__server.py -> build/lib.linux-x86_64-3.8/gevent/tests\n",
      "    copying src/gevent/tests/test__core_loop_run_sig_mod.py -> build/lib.linux-x86_64-3.8/gevent/tests\n",
      "    copying src/gevent/tests/test__socket_timeout.py -> build/lib.linux-x86_64-3.8/gevent/tests\n",
      "    copying src/gevent/tests/test__pywsgi.py -> build/lib.linux-x86_64-3.8/gevent/tests\n",
      "    copying src/gevent/tests/test__semaphore.py -> build/lib.linux-x86_64-3.8/gevent/tests\n",
      "    copying src/gevent/tests/test__core_fork.py -> build/lib.linux-x86_64-3.8/gevent/tests\n",
      "    copying src/gevent/tests/test__monkey_ssl_warning3.py -> build/lib.linux-x86_64-3.8/gevent/tests\n",
      "    copying src/gevent/tests/test__loop_callback.py -> build/lib.linux-x86_64-3.8/gevent/tests\n",
      "    copying src/gevent/tests/getaddrinfo_module.py -> build/lib.linux-x86_64-3.8/gevent/tests\n",
      "    copying src/gevent/tests/test__threadpool_executor_patched.py -> build/lib.linux-x86_64-3.8/gevent/tests\n",
      "    copying src/gevent/tests/test__subprocess_interrupted.py -> build/lib.linux-x86_64-3.8/gevent/tests\n",
      "    copying src/gevent/tests/test__real_greenlet.py -> build/lib.linux-x86_64-3.8/gevent/tests\n",
      "    copying src/gevent/tests/test__ares_host_result.py -> build/lib.linux-x86_64-3.8/gevent/tests\n",
      "    copying src/gevent/tests/test__monkey_ssl_warning2.py -> build/lib.linux-x86_64-3.8/gevent/tests\n",
      "    copying src/gevent/tests/test__example_echoserver.py -> build/lib.linux-x86_64-3.8/gevent/tests\n",
      "    copying src/gevent/tests/_import_import_patch.py -> build/lib.linux-x86_64-3.8/gevent/tests\n",
      "    copying src/gevent/tests/__main__.py -> build/lib.linux-x86_64-3.8/gevent/tests\n",
      "    copying src/gevent/tests/test__queue.py -> build/lib.linux-x86_64-3.8/gevent/tests\n",
      "    copying src/gevent/tests/test__socket_ssl.py -> build/lib.linux-x86_64-3.8/gevent/tests\n",
      "    copying src/gevent/tests/test__monkey_ssl_warning.py -> build/lib.linux-x86_64-3.8/gevent/tests\n",
      "    copying src/gevent/tests/test__threading_2.py -> build/lib.linux-x86_64-3.8/gevent/tests\n",
      "    copying src/gevent/tests/test__event.py -> build/lib.linux-x86_64-3.8/gevent/tests\n",
      "    copying src/gevent/tests/test__signal.py -> build/lib.linux-x86_64-3.8/gevent/tests\n",
      "    copying src/gevent/tests/_import_patch.py -> build/lib.linux-x86_64-3.8/gevent/tests\n",
      "    copying src/gevent/tests/test__compat.py -> build/lib.linux-x86_64-3.8/gevent/tests\n",
      "    copying src/gevent/tests/test__monkey_queue.py -> build/lib.linux-x86_64-3.8/gevent/tests\n",
      "    creating build/lib.linux-x86_64-3.8/gevent/_ffi\n",
      "    copying src/gevent/_ffi/callback.py -> build/lib.linux-x86_64-3.8/gevent/_ffi\n",
      "    copying src/gevent/_ffi/__init__.py -> build/lib.linux-x86_64-3.8/gevent/_ffi\n",
      "    copying src/gevent/_ffi/loop.py -> build/lib.linux-x86_64-3.8/gevent/_ffi\n",
      "    copying src/gevent/_ffi/watcher.py -> build/lib.linux-x86_64-3.8/gevent/_ffi\n",
      "    creating build/lib.linux-x86_64-3.8/gevent/testing\n",
      "    copying src/gevent/testing/skipping.py -> build/lib.linux-x86_64-3.8/gevent/testing\n",
      "    copying src/gevent/testing/patched_tests_setup.py -> build/lib.linux-x86_64-3.8/gevent/testing\n",
      "    copying src/gevent/testing/exception.py -> build/lib.linux-x86_64-3.8/gevent/testing\n",
      "    copying src/gevent/testing/params.py -> build/lib.linux-x86_64-3.8/gevent/testing\n",
      "    copying src/gevent/testing/leakcheck.py -> build/lib.linux-x86_64-3.8/gevent/testing\n",
      "    copying src/gevent/testing/testcase.py -> build/lib.linux-x86_64-3.8/gevent/testing\n",
      "    copying src/gevent/testing/util.py -> build/lib.linux-x86_64-3.8/gevent/testing\n",
      "    copying src/gevent/testing/monkey_test.py -> build/lib.linux-x86_64-3.8/gevent/testing\n",
      "    copying src/gevent/testing/switching.py -> build/lib.linux-x86_64-3.8/gevent/testing\n",
      "    copying src/gevent/testing/__init__.py -> build/lib.linux-x86_64-3.8/gevent/testing\n",
      "    copying src/gevent/testing/hub.py -> build/lib.linux-x86_64-3.8/gevent/testing\n",
      "    copying src/gevent/testing/timing.py -> build/lib.linux-x86_64-3.8/gevent/testing\n",
      "    copying src/gevent/testing/six.py -> build/lib.linux-x86_64-3.8/gevent/testing\n",
      "    copying src/gevent/testing/sysinfo.py -> build/lib.linux-x86_64-3.8/gevent/testing\n",
      "    copying src/gevent/testing/sockets.py -> build/lib.linux-x86_64-3.8/gevent/testing\n",
      "    copying src/gevent/testing/modules.py -> build/lib.linux-x86_64-3.8/gevent/testing\n",
      "    copying src/gevent/testing/openfiles.py -> build/lib.linux-x86_64-3.8/gevent/testing\n",
      "    copying src/gevent/testing/errorhandler.py -> build/lib.linux-x86_64-3.8/gevent/testing\n",
      "    copying src/gevent/testing/testrunner.py -> build/lib.linux-x86_64-3.8/gevent/testing\n",
      "    copying src/gevent/testing/flaky.py -> build/lib.linux-x86_64-3.8/gevent/testing\n",
      "    creating build/lib.linux-x86_64-3.8/gevent/libev\n",
      "    copying src/gevent/libev/_corecffi_build.py -> build/lib.linux-x86_64-3.8/gevent/libev\n",
      "    copying src/gevent/libev/__init__.py -> build/lib.linux-x86_64-3.8/gevent/libev\n",
      "    copying src/gevent/libev/corecffi.py -> build/lib.linux-x86_64-3.8/gevent/libev\n",
      "    copying src/gevent/libev/watcher.py -> build/lib.linux-x86_64-3.8/gevent/libev\n",
      "    creating build/lib.linux-x86_64-3.8/gevent/resolver\n",
      "    copying src/gevent/resolver/thread.py -> build/lib.linux-x86_64-3.8/gevent/resolver\n",
      "    copying src/gevent/resolver/dnspython.py -> build/lib.linux-x86_64-3.8/gevent/resolver\n",
      "    copying src/gevent/resolver/__init__.py -> build/lib.linux-x86_64-3.8/gevent/resolver\n",
      "    copying src/gevent/resolver/ares.py -> build/lib.linux-x86_64-3.8/gevent/resolver\n",
      "    copying src/gevent/resolver/blocking.py -> build/lib.linux-x86_64-3.8/gevent/resolver\n",
      "    running egg_info\n",
      "    writing src/gevent.egg-info/PKG-INFO\n",
      "    writing dependency_links to src/gevent.egg-info/dependency_links.txt\n",
      "    writing entry points to src/gevent.egg-info/entry_points.txt\n",
      "    writing requirements to src/gevent.egg-info/requires.txt\n",
      "    writing top-level names to src/gevent.egg-info/top_level.txt\n",
      "    reading manifest file 'src/gevent.egg-info/SOURCES.txt'\n",
      "    reading manifest template 'MANIFEST.in'\n",
      "    warning: no files found matching 'changelog.rst'\n",
      "    warning: no files found matching 'Makefile.ext'\n",
      "    warning: no files found matching 'known_failures.py'\n",
      "    warning: no files found matching '.pep8'\n",
      "    no previously-included directories found matching '*/__pycache__'\n",
      "    warning: no previously-included files matching '*.so' found anywhere in distribution\n",
      "    warning: no previously-included files matching '*.o' found anywhere in distribution\n",
      "    warning: no previously-included files matching '*.lo' found anywhere in distribution\n",
      "    warning: no previously-included files matching '*.la' found anywhere in distribution\n",
      "    warning: no previously-included files matching 'config.status' found anywhere in distribution\n",
      "    no previously-included directories found matching 'doc/_build'\n",
      "    warning: no previously-included files matching '*.pyc' found anywhere in distribution\n",
      "    warning: no previously-included files matching '.coverage' found under directory 'src/greentest'\n",
      "    no previously-included directories found matching 'src/greentest/htmlcov'\n",
      "    warning: no previously-included files matching 'stamp-h?' found under directory 'deps/c-ares'\n",
      "    warning: no previously-included files matching 'ares_build.h.orig' found under directory 'deps/c-ares'\n",
      "    no previously-included directories found matching 'deps/libev/.deps'\n",
      "    no previously-included directories found matching 'deps/libuv/.deps'\n",
      "    warning: no previously-included files matching 'Makefile' found under directory 'deps/libev'\n",
      "    warning: no previously-included files matching 'libtool' found under directory 'deps/libev'\n",
      "    warning: no previously-included files matching 'stamp-h?' found under directory 'deps/libev'\n",
      "    warning: no previously-included files matching 'config.h' found under directory 'deps/libev'\n",
      "    warning: no previously-included files matching '_corecffi.c' found under directory 'src/gevent'\n",
      "    warning: no previously-included files found matching 'Makefile'\n",
      "    warning: no previously-included files found matching 'configure-output'\n",
      "    warning: no previously-included files found matching 'configure-output.txt'\n",
      "    warning: no previously-included files found matching 'deps/TAGS'\n",
      "    warning: no previously-included files found matching 'deps/c-ares/ares_build.h'\n",
      "    warning: no previously-included files found matching 'deps/c-ares/ares_config.h'\n",
      "    warning: no previously-included files found matching 'deps/c-ares/libcares.pc'\n",
      "    warning: no previously-included files found matching 'deps/c-ares/libtool'\n",
      "    warning: no files found matching 'Makefile.ext'\n",
      "    warning: no previously-included files matching '.deps' found under directory 'deps/c-ares'\n",
      "    warning: no previously-included files matching '.libs' found under directory 'deps/c-ares'\n",
      "    warning: no previously-included files matching '.deps' found under directory 'deps/libuv'\n",
      "    warning: no previously-included files matching '.libs' found under directory 'deps/libuv'\n",
      "    warning: no previously-included files matching '.deps' found under directory 'deps/libev'\n",
      "    warning: no previously-included files matching '.libs' found under directory 'deps/libev'\n",
      "    writing manifest file 'src/gevent.egg-info/SOURCES.txt'\n",
      "    copying src/gevent/__abstract_linkable.pxd -> build/lib.linux-x86_64-3.8/gevent\n",
      "    copying src/gevent/__greenlet_primitives.pxd -> build/lib.linux-x86_64-3.8/gevent\n",
      "    copying src/gevent/__hub_local.pxd -> build/lib.linux-x86_64-3.8/gevent\n",
      "    copying src/gevent/__hub_primitives.pxd -> build/lib.linux-x86_64-3.8/gevent\n",
      "    copying src/gevent/__ident.pxd -> build/lib.linux-x86_64-3.8/gevent\n",
      "    copying src/gevent/__imap.pxd -> build/lib.linux-x86_64-3.8/gevent\n",
      "    copying src/gevent/__semaphore.pxd -> build/lib.linux-x86_64-3.8/gevent\n",
      "    copying src/gevent/__tracer.pxd -> build/lib.linux-x86_64-3.8/gevent\n",
      "    copying src/gevent/__waiter.pxd -> build/lib.linux-x86_64-3.8/gevent\n",
      "    copying src/gevent/_abstract_linkable.c -> build/lib.linux-x86_64-3.8/gevent\n",
      "    copying src/gevent/_abstract_linkable.html -> build/lib.linux-x86_64-3.8/gevent\n",
      "    copying src/gevent/_event.pxd -> build/lib.linux-x86_64-3.8/gevent\n",
      "    copying src/gevent/_greenlet.pxd -> build/lib.linux-x86_64-3.8/gevent\n",
      "    copying src/gevent/_greenlet_primitives.c -> build/lib.linux-x86_64-3.8/gevent\n",
      "    copying src/gevent/_greenlet_primitives.html -> build/lib.linux-x86_64-3.8/gevent\n",
      "    copying src/gevent/_hub_local.c -> build/lib.linux-x86_64-3.8/gevent\n",
      "    copying src/gevent/_hub_local.html -> build/lib.linux-x86_64-3.8/gevent\n",
      "    copying src/gevent/_hub_primitives.c -> build/lib.linux-x86_64-3.8/gevent\n",
      "    copying src/gevent/_hub_primitives.html -> build/lib.linux-x86_64-3.8/gevent\n",
      "    copying src/gevent/_ident.c -> build/lib.linux-x86_64-3.8/gevent\n",
      "    copying src/gevent/_ident.html -> build/lib.linux-x86_64-3.8/gevent\n",
      "    copying src/gevent/_imap.c -> build/lib.linux-x86_64-3.8/gevent\n",
      "    copying src/gevent/_imap.html -> build/lib.linux-x86_64-3.8/gevent\n",
      "    copying src/gevent/_local.pxd -> build/lib.linux-x86_64-3.8/gevent\n",
      "    copying src/gevent/_queue.pxd -> build/lib.linux-x86_64-3.8/gevent\n",
      "    copying src/gevent/_semaphore.c -> build/lib.linux-x86_64-3.8/gevent\n",
      "    copying src/gevent/_semaphore.html -> build/lib.linux-x86_64-3.8/gevent\n",
      "    copying src/gevent/_tracer.c -> build/lib.linux-x86_64-3.8/gevent\n",
      "    copying src/gevent/_tracer.html -> build/lib.linux-x86_64-3.8/gevent\n",
      "    copying src/gevent/_waiter.c -> build/lib.linux-x86_64-3.8/gevent\n",
      "    copying src/gevent/_waiter.html -> build/lib.linux-x86_64-3.8/gevent\n",
      "    copying src/gevent/event.c -> build/lib.linux-x86_64-3.8/gevent\n",
      "    copying src/gevent/event.html -> build/lib.linux-x86_64-3.8/gevent\n",
      "    copying src/gevent/greenlet.c -> build/lib.linux-x86_64-3.8/gevent\n",
      "    copying src/gevent/greenlet.html -> build/lib.linux-x86_64-3.8/gevent\n",
      "    copying src/gevent/local.c -> build/lib.linux-x86_64-3.8/gevent\n",
      "    copying src/gevent/local.html -> build/lib.linux-x86_64-3.8/gevent\n",
      "    copying src/gevent/queue.c -> build/lib.linux-x86_64-3.8/gevent\n",
      "    copying src/gevent/queue.html -> build/lib.linux-x86_64-3.8/gevent\n",
      "    copying src/gevent/libuv/_corecffi_cdef.c -> build/lib.linux-x86_64-3.8/gevent/libuv\n",
      "    copying src/gevent/libuv/_corecffi_source.c -> build/lib.linux-x86_64-3.8/gevent/libuv\n",
      "    copying src/gevent/tests/2_7_keycert.pem -> build/lib.linux-x86_64-3.8/gevent/tests\n",
      "    copying src/gevent/tests/badcert.pem -> build/lib.linux-x86_64-3.8/gevent/tests\n",
      "    copying src/gevent/tests/badkey.pem -> build/lib.linux-x86_64-3.8/gevent/tests\n",
      "    copying src/gevent/tests/hosts_file.txt -> build/lib.linux-x86_64-3.8/gevent/tests\n",
      "    copying src/gevent/tests/https_svn_python_org_root.pem -> build/lib.linux-x86_64-3.8/gevent/tests\n",
      "    copying src/gevent/tests/keycert.pem -> build/lib.linux-x86_64-3.8/gevent/tests\n",
      "    copying src/gevent/tests/nullcert.pem -> build/lib.linux-x86_64-3.8/gevent/tests\n",
      "    copying src/gevent/tests/server.crt -> build/lib.linux-x86_64-3.8/gevent/tests\n",
      "    copying src/gevent/tests/server.key -> build/lib.linux-x86_64-3.8/gevent/tests\n",
      "    copying src/gevent/tests/sha256.pem -> build/lib.linux-x86_64-3.8/gevent/tests\n",
      "    copying src/gevent/tests/test_server.crt -> build/lib.linux-x86_64-3.8/gevent/tests\n",
      "    copying src/gevent/tests/test_server.key -> build/lib.linux-x86_64-3.8/gevent/tests\n",
      "    copying src/gevent/tests/tests_that_dont_do_leakchecks.txt -> build/lib.linux-x86_64-3.8/gevent/tests\n",
      "    copying src/gevent/tests/tests_that_dont_monkeypatch.txt -> build/lib.linux-x86_64-3.8/gevent/tests\n",
      "    copying src/gevent/tests/tests_that_dont_use_resolver.txt -> build/lib.linux-x86_64-3.8/gevent/tests\n",
      "    copying src/gevent/tests/wrongcert.pem -> build/lib.linux-x86_64-3.8/gevent/tests\n",
      "    creating build/lib.linux-x86_64-3.8/gevent/tests/monkey_package\n",
      "    copying src/gevent/tests/monkey_package/__main__.py -> build/lib.linux-x86_64-3.8/gevent/tests/monkey_package\n",
      "    copying src/gevent/tests/monkey_package/issue302monkey.py -> build/lib.linux-x86_64-3.8/gevent/tests/monkey_package\n",
      "    copying src/gevent/tests/monkey_package/script.py -> build/lib.linux-x86_64-3.8/gevent/tests/monkey_package\n",
      "    creating build/lib.linux-x86_64-3.8/gevent/testing/coveragesite\n",
      "    copying src/gevent/testing/coveragesite/sitecustomize.py -> build/lib.linux-x86_64-3.8/gevent/testing/coveragesite\n",
      "    copying src/gevent/libev/_corecffi_cdef.c -> build/lib.linux-x86_64-3.8/gevent/libev\n",
      "    copying src/gevent/libev/_corecffi_source.c -> build/lib.linux-x86_64-3.8/gevent/libev\n",
      "    copying src/gevent/libev/callbacks.c -> build/lib.linux-x86_64-3.8/gevent/libev\n",
      "    copying src/gevent/libev/callbacks.h -> build/lib.linux-x86_64-3.8/gevent/libev\n",
      "    copying src/gevent/libev/corecext.c -> build/lib.linux-x86_64-3.8/gevent/libev\n",
      "    copying src/gevent/libev/corecext.h -> build/lib.linux-x86_64-3.8/gevent/libev\n",
      "    copying src/gevent/libev/corecext.html -> build/lib.linux-x86_64-3.8/gevent/libev\n",
      "    copying src/gevent/libev/corecext.pyx -> build/lib.linux-x86_64-3.8/gevent/libev\n",
      "    copying src/gevent/libev/libev.h -> build/lib.linux-x86_64-3.8/gevent/libev\n",
      "    copying src/gevent/libev/libev.pxd -> build/lib.linux-x86_64-3.8/gevent/libev\n",
      "    copying src/gevent/libev/libev_vfd.h -> build/lib.linux-x86_64-3.8/gevent/libev\n",
      "    copying src/gevent/libev/stathelper.c -> build/lib.linux-x86_64-3.8/gevent/libev\n",
      "    copying src/gevent/resolver/cares.c -> build/lib.linux-x86_64-3.8/gevent/resolver\n",
      "    copying src/gevent/resolver/cares.html -> build/lib.linux-x86_64-3.8/gevent/resolver\n",
      "    copying src/gevent/resolver/cares.pyx -> build/lib.linux-x86_64-3.8/gevent/resolver\n",
      "    copying src/gevent/resolver/cares_ntop.h -> build/lib.linux-x86_64-3.8/gevent/resolver\n",
      "    copying src/gevent/resolver/cares_pton.h -> build/lib.linux-x86_64-3.8/gevent/resolver\n",
      "    copying src/gevent/resolver/dnshelper.c -> build/lib.linux-x86_64-3.8/gevent/resolver\n",
      "    copying src/gevent/resolver/libcares.pxd -> build/lib.linux-x86_64-3.8/gevent/resolver\n",
      "    running build_ext\n",
      "    generating cffi module 'build/temp.linux-x86_64-3.8/gevent.libuv._corecffi.c'\n",
      "    creating build/temp.linux-x86_64-3.8\n",
      "    generating cffi module 'build/temp.linux-x86_64-3.8/gevent.libev._corecffi.c'\n",
      "    Running '(cd  \"/tmp/pip-install-1b0cuu54/gevent/deps/libev\"  && sh ./configure   && cp config.h \"$OLDPWD\" ) > configure-output.txt' in /tmp/pip-install-1b0cuu54/gevent/build/temp.linux-x86_64-3.8/libev\n",
      "    configure: error: in `/tmp/pip-install-1b0cuu54/gevent/deps/libev':\n",
      "    configure: error: no acceptable C compiler found in $PATH\n",
      "    See `config.log' for more details\n",
      "    Traceback (most recent call last):\n",
      "      File \"<string>\", line 1, in <module>\n",
      "      File \"/tmp/pip-install-1b0cuu54/gevent/setup.py\", line 427, in <module>\n",
      "        run_setup(EXT_MODULES, run_make=_BUILDING)\n",
      "      File \"/tmp/pip-install-1b0cuu54/gevent/setup.py\", line 328, in run_setup\n",
      "        setup(\n",
      "      File \"/srv/conda/envs/notebook/lib/python3.8/site-packages/setuptools/__init__.py\", line 144, in setup\n",
      "        return distutils.core.setup(**attrs)\n",
      "      File \"/srv/conda/envs/notebook/lib/python3.8/distutils/core.py\", line 148, in setup\n",
      "        dist.run_commands()\n",
      "      File \"/srv/conda/envs/notebook/lib/python3.8/distutils/dist.py\", line 966, in run_commands\n",
      "        self.run_command(cmd)\n",
      "      File \"/srv/conda/envs/notebook/lib/python3.8/distutils/dist.py\", line 985, in run_command\n",
      "        cmd_obj.run()\n",
      "      File \"/srv/conda/envs/notebook/lib/python3.8/site-packages/setuptools/command/install.py\", line 61, in run\n",
      "        return orig.install.run(self)\n",
      "      File \"/srv/conda/envs/notebook/lib/python3.8/distutils/command/install.py\", line 545, in run\n",
      "        self.run_command('build')\n",
      "      File \"/srv/conda/envs/notebook/lib/python3.8/distutils/cmd.py\", line 313, in run_command\n",
      "        self.distribution.run_command(command)\n",
      "      File \"/srv/conda/envs/notebook/lib/python3.8/distutils/dist.py\", line 985, in run_command\n",
      "        cmd_obj.run()\n",
      "      File \"/srv/conda/envs/notebook/lib/python3.8/distutils/command/build.py\", line 135, in run\n",
      "        self.run_command(cmd_name)\n",
      "      File \"/srv/conda/envs/notebook/lib/python3.8/distutils/cmd.py\", line 313, in run_command\n",
      "        self.distribution.run_command(command)\n",
      "      File \"/srv/conda/envs/notebook/lib/python3.8/distutils/dist.py\", line 985, in run_command\n",
      "        cmd_obj.run()\n",
      "      File \"/srv/conda/envs/notebook/lib/python3.8/site-packages/cffi/setuptools_ext.py\", line 142, in run\n",
      "        base_class.run(self)\n",
      "      File \"/srv/conda/envs/notebook/lib/python3.8/site-packages/cffi/setuptools_ext.py\", line 142, in run\n",
      "        base_class.run(self)\n",
      "      File \"/srv/conda/envs/notebook/lib/python3.8/site-packages/setuptools/command/build_ext.py\", line 87, in run\n",
      "        _build_ext.run(self)\n",
      "      File \"/srv/conda/envs/notebook/lib/python3.8/distutils/command/build_ext.py\", line 340, in run\n",
      "        self.build_extensions()\n",
      "      File \"/srv/conda/envs/notebook/lib/python3.8/distutils/command/build_ext.py\", line 449, in build_extensions\n",
      "        self._build_extensions_serial()\n",
      "      File \"/srv/conda/envs/notebook/lib/python3.8/distutils/command/build_ext.py\", line 474, in _build_extensions_serial\n",
      "        self.build_extension(ext)\n",
      "      File \"/tmp/pip-install-1b0cuu54/gevent/_setuputils.py\", line 222, in build_extension\n",
      "        self.gevent_prepare(ext)\n",
      "      File \"/tmp/pip-install-1b0cuu54/gevent/_setuputils.py\", line 219, in gevent_prepare\n",
      "        configure(self, ext)\n",
      "      File \"/tmp/pip-install-1b0cuu54/gevent/_setuplibev.py\", line 56, in configure_libev\n",
      "        system(libev_configure_command)\n",
      "      File \"/tmp/pip-install-1b0cuu54/gevent/_setuputils.py\", line 150, in system\n",
      "        if _system(cmd, cwd=cwd, env=env, **kwargs):\n",
      "      File \"/tmp/pip-install-1b0cuu54/gevent/_setuputils.py\", line 146, in _system\n",
      "        return check_call(cmd, cwd=cwd, env=env, **kwargs)\n",
      "      File \"/srv/conda/envs/notebook/lib/python3.8/subprocess.py\", line 364, in check_call\n",
      "        raise CalledProcessError(retcode, cmd)\n",
      "    subprocess.CalledProcessError: Command '(cd  \"/tmp/pip-install-1b0cuu54/gevent/deps/libev\"  && sh ./configure   && cp config.h \"$OLDPWD\" ) > configure-output.txt' returned non-zero exit status 1.\n",
      "    ----------------------------------------\u001b[0m\n",
      "\u001b[31mERROR: Command errored out with exit status 1: /srv/conda/envs/notebook/bin/python3.8 -u -c 'import sys, setuptools, tokenize; sys.argv[0] = '\"'\"'/tmp/pip-install-1b0cuu54/gevent/setup.py'\"'\"'; __file__='\"'\"'/tmp/pip-install-1b0cuu54/gevent/setup.py'\"'\"';f=getattr(tokenize, '\"'\"'open'\"'\"', open)(__file__);code=f.read().replace('\"'\"'\\r\\n'\"'\"', '\"'\"'\\n'\"'\"');f.close();exec(compile(code, __file__, '\"'\"'exec'\"'\"'))' install --record /tmp/pip-record-sv22tpyj/install-record.txt --single-version-externally-managed --compile --install-headers /srv/conda/envs/notebook/include/python3.8/gevent Check the logs for full command output.\u001b[0m\n"
     ]
    }
   ],
   "source": [
    "# install necessary packages\n",
    "\n",
    "# Ensure that the latest build of yodapy is installed directly from github using\n",
    "!pip install git+https://github.com/cormorack/yodapy.git -q     # -q cuts the stdout clutter"
   ]
  },
  {
   "cell_type": "code",
   "execution_count": 2,
   "metadata": {},
   "outputs": [
    {
     "ename": "ModuleNotFoundError",
     "evalue": "No module named 'yodapy'",
     "output_type": "error",
     "traceback": [
      "\u001b[0;31m---------------------------------------------------------------------------\u001b[0m",
      "\u001b[0;31mModuleNotFoundError\u001b[0m                       Traceback (most recent call last)",
      "\u001b[0;32m<ipython-input-2-98f9d93d5111>\u001b[0m in \u001b[0;36m<module>\u001b[0;34m\u001b[0m\n\u001b[1;32m     12\u001b[0m \u001b[0;32mfrom\u001b[0m \u001b[0mdatetime\u001b[0m \u001b[0;32mimport\u001b[0m \u001b[0mdatetime\u001b[0m\u001b[0;34m,\u001b[0m \u001b[0mtimedelta\u001b[0m\u001b[0;34m\u001b[0m\u001b[0;34m\u001b[0m\u001b[0m\n\u001b[1;32m     13\u001b[0m \u001b[0;34m\u001b[0m\u001b[0m\n\u001b[0;32m---> 14\u001b[0;31m \u001b[0;32mfrom\u001b[0m \u001b[0myodapy\u001b[0m\u001b[0;34m.\u001b[0m\u001b[0mdatasources\u001b[0m \u001b[0;32mimport\u001b[0m \u001b[0mOOI\u001b[0m\u001b[0;34m\u001b[0m\u001b[0;34m\u001b[0m\u001b[0m\n\u001b[0m\u001b[1;32m     15\u001b[0m \u001b[0mooi\u001b[0m \u001b[0;34m=\u001b[0m \u001b[0mOOI\u001b[0m\u001b[0;34m(\u001b[0m\u001b[0;34m)\u001b[0m\u001b[0;34m\u001b[0m\u001b[0;34m\u001b[0m\u001b[0m\n\u001b[1;32m     16\u001b[0m \u001b[0;34m\u001b[0m\u001b[0m\n",
      "\u001b[0;31mModuleNotFoundError\u001b[0m: No module named 'yodapy'"
     ]
    }
   ],
   "source": [
    "# import necessary functions\n",
    "\n",
    "import numpy as np\n",
    "from numpy import datetime64 as dt64, timedelta64 as td64\n",
    "\n",
    "import os\n",
    "import xarray as xr\n",
    "import pandas as pd\n",
    "from matplotlib import pyplot as plt\n",
    "\n",
    "from netCDF4 import Dataset, num2date, date2num \n",
    "from datetime import datetime, timedelta\n",
    "\n",
    "from yodapy.datasources import OOI\n",
    "ooi = OOI()\n",
    "\n",
    "# Local application/library specific imports\n",
    "from golive_library import GoliveLibrary as g\n",
    "\n",
    "from yodapy.utils.creds import set_credentials_file"
   ]
  },
  {
   "cell_type": "markdown",
   "metadata": {},
   "source": [
    "# OOI Data\n",
    "\n",
    "Visit [OOI website](https://ooinet.oceanobservatories.org/#) to get credentials. Be sure to obscure credentials before pushing this notebook to GitHub!\n",
    "\n",
    "Sometimes the cell below will break on you! Restart the kernel and clear all output, and get a new token from OOI. If that doesn't fix it, retry everything in this notebook or the chlorophyll notebook and hope that the error messages go away.\n",
    "\n",
    "Included in this section are multiple commented cells that are useful commands for familiarizing yourself with the structure and extent of the RCA. Uncomment the commands in the multiple following cells to see all of the sites and instruments available for evaluation.\n",
    "\n",
    "If you ever get a message that says \"Please wait while we fetch the metadata...\" it might be necessary to rerun the cell that generated the message.\n",
    "\n",
    "The cell below tells the OOI that you have an account with them through which you can submit data requests. This will allow you to download data for use in this notebook. If you don't already have an account, you can easily create one on the [OOI website](https://ooinet.oceanobservatories.org/#)."
   ]
  },
  {
   "cell_type": "code",
   "execution_count": 11,
   "metadata": {},
   "outputs": [],
   "source": [
    "# Remember to obscure your username and token when you're done!!!\n",
    "\n",
    "# set_credentials_file(data_source='ooi', username='OOIAPI-xxxx', token='TEMP-TOKEN-xxxx')\n",
    "\n",
    "# Recomment this line after running it once! \n",
    "# Running it twice will break your credentials! "
   ]
  },
  {
   "cell_type": "code",
   "execution_count": 11,
   "metadata": {},
   "outputs": [],
   "source": [
    "# Run these to helpful see documentation on yodapy and ooi\n",
    "# help(ooi)\n",
    "# help(ooi.cava_sites)\n",
    "\n",
    "# Run this to see all commands included in yodapy\n",
    "# g.dirnou(ooi)\n",
    "\n",
    "# Run this to see all sites included in the OOI RCA cava project (cava = cabled array value added)\n",
    "# print(ooi.cava_sites, '\\n\\n\\n', ooi.cava_parameters)\n",
    "\n",
    "# Run this to see all the components or segments of OOI available\n",
    "# ooi.sites\n",
    "\n",
    "# Run this to see all the instruments of OOI available\n",
    "# ooi.instruments"
   ]
  },
  {
   "cell_type": "markdown",
   "metadata": {},
   "source": [
    "## Creating the workflow\n",
    "\n",
    "We can look at the workflow for this project as a series of steps:\n",
    "* obtain desired data from OOI\n",
    "* prepare data for analysis\n",
    "* calculate mean and standard deviation of data bins\n",
    "\n",
    "This section of this notebook will walk through the ways we completed each of these steps. This is our opportunity to teach others how to create a workflow for OOI RCA data analysis. After this walkthrough, these steps will be combined into a streamlined format for easier application to broader range of data. That is where we will do comparisons of the data over time.  "
   ]
  },
  {
   "cell_type": "markdown",
   "metadata": {},
   "source": [
    "### Obtaining desired data from OOI\n",
    "\n",
    "\n",
    "If you run any of the commands in the code cell above, you'll see that there are quite a lot of components to the RCA. With over 60 sites and 5000+ instruments, it can be difficult to identify the exact data we want. Fortunately, we are familiar with the RCA structure and terminology. Remember that you can visit the [Interactive Oceans Data Portal](https://app.interactiveoceans.washington.edu/) to learn about the site locations, instruments, parameters, and data availability for the entire RCA system.\n",
    "\n",
    "* If we didn't know the names of sites, nodes, and instruments, where could we learn about them? Link that info here! \n",
    "* How do we see data availability on a day-by-day basis?"
   ]
  },
  {
   "cell_type": "code",
   "execution_count": 9,
   "metadata": {},
   "outputs": [
    {
     "data": {
      "text/plain": [
       "<Data Source: OOI (1 Instrument Stream)>"
      ]
     },
     "execution_count": 9,
     "metadata": {},
     "output_type": "execute_result"
    }
   ],
   "source": [
    "# Narrow the search using the appropriate terms.\n",
    "\n",
    "ooi.search(region='cabled', site='oregon slope base', node='shallow', instrument='CTD')"
   ]
  },
  {
   "cell_type": "code",
   "execution_count": 10,
   "metadata": {},
   "outputs": [
    {
     "data": {
      "text/html": [
       "<div>\n",
       "<style scoped>\n",
       "    .dataframe tbody tr th:only-of-type {\n",
       "        vertical-align: middle;\n",
       "    }\n",
       "\n",
       "    .dataframe tbody tr th {\n",
       "        vertical-align: top;\n",
       "    }\n",
       "\n",
       "    .dataframe thead th {\n",
       "        text-align: right;\n",
       "    }\n",
       "</style>\n",
       "<table border=\"1\" class=\"dataframe\">\n",
       "  <thead>\n",
       "    <tr style=\"text-align: right;\">\n",
       "      <th></th>\n",
       "      <th>RS01SBPS-SF01A-2A-CTDPFA102-streamed-ctdpf_sbe43_sample</th>\n",
       "    </tr>\n",
       "  </thead>\n",
       "  <tbody>\n",
       "    <tr>\n",
       "      <th>0</th>\n",
       "      <td>Cabled Continental Margin (Cabled Array)</td>\n",
       "    </tr>\n",
       "    <tr>\n",
       "      <th>1</th>\n",
       "      <td>Oregon Slope Base Shallow Profiler Mooring</td>\n",
       "    </tr>\n",
       "    <tr>\n",
       "      <th>2</th>\n",
       "      <td>Shallow Profiler (SF01A)</td>\n",
       "    </tr>\n",
       "    <tr>\n",
       "      <th>3</th>\n",
       "      <td>CTD</td>\n",
       "    </tr>\n",
       "    <tr>\n",
       "      <th>4</th>\n",
       "      <td>streamed</td>\n",
       "    </tr>\n",
       "    <tr>\n",
       "      <th>5</th>\n",
       "      <td>ctdpf_sbe43_sample</td>\n",
       "    </tr>\n",
       "  </tbody>\n",
       "</table>\n",
       "</div>"
      ],
      "text/plain": [
       "  RS01SBPS-SF01A-2A-CTDPFA102-streamed-ctdpf_sbe43_sample\n",
       "0           Cabled Continental Margin (Cabled Array)     \n",
       "1         Oregon Slope Base Shallow Profiler Mooring     \n",
       "2                           Shallow Profiler (SF01A)     \n",
       "3                                                CTD     \n",
       "4                                           streamed     \n",
       "5                                 ctdpf_sbe43_sample     "
      ]
     },
     "execution_count": 10,
     "metadata": {},
     "output_type": "execute_result"
    },
    {
     "data": {
      "image/png": "[encoded data removed]",
      "text/plain": [
       "<Figure size 1440x720 with 2 Axes>"
      ]
     },
     "metadata": {},
     "output_type": "display_data"
    }
   ],
   "source": [
    "# Check the data availability of the selected instrument. Long periods of data may be missing.\n",
    "\n",
    "ooi.data_availability()    # try running this cell twice if a green time plot doesn't appear on the first run"
   ]
  },
  {
   "cell_type": "markdown",
   "metadata": {},
   "source": [
    "From the Interactive Oceans Data Portal we can see data availability for the CTD on the Oregon Slope Base Shallow Profiler (note that this instrument is referred to as a 'CTD-O' on the data portal because it also has an **O**xygen sensor). Below is a screenshot of the day-by-day availability of the same instrument. A more interactive version can be found on the Data Portal."
   ]
  },
  {
   "cell_type": "markdown",
   "metadata": {},
   "source": [
    "<img src=\"./OreSlope_ShallProf_CTD_DataAvailability.PNG\">"
   ]
  },
  {
   "cell_type": "markdown",
   "metadata": {},
   "source": [
    "With the desired instrument(s) selected, generate a data request to the OOI system. Recomment the following two cells after running once to avoid repeatedly requesting the same datafiles. It will benefit you to rename the downloaded file(s) to something more meaningful, such as 'site_node_instrument_####.nc' where #### = 0001, 0002, 0003 . . . 9999. "
   ]
  },
  {
   "cell_type": "markdown",
   "metadata": {},
   "source": [
    "Please note that you only need to run the request and download commands (below) once. After you request and download the data, move it into your data subdirectory (which should be outside of the working directory if you plan to push to a size limited file storage system like GitHub). Once you have your data you can comment out the request and download commands because you do not need to repeatedly request and download the same exact data file(s).\n",
    "\n",
    "If you have already done this or just want to skip ahead, you can **skip to the section titled 'Combining the Workflow Steps'.**"
   ]
  },
  {
   "cell_type": "code",
   "execution_count": 12,
   "metadata": {
    "collapsed": true,
    "jupyter": {
     "outputs_hidden": true
    }
   },
   "outputs": [
    {
     "name": "stderr",
     "output_type": "stream",
     "text": [
      "(MainThread) Your data (https://opendap.oceanobservatories.org/async_results/deryag@uw.edu/20200326T181133958Z-RS01SBPS-SF01A-2A-CTDPFA102-streamed-ctdpf_sbe43_sample) is still compiling... Please wait.\n"
     ]
    },
    {
     "name": "stdout",
     "output_type": "stream",
     "text": [
      "Your data (https://opendap.oceanobservatories.org/async_results/deryag@uw.edu/20200326T181133958Z-RS01SBPS-SF01A-2A-CTDPFA102-streamed-ctdpf_sbe43_sample) is still compiling... Please wait.\n"
     ]
    },
    {
     "name": "stderr",
     "output_type": "stream",
     "text": [
      "(MainThread) Data request time elapsed: 10s\n"
     ]
    },
    {
     "name": "stdout",
     "output_type": "stream",
     "text": [
      "Data request time elapsed: 10s\n"
     ]
    },
    {
     "name": "stderr",
     "output_type": "stream",
     "text": [
      "(MainThread) Your data (https://opendap.oceanobservatories.org/async_results/deryag@uw.edu/20200326T181133958Z-RS01SBPS-SF01A-2A-CTDPFA102-streamed-ctdpf_sbe43_sample) is still compiling... Please wait.\n"
     ]
    },
    {
     "name": "stdout",
     "output_type": "stream",
     "text": [
      "Your data (https://opendap.oceanobservatories.org/async_results/deryag@uw.edu/20200326T181133958Z-RS01SBPS-SF01A-2A-CTDPFA102-streamed-ctdpf_sbe43_sample) is still compiling... Please wait.\n"
     ]
    },
    {
     "name": "stderr",
     "output_type": "stream",
     "text": [
      "(MainThread) Data request time elapsed: 20s\n"
     ]
    },
    {
     "name": "stdout",
     "output_type": "stream",
     "text": [
      "Data request time elapsed: 20s\n"
     ]
    },
    {
     "name": "stderr",
     "output_type": "stream",
     "text": [
      "(MainThread) Your data (https://opendap.oceanobservatories.org/async_results/deryag@uw.edu/20200326T181133958Z-RS01SBPS-SF01A-2A-CTDPFA102-streamed-ctdpf_sbe43_sample) is still compiling... Please wait.\n"
     ]
    },
    {
     "name": "stdout",
     "output_type": "stream",
     "text": [
      "Your data (https://opendap.oceanobservatories.org/async_results/deryag@uw.edu/20200326T181133958Z-RS01SBPS-SF01A-2A-CTDPFA102-streamed-ctdpf_sbe43_sample) is still compiling... Please wait.\n"
     ]
    },
    {
     "name": "stderr",
     "output_type": "stream",
     "text": [
      "(MainThread) Data request time elapsed: 30s\n"
     ]
    },
    {
     "name": "stdout",
     "output_type": "stream",
     "text": [
      "Data request time elapsed: 30s\n"
     ]
    },
    {
     "name": "stderr",
     "output_type": "stream",
     "text": [
      "(MainThread) Your data (https://opendap.oceanobservatories.org/async_results/deryag@uw.edu/20200326T181133958Z-RS01SBPS-SF01A-2A-CTDPFA102-streamed-ctdpf_sbe43_sample) is still compiling... Please wait.\n"
     ]
    },
    {
     "name": "stdout",
     "output_type": "stream",
     "text": [
      "Your data (https://opendap.oceanobservatories.org/async_results/deryag@uw.edu/20200326T181133958Z-RS01SBPS-SF01A-2A-CTDPFA102-streamed-ctdpf_sbe43_sample) is still compiling... Please wait.\n"
     ]
    },
    {
     "name": "stderr",
     "output_type": "stream",
     "text": [
      "(MainThread) Data request time elapsed: 41s\n"
     ]
    },
    {
     "name": "stdout",
     "output_type": "stream",
     "text": [
      "Data request time elapsed: 41s\n"
     ]
    },
    {
     "name": "stderr",
     "output_type": "stream",
     "text": [
      "(MainThread) Your data (https://opendap.oceanobservatories.org/async_results/deryag@uw.edu/20200326T181133958Z-RS01SBPS-SF01A-2A-CTDPFA102-streamed-ctdpf_sbe43_sample) is still compiling... Please wait.\n"
     ]
    },
    {
     "name": "stdout",
     "output_type": "stream",
     "text": [
      "Your data (https://opendap.oceanobservatories.org/async_results/deryag@uw.edu/20200326T181133958Z-RS01SBPS-SF01A-2A-CTDPFA102-streamed-ctdpf_sbe43_sample) is still compiling... Please wait.\n"
     ]
    },
    {
     "name": "stderr",
     "output_type": "stream",
     "text": [
      "(MainThread) Data request time elapsed: 51s\n"
     ]
    },
    {
     "name": "stdout",
     "output_type": "stream",
     "text": [
      "Data request time elapsed: 51s\n"
     ]
    },
    {
     "name": "stderr",
     "output_type": "stream",
     "text": [
      "(MainThread) Your data (https://opendap.oceanobservatories.org/async_results/deryag@uw.edu/20200326T181133958Z-RS01SBPS-SF01A-2A-CTDPFA102-streamed-ctdpf_sbe43_sample) is still compiling... Please wait.\n"
     ]
    },
    {
     "name": "stdout",
     "output_type": "stream",
     "text": [
      "Your data (https://opendap.oceanobservatories.org/async_results/deryag@uw.edu/20200326T181133958Z-RS01SBPS-SF01A-2A-CTDPFA102-streamed-ctdpf_sbe43_sample) is still compiling... Please wait.\n"
     ]
    },
    {
     "name": "stderr",
     "output_type": "stream",
     "text": [
      "(MainThread) Data request time elapsed: 61s\n"
     ]
    },
    {
     "name": "stdout",
     "output_type": "stream",
     "text": [
      "Data request time elapsed: 61s\n"
     ]
    },
    {
     "name": "stderr",
     "output_type": "stream",
     "text": [
      "(MainThread) Your data (https://opendap.oceanobservatories.org/async_results/deryag@uw.edu/20200326T181133958Z-RS01SBPS-SF01A-2A-CTDPFA102-streamed-ctdpf_sbe43_sample) is still compiling... Please wait.\n"
     ]
    },
    {
     "name": "stdout",
     "output_type": "stream",
     "text": [
      "Your data (https://opendap.oceanobservatories.org/async_results/deryag@uw.edu/20200326T181133958Z-RS01SBPS-SF01A-2A-CTDPFA102-streamed-ctdpf_sbe43_sample) is still compiling... Please wait.\n"
     ]
    },
    {
     "name": "stderr",
     "output_type": "stream",
     "text": [
      "(MainThread) Data request time elapsed: 72s\n"
     ]
    },
    {
     "name": "stdout",
     "output_type": "stream",
     "text": [
      "Data request time elapsed: 72s\n"
     ]
    },
    {
     "name": "stderr",
     "output_type": "stream",
     "text": [
      "(MainThread) Your data (https://opendap.oceanobservatories.org/async_results/deryag@uw.edu/20200326T181133958Z-RS01SBPS-SF01A-2A-CTDPFA102-streamed-ctdpf_sbe43_sample) is still compiling... Please wait.\n"
     ]
    },
    {
     "name": "stdout",
     "output_type": "stream",
     "text": [
      "Your data (https://opendap.oceanobservatories.org/async_results/deryag@uw.edu/20200326T181133958Z-RS01SBPS-SF01A-2A-CTDPFA102-streamed-ctdpf_sbe43_sample) is still compiling... Please wait.\n"
     ]
    },
    {
     "name": "stderr",
     "output_type": "stream",
     "text": [
      "(MainThread) Data request time elapsed: 82s\n"
     ]
    },
    {
     "name": "stdout",
     "output_type": "stream",
     "text": [
      "Data request time elapsed: 82s\n"
     ]
    },
    {
     "name": "stderr",
     "output_type": "stream",
     "text": [
      "(MainThread) Your data (https://opendap.oceanobservatories.org/async_results/deryag@uw.edu/20200326T181133958Z-RS01SBPS-SF01A-2A-CTDPFA102-streamed-ctdpf_sbe43_sample) is still compiling... Please wait.\n"
     ]
    },
    {
     "name": "stdout",
     "output_type": "stream",
     "text": [
      "Your data (https://opendap.oceanobservatories.org/async_results/deryag@uw.edu/20200326T181133958Z-RS01SBPS-SF01A-2A-CTDPFA102-streamed-ctdpf_sbe43_sample) is still compiling... Please wait.\n"
     ]
    },
    {
     "name": "stderr",
     "output_type": "stream",
     "text": [
      "(MainThread) Data request time elapsed: 92s\n"
     ]
    },
    {
     "name": "stdout",
     "output_type": "stream",
     "text": [
      "Data request time elapsed: 92s\n"
     ]
    },
    {
     "name": "stderr",
     "output_type": "stream",
     "text": [
      "(MainThread) Request (https://opendap.oceanobservatories.org/async_results/deryag@uw.edu/20200326T181133958Z-RS01SBPS-SF01A-2A-CTDPFA102-streamed-ctdpf_sbe43_sample) completed.\n"
     ]
    },
    {
     "name": "stdout",
     "output_type": "stream",
     "text": [
      "Request (https://opendap.oceanobservatories.org/async_results/deryag@uw.edu/20200326T181133958Z-RS01SBPS-SF01A-2A-CTDPFA102-streamed-ctdpf_sbe43_sample) completed.\n"
     ]
    },
    {
     "name": "stderr",
     "output_type": "stream",
     "text": [
      "(MainThread) Acquiring data from opendap urls ...\n",
      "/srv/conda/envs/notebook/lib/python3.7/site-packages/xarray/backends/api.py:783: FutureWarning: In xarray version 0.13 `auto_combine` will be deprecated.\n",
      "  coords=coords)\n",
      "/srv/conda/envs/notebook/lib/python3.7/site-packages/xarray/backends/api.py:783: FutureWarning: The datasets supplied have global dimension coordinates. You may want\n",
      "to use the new `combine_by_coords` function (or the\n",
      "`combine='by_coords'` option to `open_mfdataset` to order the datasets\n",
      "before concatenation. Alternatively, to continue concatenating based\n",
      "on the order the datasets are supplied in in future, please use the\n",
      "new `combine_nested` function (or the `combine='nested'` option to\n",
      "open_mfdataset).\n",
      "  coords=coords)\n"
     ]
    }
   ],
   "source": [
    "'''Running .request_data() generates a data request\n",
    "while running .to_xarray() polls the OOI system until the order completes; \n",
    " this will take a couple of minutes'''\n",
    "\n",
    "\n",
    "# Enter desired start and end dates and generate data request\n",
    "#begin_date = '2019-08-01'\n",
    "#end_date = '2019-08-08'    # the data file will include measurements close as possible to midnight on the morning of 2019-08-08 \n",
    "#ooi.request_data(begin_date=begin_date, end_date=end_date)\n",
    "#ds = ooi.to_xarray()\n",
    "\n",
    "\n",
    "# Check length of new dataset list to ensure the correct number of files was requested\n",
    "# len(ds)"
   ]
  },
  {
   "cell_type": "code",
   "execution_count": 13,
   "metadata": {},
   "outputs": [
    {
     "name": "stderr",
     "output_type": "stream",
     "text": [
      "(MainThread) Downloading netcdfs ...\n",
      "(MainThread) Downloading deployment0007_RS01SBPS-SF01A-2A-CTDPFA102-streamed-ctdpf_sbe43_sample_20190801T000000.066057-20190807T235959.230015.nc...\n",
      "(MainThread) Writing deployment0007_RS01SBPS-SF01A-2A-CTDPFA102-streamed-ctdpf_sbe43_sample_20190801T000000.066057-20190807T235959.230015.nc...\n",
      "(MainThread) deployment0007_RS01SBPS-SF01A-2A-CTDPFA102-streamed-ctdpf_sbe43_sample_20190801T000000.066057-20190807T235959.230015.nc successfully downloaded ---\n",
      "(MainThread) --- Checking deployment0007_RS01SBPS-SF01A-2A-CTDPFA102-streamed-ctdpf_sbe43_sample_20190801T000000.066057-20190807T235959.230015.nc ---\n",
      "(MainThread) --- Checks passed for deployment0007_RS01SBPS-SF01A-2A-CTDPFA102-streamed-ctdpf_sbe43_sample_20190801T000000.066057-20190807T235959.230015.nc ---\n"
     ]
    },
    {
     "data": {
      "text/plain": [
       "1"
      ]
     },
     "execution_count": 13,
     "metadata": {},
     "output_type": "execute_result"
    }
   ],
   "source": [
    "# Run this to download the data (possibly multiple files) from a completed data request from above\n",
    "# \n",
    "#filenamelist = ooi.download_netcdfs()\n",
    "#len(filenamelist)"
   ]
  },
  {
   "cell_type": "markdown",
   "metadata": {},
   "source": [
    "### Preparing the data for analysis\n",
    "\n",
    "Open the downloaded dataset(s) and look at the contents. Remember that we are focusing on one dataset (Oregon Slope Base shallow profiler CTD, first week of August 2019) and one parameter (salinity) to start with. Looking through all the variables, you can find multiple entries for salinity, including: 'conductivity', 'seawater_conductivity', 'practical_salinity', 'seawater_conductivity_qc_executed', 'seawater_conductivity_qc_results' 'practical_salinity_qc_executed', and 'practical_salinity_qc_results'. \n",
    "\n",
    "Documentation for the netCDF4 functions used can be found [here.](https://unidata.github.io/netcdf4-python/netCDF4/index.html#netCDF4.Dataset)\n",
    "\n",
    "By opening the dataset as an xarray dataset and not the netCDF object it exists as, we can far more easily manipulate the data and explore data across different sets. Utilizing the \"swap_dims\" function in xarray, we can ensure that all variables are associated with the 'time' coordinate.  That is to say, when we call the 'pressure' variable, it will automatically be associated with the 'time' coordinate and can be easily plotted along that axis."
   ]
  },
  {
   "cell_type": "code",
   "execution_count": 3,
   "metadata": {},
   "outputs": [],
   "source": [
    "home_dir = os.getenv(\"HOME\")\n",
    "this_dir = home_dir + '/eScience-Work/'\n",
    "data_dir = home_dir + '/data/canon/'"
   ]
  },
  {
   "cell_type": "code",
   "execution_count": 38,
   "metadata": {},
   "outputs": [],
   "source": [
    "# Open dataset in read mode\n",
    "\n",
    "ds = xr.open_dataset(data_dir + 'OreSlope_ShallProf_CTD_2019-08-01_08-08.nc')     #Open file as xarray dataset\n",
    "ds_2019 = ds.swap_dims({'obs':'time'})                          #Swap default 'obs' dimension for 'time'\n",
    "depth = 'seawater_pressure'"
   ]
  },
  {
   "cell_type": "markdown",
   "metadata": {},
   "source": [
    "The CTD lists 3 variable for conductivity/salinity.  By printing the listing for these variables, we can see that the \"practical_salinity\" variable most closely matches what we want to explore."
   ]
  },
  {
   "cell_type": "code",
   "execution_count": 39,
   "metadata": {},
   "outputs": [
    {
     "name": "stdout",
     "output_type": "stream",
     "text": [
      "<xarray.Variable (time: 598189)>\n",
      "[598189 values with dtype=float64]\n",
      "Attributes:\n",
      "    comment:                  Salinity is generally defined as the concentrat...\n",
      "    long_name:                Practical Salinity\n",
      "    precision:                4\n",
      "    data_product_identifier:  PRACSAL_L2\n",
      "    standard_name:            sea_water_practical_salinity\n",
      "    units:                    1\n",
      "    ancillary_variables:      pressure,conductivity,temperature\n",
      "\n",
      "\n",
      "<class 'xarray.core.dataset.Dataset'>\n"
     ]
    }
   ],
   "source": [
    "# print(ds.variables['conductivity'])\n",
    "# print('\\n')\n",
    "\n",
    "# print(ds.variables['seawater_conductivity'])\n",
    "# print('\\n')\n",
    "\n",
    "print(ds_2019.variables['practical_salinity'])\n",
    "print('\\n')\n",
    "print(type(ds_2019))"
   ]
  },
  {
   "cell_type": "markdown",
   "metadata": {},
   "source": [
    "Now we can take a look at the raw data by plotting the practical salininty vs. seawater pressure. Below that, we can also create a time series plot of this data. The time series plot shows the 9 daily trips up and down the water column that the shallow profiler makes, reflected in changes in the salinity. \n",
    "* make this a scatter plot instead of line plot"
   ]
  },
  {
   "cell_type": "code",
   "execution_count": 40,
   "metadata": {},
   "outputs": [
    {
     "data": {
      "text/plain": [
       "[<matplotlib.lines.Line2D at 0x7fdbf514ef70>]"
      ]
     },
     "execution_count": 40,
     "metadata": {},
     "output_type": "execute_result"
    },
    {
     "data": {
      "image/png": "[encoded data removed]",
      "text/plain": [
       "<Figure size 432x288 with 1 Axes>"
      ]
     },
     "metadata": {
      "needs_background": "light"
     },
     "output_type": "display_data"
    }
   ],
   "source": [
    "ds_2019.practical_salinity.plot(y = depth) "
   ]
  },
  {
   "cell_type": "code",
   "execution_count": 41,
   "metadata": {},
   "outputs": [
    {
     "data": {
      "text/plain": [
       "[<matplotlib.lines.Line2D at 0x7fdbf51d66a0>]"
      ]
     },
     "execution_count": 41,
     "metadata": {},
     "output_type": "execute_result"
    },
    {
     "data": {
      "image/png": "[encoded data removed]",
      "text/plain": [
       "<Figure size 432x288 with 1 Axes>"
      ]
     },
     "metadata": {
      "needs_background": "light"
     },
     "output_type": "display_data"
    }
   ],
   "source": [
    "ds_2019.practical_salinity.plot()"
   ]
  },
  {
   "cell_type": "markdown",
   "metadata": {},
   "source": [
    "We can already begin thinking about interpretting data, even just based off this singular week from the CTD. That look salinity spike could indicate rainy weather or an increase in river runoff. How interesting! "
   ]
  },
  {
   "cell_type": "markdown",
   "metadata": {},
   "source": [
    "The last steps in preparing our data for analysis is to bin it according to our desired depth intervals and then select data for the parameter we are interested in (practical salinity). At this point, running `ds_bin.mean()` takes a long time because it finds the mean of every variable in the dataset. Separating the practical salinity from the rest of the data speeds up our mean calculation considerably. \n",
    "* need to change this from 20 bins of equal size to bins by specified 10m depth intervals"
   ]
  },
  {
   "cell_type": "code",
   "execution_count": 42,
   "metadata": {},
   "outputs": [
    {
     "data": {
      "text/html": [
       "<div><svg style=\"position: absolute; width: 0; height: 0; overflow: hidden\">\n",
       "<defs>\n",
       "<symbol id=\"icon-database\" viewBox=\"0 0 32 32\">\n",
       "<title>Show/Hide data repr</title>\n",
       "<path d=\"M16 0c-8.837 0-16 2.239-16 5v4c0 2.761 7.163 5 16 5s16-2.239 16-5v-4c0-2.761-7.163-5-16-5z\"></path>\n",
       "<path d=\"M16 17c-8.837 0-16-2.239-16-5v6c0 2.761 7.163 5 16 5s16-2.239 16-5v-6c0 2.761-7.163 5-16 5z\"></path>\n",
       "<path d=\"M16 26c-8.837 0-16-2.239-16-5v6c0 2.761 7.163 5 16 5s16-2.239 16-5v-6c0 2.761-7.163 5-16 5z\"></path>\n",
       "</symbol>\n",
       "<symbol id=\"icon-file-text2\" viewBox=\"0 0 32 32\">\n",
       "<title>Show/Hide attributes</title>\n",
       "<path d=\"M28.681 7.159c-0.694-0.947-1.662-2.053-2.724-3.116s-2.169-2.030-3.116-2.724c-1.612-1.182-2.393-1.319-2.841-1.319h-15.5c-1.378 0-2.5 1.121-2.5 2.5v27c0 1.378 1.122 2.5 2.5 2.5h23c1.378 0 2.5-1.122 2.5-2.5v-19.5c0-0.448-0.137-1.23-1.319-2.841zM24.543 5.457c0.959 0.959 1.712 1.825 2.268 2.543h-4.811v-4.811c0.718 0.556 1.584 1.309 2.543 2.268zM28 29.5c0 0.271-0.229 0.5-0.5 0.5h-23c-0.271 0-0.5-0.229-0.5-0.5v-27c0-0.271 0.229-0.5 0.5-0.5 0 0 15.499-0 15.5 0v7c0 0.552 0.448 1 1 1h7v19.5z\"></path>\n",
       "<path d=\"M23 26h-14c-0.552 0-1-0.448-1-1s0.448-1 1-1h14c0.552 0 1 0.448 1 1s-0.448 1-1 1z\"></path>\n",
       "<path d=\"M23 22h-14c-0.552 0-1-0.448-1-1s0.448-1 1-1h14c0.552 0 1 0.448 1 1s-0.448 1-1 1z\"></path>\n",
       "<path d=\"M23 18h-14c-0.552 0-1-0.448-1-1s0.448-1 1-1h14c0.552 0 1 0.448 1 1s-0.448 1-1 1z\"></path>\n",
       "</symbol>\n",
       "</defs>\n",
       "</svg>\n",
       "<style>/* CSS stylesheet for displaying xarray objects in jupyterlab.\n",
       " *\n",
       " */\n",
       "\n",
       ":root {\n",
       "  --xr-font-color0: var(--jp-content-font-color0, rgba(0, 0, 0, 1));\n",
       "  --xr-font-color2: var(--jp-content-font-color2, rgba(0, 0, 0, 0.54));\n",
       "  --xr-font-color3: var(--jp-content-font-color3, rgba(0, 0, 0, 0.38));\n",
       "  --xr-border-color: var(--jp-border-color2, #e0e0e0);\n",
       "  --xr-disabled-color: var(--jp-layout-color3, #bdbdbd);\n",
       "  --xr-background-color: var(--jp-layout-color0, white);\n",
       "  --xr-background-color-row-even: var(--jp-layout-color1, white);\n",
       "  --xr-background-color-row-odd: var(--jp-layout-color2, #eeeeee);\n",
       "}\n",
       "\n",
       ".xr-wrap {\n",
       "  min-width: 300px;\n",
       "  max-width: 700px;\n",
       "}\n",
       "\n",
       ".xr-header {\n",
       "  padding-top: 6px;\n",
       "  padding-bottom: 6px;\n",
       "  margin-bottom: 4px;\n",
       "  border-bottom: solid 1px var(--xr-border-color);\n",
       "}\n",
       "\n",
       ".xr-header > div,\n",
       ".xr-header > ul {\n",
       "  display: inline;\n",
       "  margin-top: 0;\n",
       "  margin-bottom: 0;\n",
       "}\n",
       "\n",
       ".xr-obj-type,\n",
       ".xr-array-name {\n",
       "  margin-left: 2px;\n",
       "  margin-right: 10px;\n",
       "}\n",
       "\n",
       ".xr-obj-type {\n",
       "  color: var(--xr-font-color2);\n",
       "}\n",
       "\n",
       ".xr-sections {\n",
       "  padding-left: 0 !important;\n",
       "  display: grid;\n",
       "  grid-template-columns: 150px auto auto 1fr 20px 20px;\n",
       "}\n",
       "\n",
       ".xr-section-item {\n",
       "  display: contents;\n",
       "}\n",
       "\n",
       ".xr-section-item input {\n",
       "  display: none;\n",
       "}\n",
       "\n",
       ".xr-section-item input + label {\n",
       "  color: var(--xr-disabled-color);\n",
       "}\n",
       "\n",
       ".xr-section-item input:enabled + label {\n",
       "  cursor: pointer;\n",
       "  color: var(--xr-font-color2);\n",
       "}\n",
       "\n",
       ".xr-section-item input:enabled + label:hover {\n",
       "  color: var(--xr-font-color0);\n",
       "}\n",
       "\n",
       ".xr-section-summary {\n",
       "  grid-column: 1;\n",
       "  color: var(--xr-font-color2);\n",
       "  font-weight: 500;\n",
       "}\n",
       "\n",
       ".xr-section-summary > span {\n",
       "  display: inline-block;\n",
       "  padding-left: 0.5em;\n",
       "}\n",
       "\n",
       ".xr-section-summary-in:disabled + label {\n",
       "  color: var(--xr-font-color2);\n",
       "}\n",
       "\n",
       ".xr-section-summary-in + label:before {\n",
       "  display: inline-block;\n",
       "  content: '►';\n",
       "  font-size: 11px;\n",
       "  width: 15px;\n",
       "  text-align: center;\n",
       "}\n",
       "\n",
       ".xr-section-summary-in:disabled + label:before {\n",
       "  color: var(--xr-disabled-color);\n",
       "}\n",
       "\n",
       ".xr-section-summary-in:checked + label:before {\n",
       "  content: '▼';\n",
       "}\n",
       "\n",
       ".xr-section-summary-in:checked + label > span {\n",
       "  display: none;\n",
       "}\n",
       "\n",
       ".xr-section-summary,\n",
       ".xr-section-inline-details {\n",
       "  padding-top: 4px;\n",
       "  padding-bottom: 4px;\n",
       "}\n",
       "\n",
       ".xr-section-inline-details {\n",
       "  grid-column: 2 / -1;\n",
       "}\n",
       "\n",
       ".xr-section-details {\n",
       "  display: none;\n",
       "  grid-column: 1 / -1;\n",
       "  margin-bottom: 5px;\n",
       "}\n",
       "\n",
       ".xr-section-summary-in:checked ~ .xr-section-details {\n",
       "  display: contents;\n",
       "}\n",
       "\n",
       ".xr-array-wrap {\n",
       "  grid-column: 1 / -1;\n",
       "  display: grid;\n",
       "  grid-template-columns: 20px auto;\n",
       "}\n",
       "\n",
       ".xr-array-wrap > label {\n",
       "  grid-column: 1;\n",
       "  vertical-align: top;\n",
       "}\n",
       "\n",
       ".xr-preview {\n",
       "  color: var(--xr-font-color3);\n",
       "}\n",
       "\n",
       ".xr-array-preview,\n",
       ".xr-array-data {\n",
       "  padding: 0 5px !important;\n",
       "  grid-column: 2;\n",
       "}\n",
       "\n",
       ".xr-array-data,\n",
       ".xr-array-in:checked ~ .xr-array-preview {\n",
       "  display: none;\n",
       "}\n",
       "\n",
       ".xr-array-in:checked ~ .xr-array-data,\n",
       ".xr-array-preview {\n",
       "  display: inline-block;\n",
       "}\n",
       "\n",
       ".xr-dim-list {\n",
       "  display: inline-block !important;\n",
       "  list-style: none;\n",
       "  padding: 0 !important;\n",
       "  margin: 0;\n",
       "}\n",
       "\n",
       ".xr-dim-list li {\n",
       "  display: inline-block;\n",
       "  padding: 0;\n",
       "  margin: 0;\n",
       "}\n",
       "\n",
       ".xr-dim-list:before {\n",
       "  content: '(';\n",
       "}\n",
       "\n",
       ".xr-dim-list:after {\n",
       "  content: ')';\n",
       "}\n",
       "\n",
       ".xr-dim-list li:not(:last-child):after {\n",
       "  content: ',';\n",
       "  padding-right: 5px;\n",
       "}\n",
       "\n",
       ".xr-has-index {\n",
       "  font-weight: bold;\n",
       "}\n",
       "\n",
       ".xr-var-list,\n",
       ".xr-var-item {\n",
       "  display: contents;\n",
       "}\n",
       "\n",
       ".xr-var-item > div,\n",
       ".xr-var-item label,\n",
       ".xr-var-item > .xr-var-name span {\n",
       "  background-color: var(--xr-background-color-row-even);\n",
       "  margin-bottom: 0;\n",
       "}\n",
       "\n",
       ".xr-var-item > .xr-var-name:hover span {\n",
       "  padding-right: 5px;\n",
       "}\n",
       "\n",
       ".xr-var-list > li:nth-child(odd) > div,\n",
       ".xr-var-list > li:nth-child(odd) > label,\n",
       ".xr-var-list > li:nth-child(odd) > .xr-var-name span {\n",
       "  background-color: var(--xr-background-color-row-odd);\n",
       "}\n",
       "\n",
       ".xr-var-name {\n",
       "  grid-column: 1;\n",
       "}\n",
       "\n",
       ".xr-var-dims {\n",
       "  grid-column: 2;\n",
       "}\n",
       "\n",
       ".xr-var-dtype {\n",
       "  grid-column: 3;\n",
       "  text-align: right;\n",
       "  color: var(--xr-font-color2);\n",
       "}\n",
       "\n",
       ".xr-var-preview {\n",
       "  grid-column: 4;\n",
       "}\n",
       "\n",
       ".xr-var-name,\n",
       ".xr-var-dims,\n",
       ".xr-var-dtype,\n",
       ".xr-preview,\n",
       ".xr-attrs dt {\n",
       "  white-space: nowrap;\n",
       "  overflow: hidden;\n",
       "  text-overflow: ellipsis;\n",
       "  padding-right: 10px;\n",
       "}\n",
       "\n",
       ".xr-var-name:hover,\n",
       ".xr-var-dims:hover,\n",
       ".xr-var-dtype:hover,\n",
       ".xr-attrs dt:hover {\n",
       "  overflow: visible;\n",
       "  width: auto;\n",
       "  z-index: 1;\n",
       "}\n",
       "\n",
       ".xr-var-attrs,\n",
       ".xr-var-data {\n",
       "  display: none;\n",
       "  background-color: var(--xr-background-color) !important;\n",
       "  padding-bottom: 5px !important;\n",
       "}\n",
       "\n",
       ".xr-var-attrs-in:checked ~ .xr-var-attrs,\n",
       ".xr-var-data-in:checked ~ .xr-var-data {\n",
       "  display: block;\n",
       "}\n",
       "\n",
       ".xr-var-data > table {\n",
       "  float: right;\n",
       "}\n",
       "\n",
       ".xr-var-name span,\n",
       ".xr-var-data,\n",
       ".xr-attrs {\n",
       "  padding-left: 25px !important;\n",
       "}\n",
       "\n",
       ".xr-attrs,\n",
       ".xr-var-attrs,\n",
       ".xr-var-data {\n",
       "  grid-column: 1 / -1;\n",
       "}\n",
       "\n",
       "dl.xr-attrs {\n",
       "  padding: 0;\n",
       "  margin: 0;\n",
       "  display: grid;\n",
       "  grid-template-columns: 125px auto;\n",
       "}\n",
       "\n",
       ".xr-attrs dt, dd {\n",
       "  padding: 0;\n",
       "  margin: 0;\n",
       "  float: left;\n",
       "  padding-right: 10px;\n",
       "  width: auto;\n",
       "}\n",
       "\n",
       ".xr-attrs dt {\n",
       "  font-weight: normal;\n",
       "  grid-column: 1;\n",
       "}\n",
       "\n",
       ".xr-attrs dt:hover span {\n",
       "  display: inline-block;\n",
       "  background: var(--xr-background-color);\n",
       "  padding-right: 10px;\n",
       "}\n",
       "\n",
       ".xr-attrs dd {\n",
       "  grid-column: 2;\n",
       "  white-space: pre-wrap;\n",
       "  word-break: break-all;\n",
       "}\n",
       "\n",
       ".xr-icon-database,\n",
       ".xr-icon-file-text2 {\n",
       "  display: inline-block;\n",
       "  vertical-align: middle;\n",
       "  width: 1em;\n",
       "  height: 1.5em !important;\n",
       "  stroke-width: 0;\n",
       "  stroke: currentColor;\n",
       "  fill: currentColor;\n",
       "}\n",
       "</style><div class='xr-wrap'><div class='xr-header'><div class='xr-obj-type'>xarray.DataArray</div><div class='xr-array-name'>'practical_salinity'</div><ul class='xr-dim-list'><li><span class='xr-has-index'>time</span>: 598189</li></ul></div><ul class='xr-sections'><li class='xr-section-item'><div class='xr-array-wrap'><input id='section-6c20f6b9-eadf-436b-a054-5996cd3165d9' class='xr-array-in' type='checkbox' ><label for='section-6c20f6b9-eadf-436b-a054-5996cd3165d9' title='Show/hide data repr'><svg class='icon xr-icon-database'><use xlink:href='#icon-database'></use></svg></label><div class='xr-array-preview xr-preview'><span>...</span></div><pre class='xr-array-data'>[598189 values with dtype=float64]</pre></div></li><li class='xr-section-item'><input id='section-8aaedcee-b46f-4e00-a66a-9f631b9c5741' class='xr-section-summary-in' type='checkbox'  checked><label for='section-8aaedcee-b46f-4e00-a66a-9f631b9c5741' class='xr-section-summary' >Coordinates: <span>(5)</span></label><div class='xr-section-inline-details'></div><div class='xr-section-details'><ul class='xr-var-list'><li class='xr-var-item'><div class='xr-var-name'><span>obs</span></div><div class='xr-var-dims'>(time)</div><div class='xr-var-dtype'>int32</div><div class='xr-var-preview xr-preview'>0 1 2 3 ... 598186 598187 598188</div><input id='attrs-9693a5ee-5a8a-4f28-bf19-bf6550d77562' class='xr-var-attrs-in' type='checkbox' disabled><label for='attrs-9693a5ee-5a8a-4f28-bf19-bf6550d77562' title='Show/Hide attributes'><svg class='icon xr-icon-file-text2'><use xlink:href='#icon-file-text2'></use></svg></label><input id='data-a6a5062f-6f71-4871-8f91-755ac334418a' class='xr-var-data-in' type='checkbox'><label for='data-a6a5062f-6f71-4871-8f91-755ac334418a' title='Show/Hide data repr'><svg class='icon xr-icon-database'><use xlink:href='#icon-database'></use></svg></label><div class='xr-var-attrs'><dl class='xr-attrs'></dl></div><pre class='xr-var-data'>array([     0,      1,      2, ..., 598186, 598187, 598188], dtype=int32)</pre></li><li class='xr-var-item'><div class='xr-var-name'><span class='xr-has-index'>time</span></div><div class='xr-var-dims'>(time)</div><div class='xr-var-dtype'>datetime64[ns]</div><div class='xr-var-preview xr-preview'>2019-08-01T00:00:00.066056704 ... 2019-08-07T23:59:59.230014976</div><input id='attrs-11f98d04-f8b5-4c49-9091-cd3dbe16d7d1' class='xr-var-attrs-in' type='checkbox' ><label for='attrs-11f98d04-f8b5-4c49-9091-cd3dbe16d7d1' title='Show/Hide attributes'><svg class='icon xr-icon-file-text2'><use xlink:href='#icon-file-text2'></use></svg></label><input id='data-1906dda1-cb45-4e21-8f31-6ec9d8784caa' class='xr-var-data-in' type='checkbox'><label for='data-1906dda1-cb45-4e21-8f31-6ec9d8784caa' title='Show/Hide data repr'><svg class='icon xr-icon-database'><use xlink:href='#icon-database'></use></svg></label><div class='xr-var-attrs'><dl class='xr-attrs'><dt><span>long_name :</span></dt><dd>time</dd><dt><span>standard_name :</span></dt><dd>time</dd><dt><span>axis :</span></dt><dd>T</dd></dl></div><pre class='xr-var-data'>array([&#x27;2019-08-01T00:00:00.066056704&#x27;, &#x27;2019-08-01T00:00:01.052313088&#x27;,\n",
       "       &#x27;2019-08-01T00:00:02.052215808&#x27;, ..., &#x27;2019-08-07T23:59:57.230727680&#x27;,\n",
       "       &#x27;2019-08-07T23:59:58.230424064&#x27;, &#x27;2019-08-07T23:59:59.230014976&#x27;],\n",
       "      dtype=&#x27;datetime64[ns]&#x27;)</pre></li><li class='xr-var-item'><div class='xr-var-name'><span>seawater_pressure</span></div><div class='xr-var-dims'>(time)</div><div class='xr-var-dtype'>float64</div><div class='xr-var-preview xr-preview'>...</div><input id='attrs-35a4844e-8037-4e7e-8967-e413a5e6af23' class='xr-var-attrs-in' type='checkbox' ><label for='attrs-35a4844e-8037-4e7e-8967-e413a5e6af23' title='Show/Hide attributes'><svg class='icon xr-icon-file-text2'><use xlink:href='#icon-file-text2'></use></svg></label><input id='data-0450f98a-18c4-4c9a-b6ce-4bd403fe5f86' class='xr-var-data-in' type='checkbox'><label for='data-0450f98a-18c4-4c9a-b6ce-4bd403fe5f86' title='Show/Hide data repr'><svg class='icon xr-icon-database'><use xlink:href='#icon-database'></use></svg></label><div class='xr-var-attrs'><dl class='xr-attrs'><dt><span>comment :</span></dt><dd>Seawater Pressure refers to the pressure exerted on a sensor in situ by the weight of the column of seawater above it. It is calculated by subtracting one standard atmosphere from the absolute pressure at the sensor to remove the weight of the atmosphere on top of the water column. The pressure at a sensor in situ provides a metric of the depth of that sensor.</dd><dt><span>long_name :</span></dt><dd>Seawater Pressure</dd><dt><span>precision :</span></dt><dd>3</dd><dt><span>data_product_identifier :</span></dt><dd>PRESWAT_L1</dd><dt><span>standard_name :</span></dt><dd>sea_water_pressure</dd><dt><span>units :</span></dt><dd>dbar</dd><dt><span>ancillary_variables :</span></dt><dd>pressure,pressure_temp</dd><dt><span>axis :</span></dt><dd>Z</dd></dl></div><pre class='xr-var-data'>[598189 values with dtype=float64]</pre></li><li class='xr-var-item'><div class='xr-var-name'><span>lat</span></div><div class='xr-var-dims'>(time)</div><div class='xr-var-dtype'>float64</div><div class='xr-var-preview xr-preview'>...</div><input id='attrs-f6bc0eb9-c044-4cb0-b65d-5fc37887abd1' class='xr-var-attrs-in' type='checkbox' ><label for='attrs-f6bc0eb9-c044-4cb0-b65d-5fc37887abd1' title='Show/Hide attributes'><svg class='icon xr-icon-file-text2'><use xlink:href='#icon-file-text2'></use></svg></label><input id='data-2b46886d-0107-425b-b328-a53ee1d5c381' class='xr-var-data-in' type='checkbox'><label for='data-2b46886d-0107-425b-b328-a53ee1d5c381' title='Show/Hide data repr'><svg class='icon xr-icon-database'><use xlink:href='#icon-database'></use></svg></label><div class='xr-var-attrs'><dl class='xr-attrs'><dt><span>units :</span></dt><dd>degrees_north</dd><dt><span>standard_name :</span></dt><dd>latitude</dd><dt><span>axis :</span></dt><dd>Y</dd></dl></div><pre class='xr-var-data'>[598189 values with dtype=float64]</pre></li><li class='xr-var-item'><div class='xr-var-name'><span>lon</span></div><div class='xr-var-dims'>(time)</div><div class='xr-var-dtype'>float64</div><div class='xr-var-preview xr-preview'>...</div><input id='attrs-f2cb9eb4-9297-4ff0-ba24-9db26b1c067d' class='xr-var-attrs-in' type='checkbox' ><label for='attrs-f2cb9eb4-9297-4ff0-ba24-9db26b1c067d' title='Show/Hide attributes'><svg class='icon xr-icon-file-text2'><use xlink:href='#icon-file-text2'></use></svg></label><input id='data-ce3dfd22-3825-4ee0-ad08-481c467b2d6e' class='xr-var-data-in' type='checkbox'><label for='data-ce3dfd22-3825-4ee0-ad08-481c467b2d6e' title='Show/Hide data repr'><svg class='icon xr-icon-database'><use xlink:href='#icon-database'></use></svg></label><div class='xr-var-attrs'><dl class='xr-attrs'><dt><span>units :</span></dt><dd>degrees_east</dd><dt><span>standard_name :</span></dt><dd>longitude</dd><dt><span>axis :</span></dt><dd>X</dd></dl></div><pre class='xr-var-data'>[598189 values with dtype=float64]</pre></li></ul></div></li><li class='xr-section-item'><input id='section-e724de6b-7b0b-495f-b775-ecfbab4d9eac' class='xr-section-summary-in' type='checkbox'  checked><label for='section-e724de6b-7b0b-495f-b775-ecfbab4d9eac' class='xr-section-summary' >Attributes: <span>(7)</span></label><div class='xr-section-inline-details'></div><div class='xr-section-details'><dl class='xr-attrs'><dt><span>comment :</span></dt><dd>Salinity is generally defined as the concentration of dissolved salt in a parcel of seawater. Practical Salinity is a more specific unitless quantity calculated from the conductivity of seawater and adjusted for temperature and pressure. It is approximately equivalent to Absolute Salinity (the mass fraction of dissolved salt in seawater) but they are not interchangeable.</dd><dt><span>long_name :</span></dt><dd>Practical Salinity</dd><dt><span>precision :</span></dt><dd>4</dd><dt><span>data_product_identifier :</span></dt><dd>PRACSAL_L2</dd><dt><span>standard_name :</span></dt><dd>sea_water_practical_salinity</dd><dt><span>units :</span></dt><dd>1</dd><dt><span>ancillary_variables :</span></dt><dd>pressure,conductivity,temperature</dd></dl></div></li></ul></div></div>"
      ],
      "text/plain": [
       "<xarray.DataArray 'practical_salinity' (time: 598189)>\n",
       "[598189 values with dtype=float64]\n",
       "Coordinates:\n",
       "    obs                (time) int32 0 1 2 3 4 ... 598185 598186 598187 598188\n",
       "  * time               (time) datetime64[ns] 2019-08-01T00:00:00.066056704 ... 2019-08-07T23:59:59.230014976\n",
       "    seawater_pressure  (time) float64 ...\n",
       "    lat                (time) float64 ...\n",
       "    lon                (time) float64 ...\n",
       "Attributes:\n",
       "    comment:                  Salinity is generally defined as the concentrat...\n",
       "    long_name:                Practical Salinity\n",
       "    precision:                4\n",
       "    data_product_identifier:  PRACSAL_L2\n",
       "    standard_name:            sea_water_practical_salinity\n",
       "    units:                    1\n",
       "    ancillary_variables:      pressure,conductivity,temperature"
      ]
     },
     "execution_count": 42,
     "metadata": {},
     "output_type": "execute_result"
    }
   ],
   "source": [
    "# Separate the practical salinity from the rest of the data\n",
    "dsps = ds_2019.practical_salinity\n",
    "\n",
    "# Now confirm that this dataarray has what we want\n",
    "dsps"
   ]
  },
  {
   "cell_type": "code",
   "execution_count": 10,
   "metadata": {},
   "outputs": [
    {
     "data": {
      "text/plain": [
       "DataArrayGroupBy, grouped over 'seawater_pressure_bins' \n",
       "20 groups with labels (184.792,, 194.236], ..., (5.175,, 14.807]."
      ]
     },
     "execution_count": 10,
     "metadata": {},
     "output_type": "execute_result"
    }
   ],
   "source": [
    "# Group the practical salinity data by depth bins\n",
    "# bins = 20 means we're breaking our data up into 20 bins of equal size\n",
    "# as in each group will cover an equal range of depths\n",
    "\n",
    "dsps_bin = dsps.groupby_bins(group = depth, bins = 20)\n",
    "\n",
    "dsps_bin"
   ]
  },
  {
   "cell_type": "markdown",
   "metadata": {},
   "source": [
    "### Analysing the data\n",
    "\n",
    "Now that we've got the data for our parameter isolated and split into bins of about 10m depth intervals, we can use built-in functions to calculate the mean and standard deviation for practical salinity. The `.mean()` and `.std()` functions may take a minute to run. \n",
    "\n",
    "* cannot seem to get the seawater pressure to be on the y axis, I get an error every time I set y='seawater_pressure_bins'\n",
    "* change 'practical_salinity' axes to 'mean' and 'standard deviation'"
   ]
  },
  {
   "cell_type": "code",
   "execution_count": 11,
   "metadata": {},
   "outputs": [
    {
     "data": {
      "text/plain": [
       "xarray.core.dataarray.DataArray"
      ]
     },
     "execution_count": 11,
     "metadata": {},
     "output_type": "execute_result"
    }
   ],
   "source": [
    "# Let's get a variable that has the means of practical salinity for each depth bin\n",
    "dsps_mean = dsps_bin.mean()\n",
    "type(dsps_mean)\n",
    "\n",
    "# We also want the standard deviation\n",
    "dsps_stdev = dsps_bin.std()\n",
    "type(dsps_stdev)"
   ]
  },
  {
   "cell_type": "code",
   "execution_count": 12,
   "metadata": {},
   "outputs": [
    {
     "data": {
      "text/plain": [
       "[<matplotlib.lines.Line2D at 0x7fdbff4e40d0>]"
      ]
     },
     "execution_count": 12,
     "metadata": {},
     "output_type": "execute_result"
    },
    {
     "data": {
      "image/png": "[encoded data removed]",
      "text/plain": [
       "<Figure size 432x288 with 1 Axes>"
      ]
     },
     "metadata": {
      "needs_background": "light"
     },
     "output_type": "display_data"
    }
   ],
   "source": [
    "# Plot the mean to see how practical salinity changes with depth\n",
    "\n",
    "dsps_mean.plot(x='seawater_pressure_bins')"
   ]
  },
  {
   "cell_type": "code",
   "execution_count": 13,
   "metadata": {},
   "outputs": [
    {
     "data": {
      "text/plain": [
       "[<matplotlib.lines.Line2D at 0x7fdbff4f39a0>]"
      ]
     },
     "execution_count": 13,
     "metadata": {},
     "output_type": "execute_result"
    },
    {
     "data": {
      "image/png": "[encoded data removed]",
      "text/plain": [
       "<Figure size 432x288 with 1 Axes>"
      ]
     },
     "metadata": {
      "needs_background": "light"
     },
     "output_type": "display_data"
    }
   ],
   "source": [
    "# We can also plot standard deviation and see how it changes with depth\n",
    "\n",
    "dsps_stdev.plot()"
   ]
  },
  {
   "cell_type": "code",
   "execution_count": 14,
   "metadata": {},
   "outputs": [],
   "source": [
    "# View the DataArray holding our mean data\n",
    "\n",
    "dsps_mean_2019 = dsps_mean"
   ]
  },
  {
   "cell_type": "code",
   "execution_count": 15,
   "metadata": {},
   "outputs": [],
   "source": [
    "# View the DataArray holding our standard deviation data\n",
    "\n",
    "dsps_stdev_2019 = dsps_stdev"
   ]
  },
  {
   "cell_type": "markdown",
   "metadata": {},
   "source": [
    "## What we've done so far\n",
    "\n",
    "* pulled in salinity data from Oregon Slope shallow profiler for the first week of August 2019\n",
    "* turned data into an xarray dataarray along the 'time' dimension\n",
    "* identified 'practical_salinity' as our desired variable\n",
    "* plotted salinity measurements vs. depth ('seawater_pressure') (would be cool if this could be a scatter plot)\n",
    "* plotted salinity as a time series (can we combine with the depth profile to make a 2D color plot?)\n",
    "* grouped salinity measurements by depth bins (20 bins of equal size)\n",
    "* calculated and plotted mean and standard deviation of the binned salinity data\n",
    "\n",
    "## What to do next\n",
    "\n",
    "* combine the binning, stats, and plotting commands into one function that can be applied to any dataset \n",
    "* pull in data from the first week of August 2018 and compare this with the same dates in 2019\n",
    "* pull in data from other weeks of 2018 and 2019 and do the same comparison"
   ]
  },
  {
   "cell_type": "markdown",
   "metadata": {},
   "source": [
    "### Comparing August 2019 to August 2018, 2017, and so on\n",
    "\n",
    "Now that we have established a mean and standard deviation for the first week of August 2019, let's do the same thing for the first week of August of previous years. Then we can begin to see what canonical values of practical salinity are for this time of year at this location. The cells below are a streamlined version of the steps that we worked through one-by-one above. "
   ]
  },
  {
   "cell_type": "code",
   "execution_count": 29,
   "metadata": {
    "collapsed": true,
    "jupyter": {
     "outputs_hidden": true
    }
   },
   "outputs": [
    {
     "name": "stderr",
     "output_type": "stream",
     "text": [
      "(MainThread) Your data (https://opendap.oceanobservatories.org/async_results/deryag@uw.edu/20200326T183755328Z-RS01SBPS-SF01A-2A-CTDPFA102-streamed-ctdpf_sbe43_sample) is still compiling... Please wait.\n"
     ]
    },
    {
     "name": "stdout",
     "output_type": "stream",
     "text": [
      "Your data (https://opendap.oceanobservatories.org/async_results/deryag@uw.edu/20200326T183755328Z-RS01SBPS-SF01A-2A-CTDPFA102-streamed-ctdpf_sbe43_sample) is still compiling... Please wait.\n"
     ]
    },
    {
     "name": "stderr",
     "output_type": "stream",
     "text": [
      "(MainThread) Data request time elapsed: 10s\n"
     ]
    },
    {
     "name": "stdout",
     "output_type": "stream",
     "text": [
      "Data request time elapsed: 10s\n"
     ]
    },
    {
     "name": "stderr",
     "output_type": "stream",
     "text": [
      "(MainThread) Your data (https://opendap.oceanobservatories.org/async_results/deryag@uw.edu/20200326T183755328Z-RS01SBPS-SF01A-2A-CTDPFA102-streamed-ctdpf_sbe43_sample) is still compiling... Please wait.\n"
     ]
    },
    {
     "name": "stdout",
     "output_type": "stream",
     "text": [
      "Your data (https://opendap.oceanobservatories.org/async_results/deryag@uw.edu/20200326T183755328Z-RS01SBPS-SF01A-2A-CTDPFA102-streamed-ctdpf_sbe43_sample) is still compiling... Please wait.\n"
     ]
    },
    {
     "name": "stderr",
     "output_type": "stream",
     "text": [
      "(MainThread) Data request time elapsed: 20s\n"
     ]
    },
    {
     "name": "stdout",
     "output_type": "stream",
     "text": [
      "Data request time elapsed: 20s\n"
     ]
    },
    {
     "name": "stderr",
     "output_type": "stream",
     "text": [
      "(MainThread) Your data (https://opendap.oceanobservatories.org/async_results/deryag@uw.edu/20200326T183755328Z-RS01SBPS-SF01A-2A-CTDPFA102-streamed-ctdpf_sbe43_sample) is still compiling... Please wait.\n"
     ]
    },
    {
     "name": "stdout",
     "output_type": "stream",
     "text": [
      "Your data (https://opendap.oceanobservatories.org/async_results/deryag@uw.edu/20200326T183755328Z-RS01SBPS-SF01A-2A-CTDPFA102-streamed-ctdpf_sbe43_sample) is still compiling... Please wait.\n"
     ]
    },
    {
     "name": "stderr",
     "output_type": "stream",
     "text": [
      "(MainThread) Data request time elapsed: 30s\n"
     ]
    },
    {
     "name": "stdout",
     "output_type": "stream",
     "text": [
      "Data request time elapsed: 30s\n"
     ]
    },
    {
     "name": "stderr",
     "output_type": "stream",
     "text": [
      "(MainThread) Your data (https://opendap.oceanobservatories.org/async_results/deryag@uw.edu/20200326T183755328Z-RS01SBPS-SF01A-2A-CTDPFA102-streamed-ctdpf_sbe43_sample) is still compiling... Please wait.\n"
     ]
    },
    {
     "name": "stdout",
     "output_type": "stream",
     "text": [
      "Your data (https://opendap.oceanobservatories.org/async_results/deryag@uw.edu/20200326T183755328Z-RS01SBPS-SF01A-2A-CTDPFA102-streamed-ctdpf_sbe43_sample) is still compiling... Please wait.\n"
     ]
    },
    {
     "name": "stderr",
     "output_type": "stream",
     "text": [
      "(MainThread) Data request time elapsed: 41s\n"
     ]
    },
    {
     "name": "stdout",
     "output_type": "stream",
     "text": [
      "Data request time elapsed: 41s\n"
     ]
    },
    {
     "name": "stderr",
     "output_type": "stream",
     "text": [
      "(MainThread) Your data (https://opendap.oceanobservatories.org/async_results/deryag@uw.edu/20200326T183755328Z-RS01SBPS-SF01A-2A-CTDPFA102-streamed-ctdpf_sbe43_sample) is still compiling... Please wait.\n"
     ]
    },
    {
     "name": "stdout",
     "output_type": "stream",
     "text": [
      "Your data (https://opendap.oceanobservatories.org/async_results/deryag@uw.edu/20200326T183755328Z-RS01SBPS-SF01A-2A-CTDPFA102-streamed-ctdpf_sbe43_sample) is still compiling... Please wait.\n"
     ]
    },
    {
     "name": "stderr",
     "output_type": "stream",
     "text": [
      "(MainThread) Data request time elapsed: 51s\n"
     ]
    },
    {
     "name": "stdout",
     "output_type": "stream",
     "text": [
      "Data request time elapsed: 51s\n"
     ]
    },
    {
     "name": "stderr",
     "output_type": "stream",
     "text": [
      "(MainThread) Your data (https://opendap.oceanobservatories.org/async_results/deryag@uw.edu/20200326T183755328Z-RS01SBPS-SF01A-2A-CTDPFA102-streamed-ctdpf_sbe43_sample) is still compiling... Please wait.\n"
     ]
    },
    {
     "name": "stdout",
     "output_type": "stream",
     "text": [
      "Your data (https://opendap.oceanobservatories.org/async_results/deryag@uw.edu/20200326T183755328Z-RS01SBPS-SF01A-2A-CTDPFA102-streamed-ctdpf_sbe43_sample) is still compiling... Please wait.\n"
     ]
    },
    {
     "name": "stderr",
     "output_type": "stream",
     "text": [
      "(MainThread) Data request time elapsed: 61s\n"
     ]
    },
    {
     "name": "stdout",
     "output_type": "stream",
     "text": [
      "Data request time elapsed: 61s\n"
     ]
    },
    {
     "name": "stderr",
     "output_type": "stream",
     "text": [
      "(MainThread) Request (https://opendap.oceanobservatories.org/async_results/deryag@uw.edu/20200326T183755328Z-RS01SBPS-SF01A-2A-CTDPFA102-streamed-ctdpf_sbe43_sample) completed.\n"
     ]
    },
    {
     "name": "stdout",
     "output_type": "stream",
     "text": [
      "Request (https://opendap.oceanobservatories.org/async_results/deryag@uw.edu/20200326T183755328Z-RS01SBPS-SF01A-2A-CTDPFA102-streamed-ctdpf_sbe43_sample) completed.\n"
     ]
    },
    {
     "name": "stderr",
     "output_type": "stream",
     "text": [
      "(MainThread) Acquiring data from opendap urls ...\n"
     ]
    },
    {
     "name": "stdout",
     "output_type": "stream",
     "text": [
      "CPU times: user 363 ms, sys: 32.1 ms, total: 395 ms\n",
      "Wall time: 1min 8s\n"
     ]
    },
    {
     "name": "stderr",
     "output_type": "stream",
     "text": [
      "/srv/conda/envs/notebook/lib/python3.7/site-packages/xarray/backends/api.py:783: FutureWarning: In xarray version 0.13 `auto_combine` will be deprecated.\n",
      "  coords=coords)\n",
      "/srv/conda/envs/notebook/lib/python3.7/site-packages/xarray/backends/api.py:783: FutureWarning: The datasets supplied have global dimension coordinates. You may want\n",
      "to use the new `combine_by_coords` function (or the\n",
      "`combine='by_coords'` option to `open_mfdataset` to order the datasets\n",
      "before concatenation. Alternatively, to continue concatenating based\n",
      "on the order the datasets are supplied in in future, please use the\n",
      "new `combine_nested` function (or the `combine='nested'` option to\n",
      "open_mfdataset).\n",
      "  coords=coords)\n"
     ]
    }
   ],
   "source": [
    "%%time\n",
    "'''Running .request_data() generates a data request\n",
    "while running .to_xarray() polls the OOI system until the order completes; \n",
    " this will take a couple of minutes'''\n",
    "\n",
    "# Enter desired start and end dates and generate data request\n",
    "#begin_date = '2018-08-01'\n",
    "#end_date = '2018-08-08'\n",
    "#ooi.request_data(begin_date=begin_date, end_date=end_date)\n",
    "#ds = ooi.to_xarray()\n",
    "\n",
    "\n",
    "# Check length of new dataset list to ensure the correct number of files was requested\n",
    "# len(ds)"
   ]
  },
  {
   "cell_type": "code",
   "execution_count": 32,
   "metadata": {},
   "outputs": [
    {
     "name": "stderr",
     "output_type": "stream",
     "text": [
      "(MainThread) Downloading netcdfs ...\n",
      "(MainThread) Downloading deployment0006_RS01SBPS-SF01A-2A-CTDPFA102-streamed-ctdpf_sbe43_sample_20180801T000000.975670-20180807T235959.369798.nc...\n",
      "(MainThread) Writing deployment0006_RS01SBPS-SF01A-2A-CTDPFA102-streamed-ctdpf_sbe43_sample_20180801T000000.975670-20180807T235959.369798.nc...\n",
      "(MainThread) deployment0006_RS01SBPS-SF01A-2A-CTDPFA102-streamed-ctdpf_sbe43_sample_20180801T000000.975670-20180807T235959.369798.nc successfully downloaded ---\n",
      "(MainThread) --- Checking deployment0006_RS01SBPS-SF01A-2A-CTDPFA102-streamed-ctdpf_sbe43_sample_20180801T000000.975670-20180807T235959.369798.nc ---\n",
      "(MainThread) --- Checks passed for deployment0006_RS01SBPS-SF01A-2A-CTDPFA102-streamed-ctdpf_sbe43_sample_20180801T000000.975670-20180807T235959.369798.nc ---\n"
     ]
    },
    {
     "data": {
      "text/plain": [
       "1"
      ]
     },
     "execution_count": 32,
     "metadata": {},
     "output_type": "execute_result"
    }
   ],
   "source": [
    "# Run this to download the data (possibly multiple files) from a completed data request from above\n",
    "# \n",
    "#filenamelist = ooi.download_netcdfs()\n",
    "#len(filenamelist)"
   ]
  },
  {
   "cell_type": "code",
   "execution_count": 43,
   "metadata": {},
   "outputs": [],
   "source": [
    "# Open dataset in read mode\n",
    "\n",
    "ds = xr.open_dataset(data_dir + 'OreSlope_ShallProf_CTD_2018-08-01_08-08.nc')     #Open file as xarray dataset\n",
    "ds_2018 = ds.swap_dims({'obs':'time'})                          #Swap default 'obs' dimension for 'time'\n",
    "depth = 'seawater_pressure'"
   ]
  },
  {
   "cell_type": "code",
   "execution_count": 60,
   "metadata": {},
   "outputs": [],
   "source": [
    "x = ds_2018.seawater_pressure"
   ]
  },
  {
   "cell_type": "code",
   "execution_count": 79,
   "metadata": {},
   "outputs": [
    {
     "data": {
      "text/plain": [
       "Text(0.5, 1.0, 'Practical salinity vs pressure, first week of August')"
      ]
     },
     "execution_count": 79,
     "metadata": {},
     "output_type": "execute_result"
    },
    {
     "data": {
      "image/png": "[encoded data removed]",
      "text/plain": [
       "<Figure size 432x288 with 1 Axes>"
      ]
     },
     "metadata": {
      "needs_background": "light"
     },
     "output_type": "display_data"
    }
   ],
   "source": [
    "ds_2019.practical_salinity.plot(y = depth, label=2019)\n",
    "ds_2018.practical_salinity.plot(y = depth, label=2018) \n",
    "plt.legend()\n",
    "plt.title('Practical salinity vs pressure, first week of August')"
   ]
  },
  {
   "cell_type": "code",
   "execution_count": 81,
   "metadata": {},
   "outputs": [
    {
     "data": {
      "text/plain": [
       "Text(0.5, 1.0, 'Practical salinity over time, first week of August')"
      ]
     },
     "execution_count": 81,
     "metadata": {},
     "output_type": "execute_result"
    },
    {
     "data": {
      "image/png": "[encoded data removed]",
      "text/plain": [
       "<Figure size 432x288 with 1 Axes>"
      ]
     },
     "metadata": {
      "needs_background": "light"
     },
     "output_type": "display_data"
    }
   ],
   "source": [
    "# This plot needs the x-axis labels to be changed from seconds to dates 08-01 to 08-08\n",
    "\n",
    "plt.plot(ds_2019.practical_salinity, label=2019) \n",
    "plt.plot(ds_2018.practical_salinity, label=2018) \n",
    "plt.legend()\n",
    "plt.title('Practical salinity over time, first week of August')"
   ]
  },
  {
   "cell_type": "code",
   "execution_count": 19,
   "metadata": {},
   "outputs": [],
   "source": [
    "dsps = ds.practical_salinity\n",
    "dsps_bin = dsps.groupby_bins(group = depth, bins = 20)"
   ]
  },
  {
   "cell_type": "code",
   "execution_count": 20,
   "metadata": {},
   "outputs": [],
   "source": [
    "# Let's get a variable that has the means of practical salinity for each depth bin\n",
    "dsps_mean_2018 = dsps_bin.mean()\n",
    "\n",
    "# We also want the standard deviation\n",
    "dsps_stdev_2018 = dsps_bin.std()"
   ]
  },
  {
   "cell_type": "code",
   "execution_count": 75,
   "metadata": {},
   "outputs": [
    {
     "data": {
      "text/plain": [
       "Text(0.5, 1.0, 'Binned means of seawater salinity, first week of August')"
      ]
     },
     "execution_count": 75,
     "metadata": {},
     "output_type": "execute_result"
    },
    {
     "data": {
      "image/png": "[encoded data removed]",
      "text/plain": [
       "<Figure size 432x288 with 1 Axes>"
      ]
     },
     "metadata": {
      "needs_background": "light"
     },
     "output_type": "display_data"
    }
   ],
   "source": [
    "plt.plot(dsps_mean_2019, label=\"2019\")\n",
    "plt.plot(dsps_mean_2018, label=\"2018\")\n",
    "plt.legend()\n",
    "plt.title('Binned means of seawater salinity, first week of August')"
   ]
  },
  {
   "cell_type": "code",
   "execution_count": 76,
   "metadata": {},
   "outputs": [
    {
     "data": {
      "text/plain": [
       "Text(0.5, 1.0, 'Binned standard deviations of seawater salinity, first week of August')"
      ]
     },
     "execution_count": 76,
     "metadata": {},
     "output_type": "execute_result"
    },
    {
     "data": {
      "image/png": "[encoded data removed]",
      "text/plain": [
       "<Figure size 432x288 with 1 Axes>"
      ]
     },
     "metadata": {
      "needs_background": "light"
     },
     "output_type": "display_data"
    }
   ],
   "source": [
    "plt.plot(dsps_stdev_2019, label=\"2019\")\n",
    "plt.plot(dsps_stdev_2018, label=\"2018\")\n",
    "plt.legend()\n",
    "plt.title('Binned standard deviations of seawater salinity, first week of August')"
   ]
  },
  {
   "cell_type": "markdown",
   "metadata": {},
   "source": [
    "# Pick up from here\n",
    "\n",
    "Next: compare the first week of August 2019 to 2018. \n",
    "To really improve the current state of this notebook, set it up to cycle through these different times using one large function and plot multiple time periods on one plot. Rely on Rob's chlorophyll notebook for direction! "
   ]
  },
  {
   "cell_type": "markdown",
   "metadata": {},
   "source": [
    "## Combining the Workflow Steps\n",
    "\n",
    "Now that we've done each step one-by-one, we can combine the steps explained above into a streamlined process. This section will include the following:\n",
    "* download dataset for the shallow profiler at oregon slope base for the year 2019 (be sure you entered your credentials way above)\n",
    "* open dataset and swap dims\n",
    "* analyze data on a weekly time interval\n",
    "* obtain the means and stdevs for the weekly time intervals\n",
    "* plot together to see how mean and stdev of practical salinity changes throughout the year"
   ]
  },
  {
   "cell_type": "code",
   "execution_count": 8,
   "metadata": {
    "collapsed": true,
    "jupyter": {
     "outputs_hidden": true
    }
   },
   "outputs": [
    {
     "name": "stderr",
     "output_type": "stream",
     "text": [
      "(MainThread) RS01SBPS-SF01A-2A-CTDPFA102-streamed-ctdpf_sbe43_sample time check - End time exceeds stream endTime\n",
      "(MainThread) Setting request end time to stream endTime\n",
      "(MainThread) Your data (https://opendap.oceanobservatories.org/async_results/deryag@uw.edu/20200324T170443074Z-RS01SBPS-SF01A-2A-CTDPFA102-streamed-ctdpf_sbe43_sample) is still compiling... Please wait.\n"
     ]
    },
    {
     "name": "stdout",
     "output_type": "stream",
     "text": [
      "Your data (https://opendap.oceanobservatories.org/async_results/deryag@uw.edu/20200324T170443074Z-RS01SBPS-SF01A-2A-CTDPFA102-streamed-ctdpf_sbe43_sample) is still compiling... Please wait.\n"
     ]
    },
    {
     "name": "stderr",
     "output_type": "stream",
     "text": [
      "(MainThread) Data request time elapsed: 10s\n"
     ]
    },
    {
     "name": "stdout",
     "output_type": "stream",
     "text": [
      "Data request time elapsed: 10s\n"
     ]
    },
    {
     "name": "stderr",
     "output_type": "stream",
     "text": [
      "(MainThread) Your data (https://opendap.oceanobservatories.org/async_results/deryag@uw.edu/20200324T170443074Z-RS01SBPS-SF01A-2A-CTDPFA102-streamed-ctdpf_sbe43_sample) is still compiling... Please wait.\n"
     ]
    },
    {
     "name": "stdout",
     "output_type": "stream",
     "text": [
      "Your data (https://opendap.oceanobservatories.org/async_results/deryag@uw.edu/20200324T170443074Z-RS01SBPS-SF01A-2A-CTDPFA102-streamed-ctdpf_sbe43_sample) is still compiling... Please wait.\n"
     ]
    },
    {
     "name": "stderr",
     "output_type": "stream",
     "text": [
      "(MainThread) Data request time elapsed: 20s\n"
     ]
    },
    {
     "name": "stdout",
     "output_type": "stream",
     "text": [
      "Data request time elapsed: 20s\n"
     ]
    },
    {
     "name": "stderr",
     "output_type": "stream",
     "text": [
      "(MainThread) Your data (https://opendap.oceanobservatories.org/async_results/deryag@uw.edu/20200324T170443074Z-RS01SBPS-SF01A-2A-CTDPFA102-streamed-ctdpf_sbe43_sample) is still compiling... Please wait.\n"
     ]
    },
    {
     "name": "stdout",
     "output_type": "stream",
     "text": [
      "Your data (https://opendap.oceanobservatories.org/async_results/deryag@uw.edu/20200324T170443074Z-RS01SBPS-SF01A-2A-CTDPFA102-streamed-ctdpf_sbe43_sample) is still compiling... Please wait.\n"
     ]
    },
    {
     "name": "stderr",
     "output_type": "stream",
     "text": [
      "(MainThread) Data request time elapsed: 30s\n"
     ]
    },
    {
     "name": "stdout",
     "output_type": "stream",
     "text": [
      "Data request time elapsed: 30s\n"
     ]
    },
    {
     "name": "stderr",
     "output_type": "stream",
     "text": [
      "(MainThread) Your data (https://opendap.oceanobservatories.org/async_results/deryag@uw.edu/20200324T170443074Z-RS01SBPS-SF01A-2A-CTDPFA102-streamed-ctdpf_sbe43_sample) is still compiling... Please wait.\n"
     ]
    },
    {
     "name": "stdout",
     "output_type": "stream",
     "text": [
      "Your data (https://opendap.oceanobservatories.org/async_results/deryag@uw.edu/20200324T170443074Z-RS01SBPS-SF01A-2A-CTDPFA102-streamed-ctdpf_sbe43_sample) is still compiling... Please wait.\n"
     ]
    },
    {
     "name": "stderr",
     "output_type": "stream",
     "text": [
      "(MainThread) Data request time elapsed: 41s\n"
     ]
    },
    {
     "name": "stdout",
     "output_type": "stream",
     "text": [
      "Data request time elapsed: 41s\n"
     ]
    },
    {
     "name": "stderr",
     "output_type": "stream",
     "text": [
      "(MainThread) Your data (https://opendap.oceanobservatories.org/async_results/deryag@uw.edu/20200324T170443074Z-RS01SBPS-SF01A-2A-CTDPFA102-streamed-ctdpf_sbe43_sample) is still compiling... Please wait.\n"
     ]
    },
    {
     "name": "stdout",
     "output_type": "stream",
     "text": [
      "Your data (https://opendap.oceanobservatories.org/async_results/deryag@uw.edu/20200324T170443074Z-RS01SBPS-SF01A-2A-CTDPFA102-streamed-ctdpf_sbe43_sample) is still compiling... Please wait.\n"
     ]
    },
    {
     "name": "stderr",
     "output_type": "stream",
     "text": [
      "(MainThread) Data request time elapsed: 51s\n"
     ]
    },
    {
     "name": "stdout",
     "output_type": "stream",
     "text": [
      "Data request time elapsed: 51s\n"
     ]
    },
    {
     "name": "stderr",
     "output_type": "stream",
     "text": [
      "(MainThread) Your data (https://opendap.oceanobservatories.org/async_results/deryag@uw.edu/20200324T170443074Z-RS01SBPS-SF01A-2A-CTDPFA102-streamed-ctdpf_sbe43_sample) is still compiling... Please wait.\n"
     ]
    },
    {
     "name": "stdout",
     "output_type": "stream",
     "text": [
      "Your data (https://opendap.oceanobservatories.org/async_results/deryag@uw.edu/20200324T170443074Z-RS01SBPS-SF01A-2A-CTDPFA102-streamed-ctdpf_sbe43_sample) is still compiling... Please wait.\n"
     ]
    },
    {
     "name": "stderr",
     "output_type": "stream",
     "text": [
      "(MainThread) Data request time elapsed: 61s\n"
     ]
    },
    {
     "name": "stdout",
     "output_type": "stream",
     "text": [
      "Data request time elapsed: 61s\n"
     ]
    },
    {
     "name": "stderr",
     "output_type": "stream",
     "text": [
      "(MainThread) Your data (https://opendap.oceanobservatories.org/async_results/deryag@uw.edu/20200324T170443074Z-RS01SBPS-SF01A-2A-CTDPFA102-streamed-ctdpf_sbe43_sample) is still compiling... Please wait.\n"
     ]
    },
    {
     "name": "stdout",
     "output_type": "stream",
     "text": [
      "Your data (https://opendap.oceanobservatories.org/async_results/deryag@uw.edu/20200324T170443074Z-RS01SBPS-SF01A-2A-CTDPFA102-streamed-ctdpf_sbe43_sample) is still compiling... Please wait.\n"
     ]
    },
    {
     "name": "stderr",
     "output_type": "stream",
     "text": [
      "(MainThread) Data request time elapsed: 72s\n"
     ]
    },
    {
     "name": "stdout",
     "output_type": "stream",
     "text": [
      "Data request time elapsed: 72s\n"
     ]
    },
    {
     "name": "stderr",
     "output_type": "stream",
     "text": [
      "(MainThread) Your data (https://opendap.oceanobservatories.org/async_results/deryag@uw.edu/20200324T170443074Z-RS01SBPS-SF01A-2A-CTDPFA102-streamed-ctdpf_sbe43_sample) is still compiling... Please wait.\n"
     ]
    },
    {
     "name": "stdout",
     "output_type": "stream",
     "text": [
      "Your data (https://opendap.oceanobservatories.org/async_results/deryag@uw.edu/20200324T170443074Z-RS01SBPS-SF01A-2A-CTDPFA102-streamed-ctdpf_sbe43_sample) is still compiling... Please wait.\n"
     ]
    },
    {
     "name": "stderr",
     "output_type": "stream",
     "text": [
      "(MainThread) Data request time elapsed: 82s\n"
     ]
    },
    {
     "name": "stdout",
     "output_type": "stream",
     "text": [
      "Data request time elapsed: 82s\n"
     ]
    },
    {
     "name": "stderr",
     "output_type": "stream",
     "text": [
      "(MainThread) Your data (https://opendap.oceanobservatories.org/async_results/deryag@uw.edu/20200324T170443074Z-RS01SBPS-SF01A-2A-CTDPFA102-streamed-ctdpf_sbe43_sample) is still compiling... Please wait.\n"
     ]
    },
    {
     "name": "stdout",
     "output_type": "stream",
     "text": [
      "Your data (https://opendap.oceanobservatories.org/async_results/deryag@uw.edu/20200324T170443074Z-RS01SBPS-SF01A-2A-CTDPFA102-streamed-ctdpf_sbe43_sample) is still compiling... Please wait.\n"
     ]
    },
    {
     "name": "stderr",
     "output_type": "stream",
     "text": [
      "(MainThread) Data request time elapsed: 92s\n"
     ]
    },
    {
     "name": "stdout",
     "output_type": "stream",
     "text": [
      "Data request time elapsed: 92s\n"
     ]
    },
    {
     "name": "stderr",
     "output_type": "stream",
     "text": [
      "(MainThread) Your data (https://opendap.oceanobservatories.org/async_results/deryag@uw.edu/20200324T170443074Z-RS01SBPS-SF01A-2A-CTDPFA102-streamed-ctdpf_sbe43_sample) is still compiling... Please wait.\n"
     ]
    },
    {
     "name": "stdout",
     "output_type": "stream",
     "text": [
      "Your data (https://opendap.oceanobservatories.org/async_results/deryag@uw.edu/20200324T170443074Z-RS01SBPS-SF01A-2A-CTDPFA102-streamed-ctdpf_sbe43_sample) is still compiling... Please wait.\n"
     ]
    },
    {
     "name": "stderr",
     "output_type": "stream",
     "text": [
      "(MainThread) Data request time elapsed: 103s\n"
     ]
    },
    {
     "name": "stdout",
     "output_type": "stream",
     "text": [
      "Data request time elapsed: 103s\n"
     ]
    },
    {
     "name": "stderr",
     "output_type": "stream",
     "text": [
      "(MainThread) Your data (https://opendap.oceanobservatories.org/async_results/deryag@uw.edu/20200324T170443074Z-RS01SBPS-SF01A-2A-CTDPFA102-streamed-ctdpf_sbe43_sample) is still compiling... Please wait.\n"
     ]
    },
    {
     "name": "stdout",
     "output_type": "stream",
     "text": [
      "Your data (https://opendap.oceanobservatories.org/async_results/deryag@uw.edu/20200324T170443074Z-RS01SBPS-SF01A-2A-CTDPFA102-streamed-ctdpf_sbe43_sample) is still compiling... Please wait.\n"
     ]
    },
    {
     "name": "stderr",
     "output_type": "stream",
     "text": [
      "(MainThread) Data request time elapsed: 113s\n"
     ]
    },
    {
     "name": "stdout",
     "output_type": "stream",
     "text": [
      "Data request time elapsed: 113s\n"
     ]
    },
    {
     "name": "stderr",
     "output_type": "stream",
     "text": [
      "(MainThread) Your data (https://opendap.oceanobservatories.org/async_results/deryag@uw.edu/20200324T170443074Z-RS01SBPS-SF01A-2A-CTDPFA102-streamed-ctdpf_sbe43_sample) is still compiling... Please wait.\n"
     ]
    },
    {
     "name": "stdout",
     "output_type": "stream",
     "text": [
      "Your data (https://opendap.oceanobservatories.org/async_results/deryag@uw.edu/20200324T170443074Z-RS01SBPS-SF01A-2A-CTDPFA102-streamed-ctdpf_sbe43_sample) is still compiling... Please wait.\n"
     ]
    },
    {
     "name": "stderr",
     "output_type": "stream",
     "text": [
      "(MainThread) Data request time elapsed: 123s\n"
     ]
    },
    {
     "name": "stdout",
     "output_type": "stream",
     "text": [
      "Data request time elapsed: 123s\n"
     ]
    },
    {
     "name": "stderr",
     "output_type": "stream",
     "text": [
      "(MainThread) Your data (https://opendap.oceanobservatories.org/async_results/deryag@uw.edu/20200324T170443074Z-RS01SBPS-SF01A-2A-CTDPFA102-streamed-ctdpf_sbe43_sample) is still compiling... Please wait.\n"
     ]
    },
    {
     "name": "stdout",
     "output_type": "stream",
     "text": [
      "Your data (https://opendap.oceanobservatories.org/async_results/deryag@uw.edu/20200324T170443074Z-RS01SBPS-SF01A-2A-CTDPFA102-streamed-ctdpf_sbe43_sample) is still compiling... Please wait.\n"
     ]
    },
    {
     "name": "stderr",
     "output_type": "stream",
     "text": [
      "(MainThread) Data request time elapsed: 133s\n"
     ]
    },
    {
     "name": "stdout",
     "output_type": "stream",
     "text": [
      "Data request time elapsed: 133s\n"
     ]
    },
    {
     "name": "stderr",
     "output_type": "stream",
     "text": [
      "(MainThread) Your data (https://opendap.oceanobservatories.org/async_results/deryag@uw.edu/20200324T170443074Z-RS01SBPS-SF01A-2A-CTDPFA102-streamed-ctdpf_sbe43_sample) is still compiling... Please wait.\n"
     ]
    },
    {
     "name": "stdout",
     "output_type": "stream",
     "text": [
      "Your data (https://opendap.oceanobservatories.org/async_results/deryag@uw.edu/20200324T170443074Z-RS01SBPS-SF01A-2A-CTDPFA102-streamed-ctdpf_sbe43_sample) is still compiling... Please wait.\n"
     ]
    },
    {
     "name": "stderr",
     "output_type": "stream",
     "text": [
      "(MainThread) Data request time elapsed: 144s\n"
     ]
    },
    {
     "name": "stdout",
     "output_type": "stream",
     "text": [
      "Data request time elapsed: 144s\n"
     ]
    },
    {
     "name": "stderr",
     "output_type": "stream",
     "text": [
      "(MainThread) Your data (https://opendap.oceanobservatories.org/async_results/deryag@uw.edu/20200324T170443074Z-RS01SBPS-SF01A-2A-CTDPFA102-streamed-ctdpf_sbe43_sample) is still compiling... Please wait.\n"
     ]
    },
    {
     "name": "stdout",
     "output_type": "stream",
     "text": [
      "Your data (https://opendap.oceanobservatories.org/async_results/deryag@uw.edu/20200324T170443074Z-RS01SBPS-SF01A-2A-CTDPFA102-streamed-ctdpf_sbe43_sample) is still compiling... Please wait.\n"
     ]
    },
    {
     "name": "stderr",
     "output_type": "stream",
     "text": [
      "(MainThread) Data request time elapsed: 159s\n"
     ]
    },
    {
     "name": "stdout",
     "output_type": "stream",
     "text": [
      "Data request time elapsed: 159s\n"
     ]
    },
    {
     "name": "stderr",
     "output_type": "stream",
     "text": [
      "(MainThread) Your data (https://opendap.oceanobservatories.org/async_results/deryag@uw.edu/20200324T170443074Z-RS01SBPS-SF01A-2A-CTDPFA102-streamed-ctdpf_sbe43_sample) is still compiling... Please wait.\n"
     ]
    },
    {
     "name": "stdout",
     "output_type": "stream",
     "text": [
      "Your data (https://opendap.oceanobservatories.org/async_results/deryag@uw.edu/20200324T170443074Z-RS01SBPS-SF01A-2A-CTDPFA102-streamed-ctdpf_sbe43_sample) is still compiling... Please wait.\n"
     ]
    },
    {
     "name": "stderr",
     "output_type": "stream",
     "text": [
      "(MainThread) Data request time elapsed: 170s\n"
     ]
    },
    {
     "name": "stdout",
     "output_type": "stream",
     "text": [
      "Data request time elapsed: 170s\n"
     ]
    },
    {
     "name": "stderr",
     "output_type": "stream",
     "text": [
      "(MainThread) Your data (https://opendap.oceanobservatories.org/async_results/deryag@uw.edu/20200324T170443074Z-RS01SBPS-SF01A-2A-CTDPFA102-streamed-ctdpf_sbe43_sample) is still compiling... Please wait.\n"
     ]
    },
    {
     "name": "stdout",
     "output_type": "stream",
     "text": [
      "Your data (https://opendap.oceanobservatories.org/async_results/deryag@uw.edu/20200324T170443074Z-RS01SBPS-SF01A-2A-CTDPFA102-streamed-ctdpf_sbe43_sample) is still compiling... Please wait.\n"
     ]
    },
    {
     "name": "stderr",
     "output_type": "stream",
     "text": [
      "(MainThread) Data request time elapsed: 180s\n"
     ]
    },
    {
     "name": "stdout",
     "output_type": "stream",
     "text": [
      "Data request time elapsed: 180s\n"
     ]
    },
    {
     "name": "stderr",
     "output_type": "stream",
     "text": [
      "(MainThread) Your data (https://opendap.oceanobservatories.org/async_results/deryag@uw.edu/20200324T170443074Z-RS01SBPS-SF01A-2A-CTDPFA102-streamed-ctdpf_sbe43_sample) is still compiling... Please wait.\n"
     ]
    },
    {
     "name": "stdout",
     "output_type": "stream",
     "text": [
      "Your data (https://opendap.oceanobservatories.org/async_results/deryag@uw.edu/20200324T170443074Z-RS01SBPS-SF01A-2A-CTDPFA102-streamed-ctdpf_sbe43_sample) is still compiling... Please wait.\n"
     ]
    },
    {
     "name": "stderr",
     "output_type": "stream",
     "text": [
      "(MainThread) Data request time elapsed: 190s\n"
     ]
    },
    {
     "name": "stdout",
     "output_type": "stream",
     "text": [
      "Data request time elapsed: 190s\n"
     ]
    },
    {
     "name": "stderr",
     "output_type": "stream",
     "text": [
      "(MainThread) Your data (https://opendap.oceanobservatories.org/async_results/deryag@uw.edu/20200324T170443074Z-RS01SBPS-SF01A-2A-CTDPFA102-streamed-ctdpf_sbe43_sample) is still compiling... Please wait.\n"
     ]
    },
    {
     "name": "stdout",
     "output_type": "stream",
     "text": [
      "Your data (https://opendap.oceanobservatories.org/async_results/deryag@uw.edu/20200324T170443074Z-RS01SBPS-SF01A-2A-CTDPFA102-streamed-ctdpf_sbe43_sample) is still compiling... Please wait.\n"
     ]
    },
    {
     "name": "stderr",
     "output_type": "stream",
     "text": [
      "(MainThread) Data request time elapsed: 201s\n"
     ]
    },
    {
     "name": "stdout",
     "output_type": "stream",
     "text": [
      "Data request time elapsed: 201s\n"
     ]
    },
    {
     "name": "stderr",
     "output_type": "stream",
     "text": [
      "(MainThread) Your data (https://opendap.oceanobservatories.org/async_results/deryag@uw.edu/20200324T170443074Z-RS01SBPS-SF01A-2A-CTDPFA102-streamed-ctdpf_sbe43_sample) is still compiling... Please wait.\n"
     ]
    },
    {
     "name": "stdout",
     "output_type": "stream",
     "text": [
      "Your data (https://opendap.oceanobservatories.org/async_results/deryag@uw.edu/20200324T170443074Z-RS01SBPS-SF01A-2A-CTDPFA102-streamed-ctdpf_sbe43_sample) is still compiling... Please wait.\n"
     ]
    },
    {
     "name": "stderr",
     "output_type": "stream",
     "text": [
      "(MainThread) Data request time elapsed: 211s\n"
     ]
    },
    {
     "name": "stdout",
     "output_type": "stream",
     "text": [
      "Data request time elapsed: 211s\n"
     ]
    },
    {
     "name": "stderr",
     "output_type": "stream",
     "text": [
      "(MainThread) Your data (https://opendap.oceanobservatories.org/async_results/deryag@uw.edu/20200324T170443074Z-RS01SBPS-SF01A-2A-CTDPFA102-streamed-ctdpf_sbe43_sample) is still compiling... Please wait.\n"
     ]
    },
    {
     "name": "stdout",
     "output_type": "stream",
     "text": [
      "Your data (https://opendap.oceanobservatories.org/async_results/deryag@uw.edu/20200324T170443074Z-RS01SBPS-SF01A-2A-CTDPFA102-streamed-ctdpf_sbe43_sample) is still compiling... Please wait.\n"
     ]
    },
    {
     "name": "stderr",
     "output_type": "stream",
     "text": [
      "(MainThread) Data request time elapsed: 221s\n"
     ]
    },
    {
     "name": "stdout",
     "output_type": "stream",
     "text": [
      "Data request time elapsed: 221s\n"
     ]
    },
    {
     "name": "stderr",
     "output_type": "stream",
     "text": [
      "(MainThread) Your data (https://opendap.oceanobservatories.org/async_results/deryag@uw.edu/20200324T170443074Z-RS01SBPS-SF01A-2A-CTDPFA102-streamed-ctdpf_sbe43_sample) is still compiling... Please wait.\n"
     ]
    },
    {
     "name": "stdout",
     "output_type": "stream",
     "text": [
      "Your data (https://opendap.oceanobservatories.org/async_results/deryag@uw.edu/20200324T170443074Z-RS01SBPS-SF01A-2A-CTDPFA102-streamed-ctdpf_sbe43_sample) is still compiling... Please wait.\n"
     ]
    },
    {
     "name": "stderr",
     "output_type": "stream",
     "text": [
      "(MainThread) Data request time elapsed: 232s\n"
     ]
    },
    {
     "name": "stdout",
     "output_type": "stream",
     "text": [
      "Data request time elapsed: 232s\n"
     ]
    },
    {
     "name": "stderr",
     "output_type": "stream",
     "text": [
      "(MainThread) Your data (https://opendap.oceanobservatories.org/async_results/deryag@uw.edu/20200324T170443074Z-RS01SBPS-SF01A-2A-CTDPFA102-streamed-ctdpf_sbe43_sample) is still compiling... Please wait.\n"
     ]
    },
    {
     "name": "stdout",
     "output_type": "stream",
     "text": [
      "Your data (https://opendap.oceanobservatories.org/async_results/deryag@uw.edu/20200324T170443074Z-RS01SBPS-SF01A-2A-CTDPFA102-streamed-ctdpf_sbe43_sample) is still compiling... Please wait.\n"
     ]
    },
    {
     "name": "stderr",
     "output_type": "stream",
     "text": [
      "(MainThread) Data request time elapsed: 242s\n"
     ]
    },
    {
     "name": "stdout",
     "output_type": "stream",
     "text": [
      "Data request time elapsed: 242s\n"
     ]
    },
    {
     "name": "stderr",
     "output_type": "stream",
     "text": [
      "(MainThread) Your data (https://opendap.oceanobservatories.org/async_results/deryag@uw.edu/20200324T170443074Z-RS01SBPS-SF01A-2A-CTDPFA102-streamed-ctdpf_sbe43_sample) is still compiling... Please wait.\n"
     ]
    },
    {
     "name": "stdout",
     "output_type": "stream",
     "text": [
      "Your data (https://opendap.oceanobservatories.org/async_results/deryag@uw.edu/20200324T170443074Z-RS01SBPS-SF01A-2A-CTDPFA102-streamed-ctdpf_sbe43_sample) is still compiling... Please wait.\n"
     ]
    },
    {
     "name": "stderr",
     "output_type": "stream",
     "text": [
      "(MainThread) Data request time elapsed: 252s\n"
     ]
    },
    {
     "name": "stdout",
     "output_type": "stream",
     "text": [
      "Data request time elapsed: 252s\n"
     ]
    },
    {
     "name": "stderr",
     "output_type": "stream",
     "text": [
      "(MainThread) Your data (https://opendap.oceanobservatories.org/async_results/deryag@uw.edu/20200324T170443074Z-RS01SBPS-SF01A-2A-CTDPFA102-streamed-ctdpf_sbe43_sample) is still compiling... Please wait.\n"
     ]
    },
    {
     "name": "stdout",
     "output_type": "stream",
     "text": [
      "Your data (https://opendap.oceanobservatories.org/async_results/deryag@uw.edu/20200324T170443074Z-RS01SBPS-SF01A-2A-CTDPFA102-streamed-ctdpf_sbe43_sample) is still compiling... Please wait.\n"
     ]
    },
    {
     "name": "stderr",
     "output_type": "stream",
     "text": [
      "(MainThread) Data request time elapsed: 263s\n"
     ]
    },
    {
     "name": "stdout",
     "output_type": "stream",
     "text": [
      "Data request time elapsed: 263s\n"
     ]
    },
    {
     "name": "stderr",
     "output_type": "stream",
     "text": [
      "(MainThread) Your data (https://opendap.oceanobservatories.org/async_results/deryag@uw.edu/20200324T170443074Z-RS01SBPS-SF01A-2A-CTDPFA102-streamed-ctdpf_sbe43_sample) is still compiling... Please wait.\n"
     ]
    },
    {
     "name": "stdout",
     "output_type": "stream",
     "text": [
      "Your data (https://opendap.oceanobservatories.org/async_results/deryag@uw.edu/20200324T170443074Z-RS01SBPS-SF01A-2A-CTDPFA102-streamed-ctdpf_sbe43_sample) is still compiling... Please wait.\n"
     ]
    },
    {
     "name": "stderr",
     "output_type": "stream",
     "text": [
      "(MainThread) Data request time elapsed: 273s\n"
     ]
    },
    {
     "name": "stdout",
     "output_type": "stream",
     "text": [
      "Data request time elapsed: 273s\n"
     ]
    },
    {
     "name": "stderr",
     "output_type": "stream",
     "text": [
      "(MainThread) Your data (https://opendap.oceanobservatories.org/async_results/deryag@uw.edu/20200324T170443074Z-RS01SBPS-SF01A-2A-CTDPFA102-streamed-ctdpf_sbe43_sample) is still compiling... Please wait.\n"
     ]
    },
    {
     "name": "stdout",
     "output_type": "stream",
     "text": [
      "Your data (https://opendap.oceanobservatories.org/async_results/deryag@uw.edu/20200324T170443074Z-RS01SBPS-SF01A-2A-CTDPFA102-streamed-ctdpf_sbe43_sample) is still compiling... Please wait.\n"
     ]
    },
    {
     "name": "stderr",
     "output_type": "stream",
     "text": [
      "(MainThread) Data request time elapsed: 283s\n"
     ]
    },
    {
     "name": "stdout",
     "output_type": "stream",
     "text": [
      "Data request time elapsed: 283s\n"
     ]
    },
    {
     "name": "stderr",
     "output_type": "stream",
     "text": [
      "(MainThread) Your data (https://opendap.oceanobservatories.org/async_results/deryag@uw.edu/20200324T170443074Z-RS01SBPS-SF01A-2A-CTDPFA102-streamed-ctdpf_sbe43_sample) is still compiling... Please wait.\n"
     ]
    },
    {
     "name": "stdout",
     "output_type": "stream",
     "text": [
      "Your data (https://opendap.oceanobservatories.org/async_results/deryag@uw.edu/20200324T170443074Z-RS01SBPS-SF01A-2A-CTDPFA102-streamed-ctdpf_sbe43_sample) is still compiling... Please wait.\n"
     ]
    },
    {
     "name": "stderr",
     "output_type": "stream",
     "text": [
      "(MainThread) Data request time elapsed: 294s\n"
     ]
    },
    {
     "name": "stdout",
     "output_type": "stream",
     "text": [
      "Data request time elapsed: 294s\n"
     ]
    },
    {
     "name": "stderr",
     "output_type": "stream",
     "text": [
      "(MainThread) Your data (https://opendap.oceanobservatories.org/async_results/deryag@uw.edu/20200324T170443074Z-RS01SBPS-SF01A-2A-CTDPFA102-streamed-ctdpf_sbe43_sample) is still compiling... Please wait.\n"
     ]
    },
    {
     "name": "stdout",
     "output_type": "stream",
     "text": [
      "Your data (https://opendap.oceanobservatories.org/async_results/deryag@uw.edu/20200324T170443074Z-RS01SBPS-SF01A-2A-CTDPFA102-streamed-ctdpf_sbe43_sample) is still compiling... Please wait.\n"
     ]
    },
    {
     "name": "stderr",
     "output_type": "stream",
     "text": [
      "(MainThread) Data request time elapsed: 304s\n"
     ]
    },
    {
     "name": "stdout",
     "output_type": "stream",
     "text": [
      "Data request time elapsed: 304s\n"
     ]
    },
    {
     "name": "stderr",
     "output_type": "stream",
     "text": [
      "(MainThread) Your data (https://opendap.oceanobservatories.org/async_results/deryag@uw.edu/20200324T170443074Z-RS01SBPS-SF01A-2A-CTDPFA102-streamed-ctdpf_sbe43_sample) is still compiling... Please wait.\n"
     ]
    },
    {
     "name": "stdout",
     "output_type": "stream",
     "text": [
      "Your data (https://opendap.oceanobservatories.org/async_results/deryag@uw.edu/20200324T170443074Z-RS01SBPS-SF01A-2A-CTDPFA102-streamed-ctdpf_sbe43_sample) is still compiling... Please wait.\n"
     ]
    },
    {
     "name": "stderr",
     "output_type": "stream",
     "text": [
      "(MainThread) Data request time elapsed: 314s\n"
     ]
    },
    {
     "name": "stdout",
     "output_type": "stream",
     "text": [
      "Data request time elapsed: 314s\n"
     ]
    },
    {
     "name": "stderr",
     "output_type": "stream",
     "text": [
      "(MainThread) Your data (https://opendap.oceanobservatories.org/async_results/deryag@uw.edu/20200324T170443074Z-RS01SBPS-SF01A-2A-CTDPFA102-streamed-ctdpf_sbe43_sample) is still compiling... Please wait.\n"
     ]
    },
    {
     "name": "stdout",
     "output_type": "stream",
     "text": [
      "Your data (https://opendap.oceanobservatories.org/async_results/deryag@uw.edu/20200324T170443074Z-RS01SBPS-SF01A-2A-CTDPFA102-streamed-ctdpf_sbe43_sample) is still compiling... Please wait.\n"
     ]
    },
    {
     "name": "stderr",
     "output_type": "stream",
     "text": [
      "(MainThread) Data request time elapsed: 325s\n"
     ]
    },
    {
     "name": "stdout",
     "output_type": "stream",
     "text": [
      "Data request time elapsed: 325s\n"
     ]
    },
    {
     "name": "stderr",
     "output_type": "stream",
     "text": [
      "(MainThread) Your data (https://opendap.oceanobservatories.org/async_results/deryag@uw.edu/20200324T170443074Z-RS01SBPS-SF01A-2A-CTDPFA102-streamed-ctdpf_sbe43_sample) is still compiling... Please wait.\n"
     ]
    },
    {
     "name": "stdout",
     "output_type": "stream",
     "text": [
      "Your data (https://opendap.oceanobservatories.org/async_results/deryag@uw.edu/20200324T170443074Z-RS01SBPS-SF01A-2A-CTDPFA102-streamed-ctdpf_sbe43_sample) is still compiling... Please wait.\n"
     ]
    },
    {
     "name": "stderr",
     "output_type": "stream",
     "text": [
      "(MainThread) Data request time elapsed: 335s\n"
     ]
    },
    {
     "name": "stdout",
     "output_type": "stream",
     "text": [
      "Data request time elapsed: 335s\n"
     ]
    },
    {
     "name": "stderr",
     "output_type": "stream",
     "text": [
      "(MainThread) Your data (https://opendap.oceanobservatories.org/async_results/deryag@uw.edu/20200324T170443074Z-RS01SBPS-SF01A-2A-CTDPFA102-streamed-ctdpf_sbe43_sample) is still compiling... Please wait.\n"
     ]
    },
    {
     "name": "stdout",
     "output_type": "stream",
     "text": [
      "Your data (https://opendap.oceanobservatories.org/async_results/deryag@uw.edu/20200324T170443074Z-RS01SBPS-SF01A-2A-CTDPFA102-streamed-ctdpf_sbe43_sample) is still compiling... Please wait.\n"
     ]
    },
    {
     "name": "stderr",
     "output_type": "stream",
     "text": [
      "(MainThread) Data request time elapsed: 345s\n"
     ]
    },
    {
     "name": "stdout",
     "output_type": "stream",
     "text": [
      "Data request time elapsed: 345s\n"
     ]
    },
    {
     "name": "stderr",
     "output_type": "stream",
     "text": [
      "(MainThread) Your data (https://opendap.oceanobservatories.org/async_results/deryag@uw.edu/20200324T170443074Z-RS01SBPS-SF01A-2A-CTDPFA102-streamed-ctdpf_sbe43_sample) is still compiling... Please wait.\n"
     ]
    },
    {
     "name": "stdout",
     "output_type": "stream",
     "text": [
      "Your data (https://opendap.oceanobservatories.org/async_results/deryag@uw.edu/20200324T170443074Z-RS01SBPS-SF01A-2A-CTDPFA102-streamed-ctdpf_sbe43_sample) is still compiling... Please wait.\n"
     ]
    },
    {
     "name": "stderr",
     "output_type": "stream",
     "text": [
      "(MainThread) Data request time elapsed: 356s\n"
     ]
    },
    {
     "name": "stdout",
     "output_type": "stream",
     "text": [
      "Data request time elapsed: 356s\n"
     ]
    },
    {
     "name": "stderr",
     "output_type": "stream",
     "text": [
      "(MainThread) Your data (https://opendap.oceanobservatories.org/async_results/deryag@uw.edu/20200324T170443074Z-RS01SBPS-SF01A-2A-CTDPFA102-streamed-ctdpf_sbe43_sample) is still compiling... Please wait.\n"
     ]
    },
    {
     "name": "stdout",
     "output_type": "stream",
     "text": [
      "Your data (https://opendap.oceanobservatories.org/async_results/deryag@uw.edu/20200324T170443074Z-RS01SBPS-SF01A-2A-CTDPFA102-streamed-ctdpf_sbe43_sample) is still compiling... Please wait.\n"
     ]
    },
    {
     "name": "stderr",
     "output_type": "stream",
     "text": [
      "(MainThread) Data request time elapsed: 366s\n"
     ]
    },
    {
     "name": "stdout",
     "output_type": "stream",
     "text": [
      "Data request time elapsed: 366s\n"
     ]
    },
    {
     "name": "stderr",
     "output_type": "stream",
     "text": [
      "(MainThread) Your data (https://opendap.oceanobservatories.org/async_results/deryag@uw.edu/20200324T170443074Z-RS01SBPS-SF01A-2A-CTDPFA102-streamed-ctdpf_sbe43_sample) is still compiling... Please wait.\n"
     ]
    },
    {
     "name": "stdout",
     "output_type": "stream",
     "text": [
      "Your data (https://opendap.oceanobservatories.org/async_results/deryag@uw.edu/20200324T170443074Z-RS01SBPS-SF01A-2A-CTDPFA102-streamed-ctdpf_sbe43_sample) is still compiling... Please wait.\n"
     ]
    },
    {
     "name": "stderr",
     "output_type": "stream",
     "text": [
      "(MainThread) Data request time elapsed: 376s\n"
     ]
    },
    {
     "name": "stdout",
     "output_type": "stream",
     "text": [
      "Data request time elapsed: 376s\n"
     ]
    },
    {
     "name": "stderr",
     "output_type": "stream",
     "text": [
      "(MainThread) Your data (https://opendap.oceanobservatories.org/async_results/deryag@uw.edu/20200324T170443074Z-RS01SBPS-SF01A-2A-CTDPFA102-streamed-ctdpf_sbe43_sample) is still compiling... Please wait.\n"
     ]
    },
    {
     "name": "stdout",
     "output_type": "stream",
     "text": [
      "Your data (https://opendap.oceanobservatories.org/async_results/deryag@uw.edu/20200324T170443074Z-RS01SBPS-SF01A-2A-CTDPFA102-streamed-ctdpf_sbe43_sample) is still compiling... Please wait.\n"
     ]
    },
    {
     "name": "stderr",
     "output_type": "stream",
     "text": [
      "(MainThread) Data request time elapsed: 387s\n"
     ]
    },
    {
     "name": "stdout",
     "output_type": "stream",
     "text": [
      "Data request time elapsed: 387s\n"
     ]
    },
    {
     "name": "stderr",
     "output_type": "stream",
     "text": [
      "(MainThread) Your data (https://opendap.oceanobservatories.org/async_results/deryag@uw.edu/20200324T170443074Z-RS01SBPS-SF01A-2A-CTDPFA102-streamed-ctdpf_sbe43_sample) is still compiling... Please wait.\n"
     ]
    },
    {
     "name": "stdout",
     "output_type": "stream",
     "text": [
      "Your data (https://opendap.oceanobservatories.org/async_results/deryag@uw.edu/20200324T170443074Z-RS01SBPS-SF01A-2A-CTDPFA102-streamed-ctdpf_sbe43_sample) is still compiling... Please wait.\n"
     ]
    },
    {
     "name": "stderr",
     "output_type": "stream",
     "text": [
      "(MainThread) Data request time elapsed: 397s\n"
     ]
    },
    {
     "name": "stdout",
     "output_type": "stream",
     "text": [
      "Data request time elapsed: 397s\n"
     ]
    },
    {
     "name": "stderr",
     "output_type": "stream",
     "text": [
      "(MainThread) Your data (https://opendap.oceanobservatories.org/async_results/deryag@uw.edu/20200324T170443074Z-RS01SBPS-SF01A-2A-CTDPFA102-streamed-ctdpf_sbe43_sample) is still compiling... Please wait.\n"
     ]
    },
    {
     "name": "stdout",
     "output_type": "stream",
     "text": [
      "Your data (https://opendap.oceanobservatories.org/async_results/deryag@uw.edu/20200324T170443074Z-RS01SBPS-SF01A-2A-CTDPFA102-streamed-ctdpf_sbe43_sample) is still compiling... Please wait.\n"
     ]
    },
    {
     "name": "stderr",
     "output_type": "stream",
     "text": [
      "(MainThread) Data request time elapsed: 407s\n"
     ]
    },
    {
     "name": "stdout",
     "output_type": "stream",
     "text": [
      "Data request time elapsed: 407s\n"
     ]
    },
    {
     "name": "stderr",
     "output_type": "stream",
     "text": [
      "(MainThread) Request (https://opendap.oceanobservatories.org/async_results/deryag@uw.edu/20200324T170443074Z-RS01SBPS-SF01A-2A-CTDPFA102-streamed-ctdpf_sbe43_sample) completed.\n"
     ]
    },
    {
     "name": "stdout",
     "output_type": "stream",
     "text": [
      "Request (https://opendap.oceanobservatories.org/async_results/deryag@uw.edu/20200324T170443074Z-RS01SBPS-SF01A-2A-CTDPFA102-streamed-ctdpf_sbe43_sample) completed.\n"
     ]
    },
    {
     "name": "stderr",
     "output_type": "stream",
     "text": [
      "(MainThread) Acquiring data from opendap urls ...\n",
      "/srv/conda/envs/notebook/lib/python3.7/site-packages/xarray/backends/api.py:783: FutureWarning: In xarray version 0.13 `auto_combine` will be deprecated.\n",
      "  coords=coords)\n",
      "/srv/conda/envs/notebook/lib/python3.7/site-packages/xarray/backends/api.py:783: FutureWarning: The datasets supplied have global dimension coordinates. You may want\n",
      "to use the new `combine_by_coords` function (or the\n",
      "`combine='by_coords'` option to `open_mfdataset` to order the datasets\n",
      "before concatenation. Alternatively, to continue concatenating based\n",
      "on the order the datasets are supplied in in future, please use the\n",
      "new `combine_nested` function (or the `combine='nested'` option to\n",
      "open_mfdataset).\n",
      "  coords=coords)\n"
     ]
    }
   ],
   "source": [
    "'''Running .request_data() generates a data request\n",
    "while running .to_xarray() polls the OOI system until the order completes; \n",
    " this will take a couple of minutes'''\n",
    "\n",
    "\n",
    "# Enter desired start and end dates and generate data request\n",
    "#begin_date = '2019-01-01'\n",
    "#end_date = '2019-12-31'\n",
    "#ooi.request_data(begin_date=begin_date, end_date=end_date)\n",
    "#ds = ooi.to_xarray()\n",
    "\n",
    "\n",
    "# Check length of new dataset list to ensure the correct number of files was requested\n",
    "# len(ds)"
   ]
  },
  {
   "cell_type": "code",
   "execution_count": 9,
   "metadata": {
    "collapsed": true,
    "jupyter": {
     "outputs_hidden": true
    }
   },
   "outputs": [
    {
     "name": "stderr",
     "output_type": "stream",
     "text": [
      "(MainThread) Downloading netcdfs ...\n",
      "(MainThread) Downloading deployment0006_RS01SBPS-SF01A-2A-CTDPFA102-streamed-ctdpf_sbe43_sample_20190101T000000.743189-20190320T235959.267689.nc...\n",
      "(MainThread) Writing deployment0006_RS01SBPS-SF01A-2A-CTDPFA102-streamed-ctdpf_sbe43_sample_20190101T000000.743189-20190320T235959.267689.nc...\n",
      "(MainThread) deployment0006_RS01SBPS-SF01A-2A-CTDPFA102-streamed-ctdpf_sbe43_sample_20190101T000000.743189-20190320T235959.267689.nc successfully downloaded ---\n",
      "(MainThread) --- Checking deployment0006_RS01SBPS-SF01A-2A-CTDPFA102-streamed-ctdpf_sbe43_sample_20190101T000000.743189-20190320T235959.267689.nc ---\n",
      "(MainThread) --- Checks passed for deployment0006_RS01SBPS-SF01A-2A-CTDPFA102-streamed-ctdpf_sbe43_sample_20190101T000000.743189-20190320T235959.267689.nc ---\n",
      "(MainThread) Downloading deployment0006_RS01SBPS-SF01A-2A-CTDPFA102-streamed-ctdpf_sbe43_sample_20190321T000000.267597-20190608T235959.068926.nc...\n",
      "(MainThread) Writing deployment0006_RS01SBPS-SF01A-2A-CTDPFA102-streamed-ctdpf_sbe43_sample_20190321T000000.267597-20190608T235959.068926.nc...\n",
      "(MainThread) deployment0006_RS01SBPS-SF01A-2A-CTDPFA102-streamed-ctdpf_sbe43_sample_20190321T000000.267597-20190608T235959.068926.nc successfully downloaded ---\n",
      "(MainThread) --- Checking deployment0006_RS01SBPS-SF01A-2A-CTDPFA102-streamed-ctdpf_sbe43_sample_20190321T000000.267597-20190608T235959.068926.nc ---\n",
      "(MainThread) --- Checks passed for deployment0006_RS01SBPS-SF01A-2A-CTDPFA102-streamed-ctdpf_sbe43_sample_20190321T000000.267597-20190608T235959.068926.nc ---\n",
      "(MainThread) Downloading deployment0006_RS01SBPS-SF01A-2A-CTDPFA102-streamed-ctdpf_sbe43_sample_20190609T000000.068832-20190614T051242.692351.nc...\n",
      "(MainThread) Writing deployment0006_RS01SBPS-SF01A-2A-CTDPFA102-streamed-ctdpf_sbe43_sample_20190609T000000.068832-20190614T051242.692351.nc...\n",
      "(MainThread) deployment0006_RS01SBPS-SF01A-2A-CTDPFA102-streamed-ctdpf_sbe43_sample_20190609T000000.068832-20190614T051242.692351.nc successfully downloaded ---\n",
      "(MainThread) --- Checking deployment0006_RS01SBPS-SF01A-2A-CTDPFA102-streamed-ctdpf_sbe43_sample_20190609T000000.068832-20190614T051242.692351.nc ---\n",
      "(MainThread) --- Checks passed for deployment0006_RS01SBPS-SF01A-2A-CTDPFA102-streamed-ctdpf_sbe43_sample_20190609T000000.068832-20190614T051242.692351.nc ---\n",
      "(MainThread) Downloading deployment0007_RS01SBPS-SF01A-2A-CTDPFA102-streamed-ctdpf_sbe43_sample_20190614T231354.539487-20190906T235959.416089.nc...\n",
      "(MainThread) Writing deployment0007_RS01SBPS-SF01A-2A-CTDPFA102-streamed-ctdpf_sbe43_sample_20190614T231354.539487-20190906T235959.416089.nc...\n",
      "(MainThread) deployment0007_RS01SBPS-SF01A-2A-CTDPFA102-streamed-ctdpf_sbe43_sample_20190614T231354.539487-20190906T235959.416089.nc successfully downloaded ---\n",
      "(MainThread) --- Checking deployment0007_RS01SBPS-SF01A-2A-CTDPFA102-streamed-ctdpf_sbe43_sample_20190614T231354.539487-20190906T235959.416089.nc ---\n",
      "(MainThread) --- Checks passed for deployment0007_RS01SBPS-SF01A-2A-CTDPFA102-streamed-ctdpf_sbe43_sample_20190614T231354.539487-20190906T235959.416089.nc ---\n",
      "(MainThread) Downloading deployment0007_RS01SBPS-SF01A-2A-CTDPFA102-streamed-ctdpf_sbe43_sample_20190907T000000.416410-20190927T184152.175125.nc...\n",
      "(MainThread) Writing deployment0007_RS01SBPS-SF01A-2A-CTDPFA102-streamed-ctdpf_sbe43_sample_20190907T000000.416410-20190927T184152.175125.nc...\n",
      "(MainThread) deployment0007_RS01SBPS-SF01A-2A-CTDPFA102-streamed-ctdpf_sbe43_sample_20190907T000000.416410-20190927T184152.175125.nc successfully downloaded ---\n",
      "(MainThread) --- Checking deployment0007_RS01SBPS-SF01A-2A-CTDPFA102-streamed-ctdpf_sbe43_sample_20190907T000000.416410-20190927T184152.175125.nc ---\n",
      "(MainThread) --- Checks passed for deployment0007_RS01SBPS-SF01A-2A-CTDPFA102-streamed-ctdpf_sbe43_sample_20190907T000000.416410-20190927T184152.175125.nc ---\n"
     ]
    },
    {
     "data": {
      "text/plain": [
       "5"
      ]
     },
     "execution_count": 9,
     "metadata": {},
     "output_type": "execute_result"
    }
   ],
   "source": [
    "# Run this to download the data (possibly multiple files) from a completed data request from above\n",
    "# \n",
    "filenamelist = ooi.download_netcdfs()\n",
    "len(filenamelist)"
   ]
  },
  {
   "cell_type": "code",
   "execution_count": 18,
   "metadata": {},
   "outputs": [],
   "source": [
    "# Open dataset in read mode (dataset should be renamed after download)\n",
    "\n",
    "ds = xr.open_dataset('OreSlope_ShallProf_CTD_2019_09-07.nc')     #Open file as xarray dataset\n",
    "ds = ds.swap_dims({'obs':'time'})                          #Swap default 'obs' dimension for 'time'\n",
    "depth = 'seawater_pressure'"
   ]
  },
  {
   "cell_type": "code",
   "execution_count": 19,
   "metadata": {
    "collapsed": true,
    "jupyter": {
     "outputs_hidden": true
    }
   },
   "outputs": [
    {
     "data": {
      "text/plain": [
       "<xarray.Dataset>\n",
       "Dimensions:                                 (time: 1740330)\n",
       "Coordinates:\n",
       "    obs                                     (time) int32 0 1 ... 1740328 1740329\n",
       "  * time                                    (time) datetime64[ns] 2019-09-07T00:00:00.416410112 ... 2019-09-27T18:41:52.175124992\n",
       "    seawater_pressure                       (time) float64 ...\n",
       "    lat                                     (time) float64 ...\n",
       "    lon                                     (time) float64 ...\n",
       "Data variables:\n",
       "    deployment                              (time) int32 ...\n",
       "    id                                      (time) |S36 ...\n",
       "    conductivity                            (time) float64 ...\n",
       "    driver_timestamp                        (time) datetime64[ns] ...\n",
       "    ext_volt0                               (time) float64 ...\n",
       "    ingestion_timestamp                     (time) datetime64[ns] ...\n",
       "    internal_timestamp                      (time) datetime64[ns] ...\n",
       "    port_timestamp                          (time) datetime64[ns] ...\n",
       "    preferred_timestamp                     (time) object ...\n",
       "    pressure                                (time) float64 ...\n",
       "    pressure_temp                           (time) float64 ...\n",
       "    temperature                             (time) float64 ...\n",
       "    seawater_temperature                    (time) float64 ...\n",
       "    seawater_conductivity                   (time) float64 ...\n",
       "    practical_salinity                      (time) float64 ...\n",
       "    corrected_dissolved_oxygen              (time) float64 ...\n",
       "    density                                 (time) float64 ...\n",
       "    seawater_temperature_qc_executed        (time) uint8 ...\n",
       "    seawater_temperature_qc_results         (time) uint8 ...\n",
       "    seawater_pressure_qc_executed           (time) uint8 ...\n",
       "    seawater_pressure_qc_results            (time) uint8 ...\n",
       "    seawater_conductivity_qc_executed       (time) uint8 ...\n",
       "    seawater_conductivity_qc_results        (time) uint8 ...\n",
       "    corrected_dissolved_oxygen_qc_executed  (time) uint8 ...\n",
       "    corrected_dissolved_oxygen_qc_results   (time) uint8 ...\n",
       "    density_qc_executed                     (time) uint8 ...\n",
       "    density_qc_results                      (time) uint8 ...\n",
       "    practical_salinity_qc_executed          (time) uint8 ...\n",
       "    practical_salinity_qc_results           (time) uint8 ...\n",
       "Attributes:\n",
       "    node:                            SF01A\n",
       "    comment:                         \n",
       "    publisher_email:                 \n",
       "    sourceUrl:                       http://oceanobservatories.org/\n",
       "    collection_method:               streamed\n",
       "    stream:                          ctdpf_sbe43_sample\n",
       "    featureType:                     point\n",
       "    creator_email:                   \n",
       "    publisher_name:                  Ocean Observatories Initiative\n",
       "    date_modified:                   2020-03-24T17:06:02.080278\n",
       "    keywords:                        \n",
       "    cdm_data_type:                   Point\n",
       "    references:                      More information can be found at http://...\n",
       "    Metadata_Conventions:            Unidata Dataset Discovery v1.0\n",
       "    date_created:                    2020-03-24T17:06:02.080260\n",
       "    id:                              RS01SBPS-SF01A-2A-CTDPFA102-streamed-ctd...\n",
       "    requestUUID:                     2cb1105c-2aea-4497-b3be-7e4a6afeb50f\n",
       "    contributor_role:                \n",
       "    summary:                         Dataset Generated by Stream Engine from ...\n",
       "    keywords_vocabulary:             \n",
       "    institution:                     Ocean Observatories Initiative\n",
       "    naming_authority:                org.oceanobservatories\n",
       "    feature_Type:                    point\n",
       "    infoUrl:                         http://oceanobservatories.org/\n",
       "    license:                         \n",
       "    contributor_name:                \n",
       "    uuid:                            2cb1105c-2aea-4497-b3be-7e4a6afeb50f\n",
       "    creator_name:                    Ocean Observatories Initiative\n",
       "    title:                           Data produced by Stream Engine version 1...\n",
       "    sensor:                          2A-CTDPFA102\n",
       "    standard_name_vocabulary:        NetCDF Climate and Forecast (CF) Metadat...\n",
       "    acknowledgement:                 \n",
       "    Conventions:                     CF-1.6\n",
       "    project:                         Ocean Observatories Initiative\n",
       "    source:                          RS01SBPS-SF01A-2A-CTDPFA102-streamed-ctd...\n",
       "    publisher_url:                   http://oceanobservatories.org/\n",
       "    creator_url:                     http://oceanobservatories.org/\n",
       "    nodc_template_version:           NODC_NetCDF_TimeSeries_Orthogonal_Templa...\n",
       "    subsite:                         RS01SBPS\n",
       "    processing_level:                L2\n",
       "    history:                         2020-03-24T17:06:02.080186 generated fro...\n",
       "    time_coverage_start:             2019-09-07T00:00:00.416410\n",
       "    time_coverage_end:               2019-09-27T18:41:52.175125\n",
       "    time_coverage_resolution:        P1.03S\n",
       "    geospatial_lat_min:              44.52897\n",
       "    geospatial_lat_max:              44.52897\n",
       "    geospatial_lat_units:            degrees_north\n",
       "    geospatial_lat_resolution:       0.1\n",
       "    geospatial_lon_min:              -125.38966\n",
       "    geospatial_lon_max:              -125.38966\n",
       "    geospatial_lon_units:            degrees_east\n",
       "    geospatial_lon_resolution:       0.1\n",
       "    geospatial_vertical_units:       meters\n",
       "    geospatial_vertical_resolution:  0.1\n",
       "    geospatial_vertical_positive:    down"
      ]
     },
     "execution_count": 19,
     "metadata": {},
     "output_type": "execute_result"
    }
   ],
   "source": [
    "ds"
   ]
  },
  {
   "cell_type": "code",
   "execution_count": null,
   "metadata": {},
   "outputs": [],
   "source": [
    "for monthstring in ['01', '02', '03', '04', '05', '06', '07', '08', '09']:\n",
    "    for daystring in ['01', '15']:\n",
    "        datestring0 = '2019-' + monthstring + '-' + daystring + 'T08:30' \n",
    "        datestring1 = '2019-' + monthstring + '-' + daystring + 'T11:50' \n",
    "        ds1 = ds_mean.sel(time=slice(datestring0, datestring1))"
   ]
  }
 ],
 "metadata": {
  "kernelspec": {
   "display_name": "Python 3",
   "language": "python",
   "name": "python3"
  },
  "language_info": {
   "codemirror_mode": {
    "name": "ipython",
    "version": 3
   },
   "file_extension": ".py",
   "mimetype": "text/x-python",
   "name": "python",
   "nbconvert_exporter": "python",
   "pygments_lexer": "ipython3",
   "version": "3.8.2"
  }
 },
 "nbformat": 4,
 "nbformat_minor": 4
}
